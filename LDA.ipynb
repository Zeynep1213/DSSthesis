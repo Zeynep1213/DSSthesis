{
  "nbformat": 4,
  "nbformat_minor": 0,
  "metadata": {
    "colab": {
      "name": "LDA.ipynb",
      "provenance": [],
      "collapsed_sections": []
    },
    "kernelspec": {
      "name": "python3",
      "display_name": "Python 3"
    },
    "language_info": {
      "name": "python"
    }
  },
  "cells": [
    {
      "cell_type": "code",
      "source": [
        ""
      ],
      "metadata": {
        "id": "82UFHEYIBUQU",
        "colab": {
          "base_uri": "https://localhost:8080/"
        },
        "outputId": "b2c52aa3-e294-44eb-c550-6d4e6424d24b"
      },
      "execution_count": null,
      "outputs": [
        {
          "output_type": "stream",
          "name": "stdout",
          "text": [
            "Reinitialized existing Git repository in /content/DSS_thesis/.git/\n"
          ]
        }
      ]
    },
    {
      "cell_type": "code",
      "execution_count": null,
      "metadata": {
        "colab": {
          "base_uri": "https://localhost:8080/",
          "height": 441
        },
        "id": "WSNfAuaVtQQo",
        "outputId": "295fd451-6145-40d9-93ba-c6b7b19aed60"
      },
      "outputs": [
        {
          "output_type": "stream",
          "name": "stdout",
          "text": [
            "Mounted at /content/drive\n"
          ]
        },
        {
          "output_type": "execute_result",
          "data": {
            "text/plain": [
              "      Unnamed: 0                                                url  \\\n",
              "0              0  https://19thnews.org/2021/07/the-covid-delta-v...   \n",
              "1              1  https://19thnews.org/2020/11/karen-bass-addres...   \n",
              "2              2  https://19thnews.org/2020/08/kamala-harris-com...   \n",
              "3              3  https://19thnews.org/2020/11/kim-ng-mlb-first-...   \n",
              "4              4  https://19thnews.org/2020/12/shirley-sherrod-h...   \n",
              "...          ...                                                ...   \n",
              "2714        2780  https://www.zerohedge.com/political/state-wash...   \n",
              "2715        2781  https://www.zerohedge.com/geopolitical/biden-k...   \n",
              "2716        2793  https://www.zerohedge.com/political/we-want-re...   \n",
              "2717        2794  https://www.zerohedge.com/technology/here-are-...   \n",
              "2718        2795  https://www.zerohedge.com/political/dc-descend...   \n",
              "\n",
              "                                                   text  \n",
              "0     The highly contagious Delta variant of COVID-1...  \n",
              "1     We’re the only newsroom dedicated to writing a...  \n",
              "2     Read the latest story on how LGBTQ+ Americans ...  \n",
              "3     We’re the only newsroom dedicated to writing a...  \n",
              "4     As a nonprofit newsroom, members are critical ...  \n",
              "...                                                 ...  \n",
              "2714  Authored by Jonathan Turley,\\n\\nThe House Demo...  \n",
              "2715  The Biden administration has said it will cont...  \n",
              "2716  Update (2031ET): Someone on Twitter points out...  \n",
              "2717  Over the past week, President Trump has been k...  \n",
              "2718  Remember what happened after the last inaugura...  \n",
              "\n",
              "[2719 rows x 3 columns]"
            ],
            "text/html": [
              "\n",
              "  <div id=\"df-de3370f7-52bb-4439-a35a-7391f5970d7d\">\n",
              "    <div class=\"colab-df-container\">\n",
              "      <div>\n",
              "<style scoped>\n",
              "    .dataframe tbody tr th:only-of-type {\n",
              "        vertical-align: middle;\n",
              "    }\n",
              "\n",
              "    .dataframe tbody tr th {\n",
              "        vertical-align: top;\n",
              "    }\n",
              "\n",
              "    .dataframe thead th {\n",
              "        text-align: right;\n",
              "    }\n",
              "</style>\n",
              "<table border=\"1\" class=\"dataframe\">\n",
              "  <thead>\n",
              "    <tr style=\"text-align: right;\">\n",
              "      <th></th>\n",
              "      <th>Unnamed: 0</th>\n",
              "      <th>url</th>\n",
              "      <th>text</th>\n",
              "    </tr>\n",
              "  </thead>\n",
              "  <tbody>\n",
              "    <tr>\n",
              "      <th>0</th>\n",
              "      <td>0</td>\n",
              "      <td>https://19thnews.org/2021/07/the-covid-delta-v...</td>\n",
              "      <td>The highly contagious Delta variant of COVID-1...</td>\n",
              "    </tr>\n",
              "    <tr>\n",
              "      <th>1</th>\n",
              "      <td>1</td>\n",
              "      <td>https://19thnews.org/2020/11/karen-bass-addres...</td>\n",
              "      <td>We’re the only newsroom dedicated to writing a...</td>\n",
              "    </tr>\n",
              "    <tr>\n",
              "      <th>2</th>\n",
              "      <td>2</td>\n",
              "      <td>https://19thnews.org/2020/08/kamala-harris-com...</td>\n",
              "      <td>Read the latest story on how LGBTQ+ Americans ...</td>\n",
              "    </tr>\n",
              "    <tr>\n",
              "      <th>3</th>\n",
              "      <td>3</td>\n",
              "      <td>https://19thnews.org/2020/11/kim-ng-mlb-first-...</td>\n",
              "      <td>We’re the only newsroom dedicated to writing a...</td>\n",
              "    </tr>\n",
              "    <tr>\n",
              "      <th>4</th>\n",
              "      <td>4</td>\n",
              "      <td>https://19thnews.org/2020/12/shirley-sherrod-h...</td>\n",
              "      <td>As a nonprofit newsroom, members are critical ...</td>\n",
              "    </tr>\n",
              "    <tr>\n",
              "      <th>...</th>\n",
              "      <td>...</td>\n",
              "      <td>...</td>\n",
              "      <td>...</td>\n",
              "    </tr>\n",
              "    <tr>\n",
              "      <th>2714</th>\n",
              "      <td>2780</td>\n",
              "      <td>https://www.zerohedge.com/political/state-wash...</td>\n",
              "      <td>Authored by Jonathan Turley,\\n\\nThe House Demo...</td>\n",
              "    </tr>\n",
              "    <tr>\n",
              "      <th>2715</th>\n",
              "      <td>2781</td>\n",
              "      <td>https://www.zerohedge.com/geopolitical/biden-k...</td>\n",
              "      <td>The Biden administration has said it will cont...</td>\n",
              "    </tr>\n",
              "    <tr>\n",
              "      <th>2716</th>\n",
              "      <td>2793</td>\n",
              "      <td>https://www.zerohedge.com/political/we-want-re...</td>\n",
              "      <td>Update (2031ET): Someone on Twitter points out...</td>\n",
              "    </tr>\n",
              "    <tr>\n",
              "      <th>2717</th>\n",
              "      <td>2794</td>\n",
              "      <td>https://www.zerohedge.com/technology/here-are-...</td>\n",
              "      <td>Over the past week, President Trump has been k...</td>\n",
              "    </tr>\n",
              "    <tr>\n",
              "      <th>2718</th>\n",
              "      <td>2795</td>\n",
              "      <td>https://www.zerohedge.com/political/dc-descend...</td>\n",
              "      <td>Remember what happened after the last inaugura...</td>\n",
              "    </tr>\n",
              "  </tbody>\n",
              "</table>\n",
              "<p>2719 rows × 3 columns</p>\n",
              "</div>\n",
              "      <button class=\"colab-df-convert\" onclick=\"convertToInteractive('df-de3370f7-52bb-4439-a35a-7391f5970d7d')\"\n",
              "              title=\"Convert this dataframe to an interactive table.\"\n",
              "              style=\"display:none;\">\n",
              "        \n",
              "  <svg xmlns=\"http://www.w3.org/2000/svg\" height=\"24px\"viewBox=\"0 0 24 24\"\n",
              "       width=\"24px\">\n",
              "    <path d=\"M0 0h24v24H0V0z\" fill=\"none\"/>\n",
              "    <path d=\"M18.56 5.44l.94 2.06.94-2.06 2.06-.94-2.06-.94-.94-2.06-.94 2.06-2.06.94zm-11 1L8.5 8.5l.94-2.06 2.06-.94-2.06-.94L8.5 2.5l-.94 2.06-2.06.94zm10 10l.94 2.06.94-2.06 2.06-.94-2.06-.94-.94-2.06-.94 2.06-2.06.94z\"/><path d=\"M17.41 7.96l-1.37-1.37c-.4-.4-.92-.59-1.43-.59-.52 0-1.04.2-1.43.59L10.3 9.45l-7.72 7.72c-.78.78-.78 2.05 0 2.83L4 21.41c.39.39.9.59 1.41.59.51 0 1.02-.2 1.41-.59l7.78-7.78 2.81-2.81c.8-.78.8-2.07 0-2.86zM5.41 20L4 18.59l7.72-7.72 1.47 1.35L5.41 20z\"/>\n",
              "  </svg>\n",
              "      </button>\n",
              "      \n",
              "  <style>\n",
              "    .colab-df-container {\n",
              "      display:flex;\n",
              "      flex-wrap:wrap;\n",
              "      gap: 12px;\n",
              "    }\n",
              "\n",
              "    .colab-df-convert {\n",
              "      background-color: #E8F0FE;\n",
              "      border: none;\n",
              "      border-radius: 50%;\n",
              "      cursor: pointer;\n",
              "      display: none;\n",
              "      fill: #1967D2;\n",
              "      height: 32px;\n",
              "      padding: 0 0 0 0;\n",
              "      width: 32px;\n",
              "    }\n",
              "\n",
              "    .colab-df-convert:hover {\n",
              "      background-color: #E2EBFA;\n",
              "      box-shadow: 0px 1px 2px rgba(60, 64, 67, 0.3), 0px 1px 3px 1px rgba(60, 64, 67, 0.15);\n",
              "      fill: #174EA6;\n",
              "    }\n",
              "\n",
              "    [theme=dark] .colab-df-convert {\n",
              "      background-color: #3B4455;\n",
              "      fill: #D2E3FC;\n",
              "    }\n",
              "\n",
              "    [theme=dark] .colab-df-convert:hover {\n",
              "      background-color: #434B5C;\n",
              "      box-shadow: 0px 1px 3px 1px rgba(0, 0, 0, 0.15);\n",
              "      filter: drop-shadow(0px 1px 2px rgba(0, 0, 0, 0.3));\n",
              "      fill: #FFFFFF;\n",
              "    }\n",
              "  </style>\n",
              "\n",
              "      <script>\n",
              "        const buttonEl =\n",
              "          document.querySelector('#df-de3370f7-52bb-4439-a35a-7391f5970d7d button.colab-df-convert');\n",
              "        buttonEl.style.display =\n",
              "          google.colab.kernel.accessAllowed ? 'block' : 'none';\n",
              "\n",
              "        async function convertToInteractive(key) {\n",
              "          const element = document.querySelector('#df-de3370f7-52bb-4439-a35a-7391f5970d7d');\n",
              "          const dataTable =\n",
              "            await google.colab.kernel.invokeFunction('convertToInteractive',\n",
              "                                                     [key], {});\n",
              "          if (!dataTable) return;\n",
              "\n",
              "          const docLinkHtml = 'Like what you see? Visit the ' +\n",
              "            '<a target=\"_blank\" href=https://colab.research.google.com/notebooks/data_table.ipynb>data table notebook</a>'\n",
              "            + ' to learn more about interactive tables.';\n",
              "          element.innerHTML = '';\n",
              "          dataTable['output_type'] = 'display_data';\n",
              "          await google.colab.output.renderOutput(dataTable, element);\n",
              "          const docLink = document.createElement('div');\n",
              "          docLink.innerHTML = docLinkHtml;\n",
              "          element.appendChild(docLink);\n",
              "        }\n",
              "      </script>\n",
              "    </div>\n",
              "  </div>\n",
              "  "
            ]
          },
          "metadata": {},
          "execution_count": 4
        }
      ],
      "source": [
        "from google.colab import drive\n",
        "\n",
        "import pandas as pd\n",
        "\n",
        "\n",
        "papers = pd.read_csv('/content/drive/My Drive/articles.csv',)\n",
        "papers"
      ]
    },
    {
      "cell_type": "code",
      "source": [
        "# Remove the columns\n",
        "papers = papers.drop(columns=['Unnamed: 0', 'url'], axis=1)\n",
        "# sample only 100 papers\n",
        "papers = papers.sample(100)\n",
        "# Print out the first rows of papers\n",
        "papers.head()"
      ],
      "metadata": {
        "colab": {
          "base_uri": "https://localhost:8080/",
          "height": 206
        },
        "id": "VrVyHXQ5tq-Z",
        "outputId": "ff68d944-acb0-429d-96b8-91bb47b641ce"
      },
      "execution_count": null,
      "outputs": [
        {
          "output_type": "execute_result",
          "data": {
            "text/plain": [
              "                                                   text\n",
              "1515  Recently, the media disclosed that Transportat...\n",
              "308   Kamala Harris has not lived up to the hype.\\n\\...\n",
              "2101  Over the weekend, Madison Cawthorn, the Trumpy...\n",
              "1009  Officials at IU Health, the state's largest he...\n",
              "2106  In the week following Liz Cheney’s purge for t..."
            ],
            "text/html": [
              "\n",
              "  <div id=\"df-1a7d90bf-5109-4615-a503-ce8c68061ae7\">\n",
              "    <div class=\"colab-df-container\">\n",
              "      <div>\n",
              "<style scoped>\n",
              "    .dataframe tbody tr th:only-of-type {\n",
              "        vertical-align: middle;\n",
              "    }\n",
              "\n",
              "    .dataframe tbody tr th {\n",
              "        vertical-align: top;\n",
              "    }\n",
              "\n",
              "    .dataframe thead th {\n",
              "        text-align: right;\n",
              "    }\n",
              "</style>\n",
              "<table border=\"1\" class=\"dataframe\">\n",
              "  <thead>\n",
              "    <tr style=\"text-align: right;\">\n",
              "      <th></th>\n",
              "      <th>text</th>\n",
              "    </tr>\n",
              "  </thead>\n",
              "  <tbody>\n",
              "    <tr>\n",
              "      <th>1515</th>\n",
              "      <td>Recently, the media disclosed that Transportat...</td>\n",
              "    </tr>\n",
              "    <tr>\n",
              "      <th>308</th>\n",
              "      <td>Kamala Harris has not lived up to the hype.\\n\\...</td>\n",
              "    </tr>\n",
              "    <tr>\n",
              "      <th>2101</th>\n",
              "      <td>Over the weekend, Madison Cawthorn, the Trumpy...</td>\n",
              "    </tr>\n",
              "    <tr>\n",
              "      <th>1009</th>\n",
              "      <td>Officials at IU Health, the state's largest he...</td>\n",
              "    </tr>\n",
              "    <tr>\n",
              "      <th>2106</th>\n",
              "      <td>In the week following Liz Cheney’s purge for t...</td>\n",
              "    </tr>\n",
              "  </tbody>\n",
              "</table>\n",
              "</div>\n",
              "      <button class=\"colab-df-convert\" onclick=\"convertToInteractive('df-1a7d90bf-5109-4615-a503-ce8c68061ae7')\"\n",
              "              title=\"Convert this dataframe to an interactive table.\"\n",
              "              style=\"display:none;\">\n",
              "        \n",
              "  <svg xmlns=\"http://www.w3.org/2000/svg\" height=\"24px\"viewBox=\"0 0 24 24\"\n",
              "       width=\"24px\">\n",
              "    <path d=\"M0 0h24v24H0V0z\" fill=\"none\"/>\n",
              "    <path d=\"M18.56 5.44l.94 2.06.94-2.06 2.06-.94-2.06-.94-.94-2.06-.94 2.06-2.06.94zm-11 1L8.5 8.5l.94-2.06 2.06-.94-2.06-.94L8.5 2.5l-.94 2.06-2.06.94zm10 10l.94 2.06.94-2.06 2.06-.94-2.06-.94-.94-2.06-.94 2.06-2.06.94z\"/><path d=\"M17.41 7.96l-1.37-1.37c-.4-.4-.92-.59-1.43-.59-.52 0-1.04.2-1.43.59L10.3 9.45l-7.72 7.72c-.78.78-.78 2.05 0 2.83L4 21.41c.39.39.9.59 1.41.59.51 0 1.02-.2 1.41-.59l7.78-7.78 2.81-2.81c.8-.78.8-2.07 0-2.86zM5.41 20L4 18.59l7.72-7.72 1.47 1.35L5.41 20z\"/>\n",
              "  </svg>\n",
              "      </button>\n",
              "      \n",
              "  <style>\n",
              "    .colab-df-container {\n",
              "      display:flex;\n",
              "      flex-wrap:wrap;\n",
              "      gap: 12px;\n",
              "    }\n",
              "\n",
              "    .colab-df-convert {\n",
              "      background-color: #E8F0FE;\n",
              "      border: none;\n",
              "      border-radius: 50%;\n",
              "      cursor: pointer;\n",
              "      display: none;\n",
              "      fill: #1967D2;\n",
              "      height: 32px;\n",
              "      padding: 0 0 0 0;\n",
              "      width: 32px;\n",
              "    }\n",
              "\n",
              "    .colab-df-convert:hover {\n",
              "      background-color: #E2EBFA;\n",
              "      box-shadow: 0px 1px 2px rgba(60, 64, 67, 0.3), 0px 1px 3px 1px rgba(60, 64, 67, 0.15);\n",
              "      fill: #174EA6;\n",
              "    }\n",
              "\n",
              "    [theme=dark] .colab-df-convert {\n",
              "      background-color: #3B4455;\n",
              "      fill: #D2E3FC;\n",
              "    }\n",
              "\n",
              "    [theme=dark] .colab-df-convert:hover {\n",
              "      background-color: #434B5C;\n",
              "      box-shadow: 0px 1px 3px 1px rgba(0, 0, 0, 0.15);\n",
              "      filter: drop-shadow(0px 1px 2px rgba(0, 0, 0, 0.3));\n",
              "      fill: #FFFFFF;\n",
              "    }\n",
              "  </style>\n",
              "\n",
              "      <script>\n",
              "        const buttonEl =\n",
              "          document.querySelector('#df-1a7d90bf-5109-4615-a503-ce8c68061ae7 button.colab-df-convert');\n",
              "        buttonEl.style.display =\n",
              "          google.colab.kernel.accessAllowed ? 'block' : 'none';\n",
              "\n",
              "        async function convertToInteractive(key) {\n",
              "          const element = document.querySelector('#df-1a7d90bf-5109-4615-a503-ce8c68061ae7');\n",
              "          const dataTable =\n",
              "            await google.colab.kernel.invokeFunction('convertToInteractive',\n",
              "                                                     [key], {});\n",
              "          if (!dataTable) return;\n",
              "\n",
              "          const docLinkHtml = 'Like what you see? Visit the ' +\n",
              "            '<a target=\"_blank\" href=https://colab.research.google.com/notebooks/data_table.ipynb>data table notebook</a>'\n",
              "            + ' to learn more about interactive tables.';\n",
              "          element.innerHTML = '';\n",
              "          dataTable['output_type'] = 'display_data';\n",
              "          await google.colab.output.renderOutput(dataTable, element);\n",
              "          const docLink = document.createElement('div');\n",
              "          docLink.innerHTML = docLinkHtml;\n",
              "          element.appendChild(docLink);\n",
              "        }\n",
              "      </script>\n",
              "    </div>\n",
              "  </div>\n",
              "  "
            ]
          },
          "metadata": {},
          "execution_count": 5
        }
      ]
    },
    {
      "cell_type": "code",
      "source": [
        "# Load the regular expression library\n",
        "import re\n",
        "# Remove punctuation\n",
        "papers['text_processed'] = papers['text'].map(lambda x: re.sub('[,\\.!?]', '', x))\n",
        "# Convert the titles to lowercase\n",
        "papers['text_processed'] = papers['text_processed'].map(lambda x: x.lower())\n",
        "# Print out the first rows of papers\n",
        "papers['text_processed'].head()"
      ],
      "metadata": {
        "colab": {
          "base_uri": "https://localhost:8080/"
        },
        "id": "qXSWzoO27Hwk",
        "outputId": "89da1606-0e6d-4ad6-8be6-9c44a6d11a97"
      },
      "execution_count": null,
      "outputs": [
        {
          "output_type": "execute_result",
          "data": {
            "text/plain": [
              "1515    recently the media disclosed that transportati...\n",
              "308     kamala harris has not lived up to the hype\\n\\n...\n",
              "2101    over the weekend madison cawthorn the trumpy y...\n",
              "1009    officials at iu health the state's largest hea...\n",
              "2106    in the week following liz cheney’s purge for t...\n",
              "Name: text_processed, dtype: object"
            ]
          },
          "metadata": {},
          "execution_count": 6
        }
      ]
    },
    {
      "cell_type": "code",
      "source": [
        "import gensim\n",
        "from gensim.utils import simple_preprocess\n",
        "def sent_to_words(sentences):\n",
        "    for sentence in sentences:\n",
        "        yield(gensim.utils.simple_preprocess(str(sentence), deacc=True))  # deacc=True removes punctuations\n",
        "data = papers.text_processed.values.tolist()\n",
        "data_words = list(sent_to_words(data))\n",
        "print(data_words[:1][0][:30])"
      ],
      "metadata": {
        "colab": {
          "base_uri": "https://localhost:8080/"
        },
        "id": "5fahLS3x7Mwp",
        "outputId": "95e4526c-b3f2-46fa-f5b2-fa3c66c9ebf0"
      },
      "execution_count": null,
      "outputs": [
        {
          "output_type": "stream",
          "name": "stdout",
          "text": [
            "['recently', 'the', 'media', 'disclosed', 'that', 'transportation', 'secretary', 'pete', 'buttigieg', 'took', 'two', 'months', 'of', 'parental', 'leave', 'following', 'the', 'adoption', 'of', 'twins', 'this', 'news', 'led', 'to', 'arguments', 'online', 'about', 'whether', 'he', 'should']\n"
          ]
        }
      ]
    },
    {
      "cell_type": "code",
      "source": [
        "# Build the bigram and trigram models\n",
        "bigram = gensim.models.Phrases(data_words, min_count=5, threshold=100) # higher threshold fewer phrases.\n",
        "trigram = gensim.models.Phrases(bigram[data_words], threshold=100)\n",
        "# Faster way to get a sentence clubbed as a trigram/bigram\n",
        "bigram_mod = gensim.models.phrases.Phraser(bigram)\n",
        "trigram_mod = gensim.models.phrases.Phraser(trigram)"
      ],
      "metadata": {
        "colab": {
          "base_uri": "https://localhost:8080/"
        },
        "id": "LHRDUKDU7mj8",
        "outputId": "a16c9aea-3b9b-44e8-de32-8675985cfb47"
      },
      "execution_count": null,
      "outputs": [
        {
          "output_type": "stream",
          "name": "stderr",
          "text": [
            "/usr/local/lib/python3.7/dist-packages/gensim/models/phrases.py:598: UserWarning: For a faster implementation, use the gensim.models.phrases.Phraser class\n",
            "  warnings.warn(\"For a faster implementation, use the gensim.models.phrases.Phraser class\")\n"
          ]
        }
      ]
    },
    {
      "cell_type": "code",
      "source": [
        "# NLTK Stop words\n",
        "!pip install nltk\n",
        "!pip install -q wordcloud\n",
        "import wordcloud\n",
        "\n",
        "import nltk\n",
        "nltk.download('stopwords')\n",
        "nltk.download('wordnet')\n",
        "nltk.download('punkt')\n",
        "nltk.download('averaged_perceptron_tagger') \n",
        "\n",
        "import pandas as pd\n",
        "import matplotlib.pyplot as plt\n",
        "import io\n",
        "import unicodedata\n",
        "import numpy as np\n",
        "import re\n",
        "import string\n",
        "\n",
        "from nltk.corpus import stopwords\n",
        "stop_words = stopwords.words('english')\n",
        "\n",
        "stop_words.extend(['from', 'subject', 're', 'edu', 'use'])\n",
        "# Define functions for stopwords, bigrams, trigrams and lemmatization\n",
        "def remove_stopwords(texts):\n",
        "    return [[word for word in simple_preprocess(str(doc)) if word not in stop_words] for doc in texts]\n",
        "def make_bigrams(texts):\n",
        "    return [bigram_mod[doc] for doc in texts]\n",
        "def make_trigrams(texts):\n",
        "    return [trigram_mod[bigram_mod[doc]] for doc in texts]\n",
        "def lemmatization(texts, allowed_postags=['NOUN', 'ADJ', 'VERB', 'ADV']):\n",
        "    \"\"\"https://spacy.io/api/annotation\"\"\"\n",
        "    texts_out = []\n",
        "    for sent in texts:\n",
        "        doc = nlp(\" \".join(sent)) \n",
        "        texts_out.append([token.lemma_ for token in doc if token.pos_ in allowed_postags])\n",
        "    return texts_out"
      ],
      "metadata": {
        "colab": {
          "base_uri": "https://localhost:8080/"
        },
        "id": "xByCwofp7qwN",
        "outputId": "cfae5d8d-7a9c-439b-b0c4-6ea3d552008a"
      },
      "execution_count": null,
      "outputs": [
        {
          "output_type": "stream",
          "name": "stdout",
          "text": [
            "Requirement already satisfied: nltk in /usr/local/lib/python3.7/dist-packages (3.2.5)\n",
            "Requirement already satisfied: six in /usr/local/lib/python3.7/dist-packages (from nltk) (1.15.0)\n",
            "[nltk_data] Downloading package stopwords to /root/nltk_data...\n",
            "[nltk_data]   Unzipping corpora/stopwords.zip.\n",
            "[nltk_data] Downloading package wordnet to /root/nltk_data...\n",
            "[nltk_data]   Unzipping corpora/wordnet.zip.\n",
            "[nltk_data] Downloading package punkt to /root/nltk_data...\n",
            "[nltk_data]   Unzipping tokenizers/punkt.zip.\n",
            "[nltk_data] Downloading package averaged_perceptron_tagger to\n",
            "[nltk_data]     /root/nltk_data...\n",
            "[nltk_data]   Unzipping taggers/averaged_perceptron_tagger.zip.\n"
          ]
        }
      ]
    },
    {
      "cell_type": "code",
      "source": [
        "import spacy\n",
        "# Remove Stop Words\n",
        "data_words_nostops = remove_stopwords(data_words)\n",
        "# Form Bigrams\n",
        "data_words_bigrams = make_bigrams(data_words_nostops)\n",
        "# Initialize spacy 'en' model, keeping only tagger component (for efficiency)\n",
        "nlp = spacy.load(\"en_core_web_sm\", disable=['parser', 'ner'])\n",
        "# Do lemmatization keeping only noun, adj, vb, adv\n",
        "data_lemmatized = lemmatization(data_words_bigrams, allowed_postags=['NOUN', 'ADJ', 'VERB', 'ADV'])\n",
        "print(data_lemmatized[:1])"
      ],
      "metadata": {
        "colab": {
          "base_uri": "https://localhost:8080/"
        },
        "id": "n4wla65U7vLM",
        "outputId": "29fe85c8-aae5-4c04-d0ae-653170c5e97e"
      },
      "execution_count": null,
      "outputs": [
        {
          "output_type": "stream",
          "name": "stdout",
          "text": [
            "[['recently', 'medium', 'disclose', 'take', 'month', 'parental', 'leave', 'follow', 'adoption', 'news', 'lead', 'argument', 'online', 'do', 'global', 'supply', 'chain', 'crisis', 'man', 'take', 'parental', 'leave', 'privileged', 'class', 'get', 'much', 'time', 'miss', 'significant', 'opportunity', 'defend', 'absence', 'leave', 'loudly', 'declare', 'importance', 'parent', 'spending', 'time', 'child', 'advocate', 'family', 'spending', 'time', 'together', 'note', 'importance', 'parent', 'child', 'bond', 'agree', 'wholeheartedly', 'point', 'challenge', 'policy', 'push', 'year', 'discourage', 'family', 'formation', 'extend', 'adolescence', 'make', 'housing', 'expensive', 'deemphasize', 'role', 'father', 'time', 'conservative', 'change', 'strategy', 'scream', 'stop', 'stand', 'athwart', 'history', 'say', 'completely', 'different', 'young', 'adult', 'country', 'marry', 'less', 'few', 'child', 'trend', 'feature', 'society', 'decline', 'strong', 'family', 'building', 'block', 'free', 'prosperous', 'society', 'nee', 'look', 'history', 'authoritarian', 'regime', 'know', 'family', 'first', 'thing', 'destroy', 'may', 'horrific', 'example', 'destroy', 'eastern', 'tradition', 'honor', 'elder', 'young', 'revolutionary', 'report', 'beat', 'even', 'murder', 'old', 'relative', 'tax', 'social', 'policy', 'enforce', 'politically', 'correct', 'view', 'family', 'configuration', 'equally', 'desirable', 'could', 'even', 'argue', 'many', 'discourage', 'traditional', 'marriage', 'impose', 'monetary', 'penalty', 'father', 'remain', 'home', 'view', 'ignore', 'decade', 'research', 'confirm', 'child', 'intact', 'heterosexual', 'marriage', 'successful', 'population', 'surprise', 'decline', 'traditional', 'marriage', 'childbeare', 'accelerate', 'passage', 'legislation', 'purport', 'wage', 'war', 'poverty', 'relate', 'dangerous', 'proposal', 'biden', 'bloated', 'budget', 'shock', 'architect', 'program', 'commit', 'trotskyist', 'trotsky', 'envision', 'perpetual', 'revolution', 'global', 'scale', 'can', 'occur', 'solid', 'family', 'prosperous', 'middle', 'class', 'economic', 'mobility', 'exist', 'view', 'disenfranchise', 'care', 'notably', 'paternalistic', 'government', 'assert', 'million', 'live', 'culture', 'poverty', 'argue', 'culture', 'render', 'poor', 'incapable', 'improve', 'situation', 'believe', 'capitalist', 'society', 'could', 'provide', 'poor', 'opportunity', 'dignified', 'life', 'must', 'cared', 'state', 'put', 'describe', 'system', 'could', 'create', 'permanent', 'underclass', 'good', 'expression', 'video', 'scrub', 'internet', 'even', 'find', 'horrify', 'build', 'back', 'well', 'plan', 'include', 'raft', 'policy', 'discourage', 'strong', 'family', 'encourage', 'put', 'child', 'government', 'fund', 'care', 'shortly', 'pay', 'parental', 'leave', 'end', 'suppose', 'excite', 'increase', 'marriage', 'penalty', 'earn', 'income', 'tax', 'credit', 'also', 'extend', 'adolescence', 'pay', 'grade', 'government', 'run', 'education', 'child', 'year', 'pre', 'system', 'produce', 'horrible', 'result', 'let', 'even', 'pro', 'act', 'seek', 'reduce', 'freelance', 'contract', 'opportunity', 'allow', 'parent', 'work', 'home', 'spend', 'less', 'childcare', 'time', 'child', 'leave', 'lean', 'note', 'decline', 'traditional', 'family', 'class', 'issue', 'report', 'national', 'sum', 'well', 'marriage', 'emerge', 'divide', 'line', 'moderately', 'educate', 'college', 'degree', 'group', 'marriage', 'largely', 'disappear', 'include', 'unskilled', 'black', 'unskilled', 'white', 'indeed', 'young', 'woman', 'college', 'degree', 'unwe', 'childbeare', 'new', 'normal', 'additional', 'trend', 'few', 'child', 'period', 'birth', 'rate', 'hit', 'new', 'record', 'low', 'sixth', 'consecutive', 'year', 'remain', 'replacement', 'rate', 'problem', 'include', 'financial', 'barrier', 'successful', 'family', 'formation', 'create', 'prolong', 'adolescence', 'dependence', 'income', 'cost', 'childcare', 'skyrocket', 'housing', 'cost', 'relate', 'dem', 'union', 'bill', 'would', 'tax', 'worker', 'cost', 'job', 'new', 'study', 'find', 'rather', 'increase', 'salary', 'childcare', 'provider', 'expand', 'childcare', 'subsidy', 'build', 'well', 'boondoggle', 'conservative', 'advocate', 'provide', 'tax', 'credit', 'credit', 'need', 'substantial', 'percentage', 'last_year', 'earning', 'parent', 'stay', 'home', 'care', 'child', 'substantial', 'mean', 'structure', 'well', 'family', 'include', 'childcare', 'worker', 'may', 'want', 'child', 'think', 'couple', 'could', 'structure', 'monthly', 'expense', 'live', 'mean', 'substantial', 'portion', 'work', 'parent', 'salary', 'base', 'average', 'wage', 'indeed', 'welder', 'could', 'count', 'additional', 'tax', 'credit', 'top', 'standard', 'deduction', 'would', 'childcare', 'expense', 'none', 'fuel', 'food', 'cost', 'associate', 'commute', 'work', 'average', 'american', 'couple', 'could', 'save', 'spend', 'line', 'goal', 'start', 'family', 'employer', 'would', 'benefit', 'planning', 'month', 'recruit', 'train', 'promote', 'transition', 'employee', 'vacant', 'position', 'leave', 'parent', 'stay', 'home', 'would', 'also', 'make', 'return', 'stay', 'home', 'parent', 'common', 'occurrence', 'instead', 'employment', 'gap', 'difficult', 'overcome', 'woman', 'return', 'often', 'post', 'pandemic', 'media', 'assume', 'perhaps', 'prefer', 'stay', 'home', 'child', 'important', 'beneficiary', 'policy', 'encourage', 'family', 'formation', 'child', 'brooking', 'also', 'note', 'difference', 'family', 'formation', 'problem', 'concern', 'family', 'value', 'also', 'concern', 'upward', 'mobility', 'society', 'value', 'equal', 'opportunity', 'child', 'breakdown', 'traditional', 'family', 'overwhelmingly', 'occur', 'work', 'class', 'race', 'trend', 'threaten', 'make', 'much', 'class', 'base', 'society', 'time', 'well', 'educate', 'upper', 'middle', 'class', 'parent', 'still', 'form', 'parent', 'family', 'able', 'invest', 'time', 'resource', 'child', 'time', 'resource', 'low', 'working', 'class', 'single', 'mother', 'however', 'impressive', 'effort', 'good', 'parent', 'good', 'breadwinner', 'simply', 'lose', 'economic', 'mobility', 'generation', 'lose', 'american', 'dream', 'bargain', 'willing', 'make', 'let', 'make', 'family', 'income', 'level', 'watch', 'resourceful', 'user', 'put', 'back', 'internet', 'build', 'well', 'agenda', 'lead']]\n"
          ]
        }
      ]
    },
    {
      "cell_type": "code",
      "source": [
        "import gensim.corpora as corpora\n",
        "# Create Dictionary\n",
        "id2word = corpora.Dictionary(data_lemmatized)\n",
        "# Create Corpus\n",
        "texts = data_lemmatized\n",
        "# Term Document Frequency\n",
        "corpus = [id2word.doc2bow(text) for text in texts]\n",
        "# View\n",
        "print(corpus[:1])"
      ],
      "metadata": {
        "colab": {
          "base_uri": "https://localhost:8080/"
        },
        "id": "yRfhPhHU8wZm",
        "outputId": "a4ffccc0-64f3-4cd7-83cd-13dbde516a64"
      },
      "execution_count": null,
      "outputs": [
        {
          "output_type": "stream",
          "name": "stdout",
          "text": [
            "[[(0, 1), (1, 1), (2, 1), (3, 1), (4, 2), (5, 3), (6, 1), (7, 1), (8, 2), (9, 1), (10, 1), (11, 1), (12, 4), (13, 2), (14, 1), (15, 2), (16, 1), (17, 1), (18, 1), (19, 1), (20, 1), (21, 1), (22, 2), (23, 2), (24, 1), (25, 1), (26, 2), (27, 1), (28, 1), (29, 1), (30, 1), (31, 1), (32, 1), (33, 1), (34, 1), (35, 1), (36, 1), (37, 1), (38, 1), (39, 1), (40, 1), (41, 1), (42, 1), (43, 3), (44, 1), (45, 1), (46, 1), (47, 3), (48, 1), (49, 1), (50, 1), (51, 1), (52, 14), (53, 2), (54, 6), (55, 7), (56, 2), (57, 1), (58, 1), (59, 1), (60, 1), (61, 2), (62, 1), (63, 1), (64, 1), (65, 2), (66, 1), (67, 1), (68, 4), (69, 6), (70, 1), (71, 1), (72, 2), (73, 2), (74, 4), (75, 1), (76, 2), (77, 1), (78, 1), (79, 1), (80, 3), (81, 1), (82, 1), (83, 1), (84, 2), (85, 1), (86, 1), (87, 1), (88, 1), (89, 2), (90, 1), (91, 1), (92, 1), (93, 1), (94, 1), (95, 1), (96, 3), (97, 1), (98, 1), (99, 1), (100, 1), (101, 1), (102, 1), (103, 1), (104, 2), (105, 2), (106, 1), (107, 1), (108, 1), (109, 1), (110, 1), (111, 1), (112, 1), (113, 2), (114, 1), (115, 1), (116, 1), (117, 1), (118, 1), (119, 4), (120, 1), (121, 1), (122, 1), (123, 1), (124, 2), (125, 1), (126, 1), (127, 2), (128, 17), (129, 2), (130, 1), (131, 2), (132, 1), (133, 2), (134, 1), (135, 1), (136, 1), (137, 1), (138, 4), (139, 1), (140, 1), (141, 1), (142, 1), (143, 1), (144, 1), (145, 1), (146, 2), (147, 1), (148, 3), (149, 3), (150, 1), (151, 1), (152, 1), (153, 2), (154, 1), (155, 6), (156, 1), (157, 1), (158, 1), (159, 1), (160, 2), (161, 1), (162, 1), (163, 2), (164, 1), (165, 1), (166, 1), (167, 1), (168, 1), (169, 4), (170, 3), (171, 2), (172, 2), (173, 1), (174, 1), (175, 2), (176, 1), (177, 1), (178, 1), (179, 1), (180, 1), (181, 1), (182, 2), (183, 1), (184, 6), (185, 1), (186, 2), (187, 2), (188, 1), (189, 1), (190, 2), (191, 2), (192, 1), (193, 2), (194, 1), (195, 2), (196, 5), (197, 1), (198, 1), (199, 6), (200, 1), (201, 2), (202, 2), (203, 1), (204, 1), (205, 2), (206, 1), (207, 1), (208, 3), (209, 1), (210, 1), (211, 2), (212, 1), (213, 1), (214, 2), (215, 1), (216, 1), (217, 1), (218, 1), (219, 1), (220, 3), (221, 1), (222, 1), (223, 1), (224, 1), (225, 3), (226, 2), (227, 1), (228, 1), (229, 1), (230, 1), (231, 4), (232, 1), (233, 1), (234, 1), (235, 10), (236, 3), (237, 1), (238, 1), (239, 2), (240, 2), (241, 1), (242, 1), (243, 1), (244, 1), (245, 1), (246, 1), (247, 1), (248, 1), (249, 4), (250, 1), (251, 2), (252, 1), (253, 1), (254, 1), (255, 1), (256, 2), (257, 1), (258, 1), (259, 1), (260, 1), (261, 2), (262, 1), (263, 1), (264, 1), (265, 1), (266, 1), (267, 2), (268, 2), (269, 1), (270, 1), (271, 1), (272, 3), (273, 1), (274, 1), (275, 2), (276, 1), (277, 1), (278, 1), (279, 1), (280, 1), (281, 1), (282, 2), (283, 1), (284, 2), (285, 1), (286, 1), (287, 2), (288, 1), (289, 2), (290, 1), (291, 1), (292, 2), (293, 1), (294, 1), (295, 1), (296, 1), (297, 2), (298, 1), (299, 1), (300, 1), (301, 1), (302, 1), (303, 1), (304, 1), (305, 1), (306, 1), (307, 1), (308, 1), (309, 1), (310, 1), (311, 1), (312, 1), (313, 5), (314, 1), (315, 2), (316, 2), (317, 1), (318, 1), (319, 1), (320, 1), (321, 4), (322, 1), (323, 1), (324, 1), (325, 2), (326, 2), (327, 1), (328, 1), (329, 3), (330, 2), (331, 1), (332, 1), (333, 1), (334, 1), (335, 2), (336, 2), (337, 5), (338, 1), (339, 1), (340, 1), (341, 8), (342, 1), (343, 1), (344, 1), (345, 4), (346, 1), (347, 1), (348, 3), (349, 1), (350, 1), (351, 1), (352, 1), (353, 2), (354, 1), (355, 1), (356, 1), (357, 1), (358, 1), (359, 2), (360, 1), (361, 3), (362, 2), (363, 1), (364, 1), (365, 1), (366, 1), (367, 6), (368, 1), (369, 1), (370, 1), (371, 2), (372, 4), (373, 2), (374, 1), (375, 4), (376, 3), (377, 3)]]\n"
          ]
        }
      ]
    },
    {
      "cell_type": "code",
      "source": [
        "# Build LDA model\n",
        "lda_model = gensim.models.LdaMulticore(corpus=corpus,\n",
        "                                       id2word=id2word,\n",
        "                                       num_topics=10, \n",
        "                                       random_state=100,\n",
        "                                       chunksize=100,\n",
        "                                       passes=10,\n",
        "                                       per_word_topics=True)"
      ],
      "metadata": {
        "id": "T6LAN_8Z80yw"
      },
      "execution_count": null,
      "outputs": []
    },
    {
      "cell_type": "code",
      "source": [
        "from pprint import pprint\n",
        "# Print the Keyword in the 10 topics\n",
        "pprint(lda_model.print_topics())\n",
        "doc_lda = lda_model[corpus]"
      ],
      "metadata": {
        "colab": {
          "base_uri": "https://localhost:8080/"
        },
        "id": "sv0s7Xg383SI",
        "outputId": "c48bfe2b-3ab5-4d04-be73-73875e46a6d0"
      },
      "execution_count": null,
      "outputs": [
        {
          "output_type": "stream",
          "name": "stdout",
          "text": [
            "[(0,\n",
            "  '0.007*\"even\" + 0.006*\"state\" + 0.006*\"attack\" + 0.005*\"threat\" + '\n",
            "  '0.005*\"political\" + 0.004*\"terrorist\" + 0.004*\"far\" + 0.004*\"dangerous\" + '\n",
            "  '0.004*\"also\" + 0.003*\"evangelical\"'),\n",
            " (1,\n",
            "  '0.013*\"say\" + 0.006*\"people\" + 0.006*\"year\" + 0.005*\"make\" + 0.005*\"child\" '\n",
            "  '+ 0.004*\"time\" + 0.004*\"trump\" + 0.004*\"family\" + 0.004*\"many\" + '\n",
            "  '0.004*\"haitian\"'),\n",
            " (2,\n",
            "  '0.010*\"say\" + 0.009*\"receive\" + 0.009*\"patient\" + 0.007*\"plasma\" + '\n",
            "  '0.006*\"covid\" + 0.006*\"library\" + 0.005*\"case\" + 0.005*\"program\" + '\n",
            "  '0.005*\"death\" + 0.004*\"child\"'),\n",
            " (3,\n",
            "  '0.008*\"say\" + 0.008*\"trump\" + 0.005*\"write\" + 0.005*\"go\" + 0.005*\"agent\" + '\n",
            "  '0.005*\"state\" + 0.005*\"would\" + 0.005*\"also\" + 0.004*\"election\" + '\n",
            "  '0.004*\"vote\"'),\n",
            " (4,\n",
            "  '0.009*\"police\" + 0.007*\"percent\" + 0.006*\"say\" + 0.006*\"recycle\" + '\n",
            "  '0.005*\"support\" + 0.005*\"also\" + 0.005*\"get\" + 0.005*\"people\" + '\n",
            "  '0.005*\"power\" + 0.005*\"movement\"'),\n",
            " (5,\n",
            "  '0.010*\"say\" + 0.007*\"victim\" + 0.006*\"people\" + 0.006*\"would\" + '\n",
            "  '0.005*\"sunrise\" + 0.005*\"assault\" + 0.004*\"go\" + 0.004*\"report\" + '\n",
            "  '0.004*\"come\" + 0.004*\"sexual\"'),\n",
            " (6,\n",
            "  '0.033*\"election\" + 0.022*\"vote\" + 0.020*\"voter\" + 0.014*\"ballot\" + '\n",
            "  '0.014*\"state\" + 0.009*\"say\" + 0.006*\"bill\" + 0.006*\"issue\" + 0.005*\"voting\" '\n",
            "  '+ 0.005*\"mail\"'),\n",
            " (7,\n",
            "  '0.015*\"say\" + 0.011*\"worker\" + 0.007*\"would\" + 0.006*\"case\" + 0.005*\"state\" '\n",
            "  '+ 0.005*\"work\" + 0.005*\"also\" + 0.005*\"report\" + 0.005*\"percent\" + '\n",
            "  '0.005*\"go\"'),\n",
            " (8,\n",
            "  '0.014*\"say\" + 0.010*\"trump\" + 0.009*\"industry\" + 0.006*\"would\" + '\n",
            "  '0.006*\"license\" + 0.006*\"know\" + 0.005*\"business\" + 0.004*\"get\" + '\n",
            "  '0.004*\"could\" + 0.004*\"way\"'),\n",
            " (9,\n",
            "  '0.017*\"say\" + 0.012*\"people\" + 0.006*\"water\" + 0.006*\"year\" + 0.006*\"make\" '\n",
            "  '+ 0.005*\"get\" + 0.005*\"state\" + 0.005*\"leave\" + 0.005*\"work\" + '\n",
            "  '0.004*\"time\"')]\n"
          ]
        }
      ]
    },
    {
      "cell_type": "code",
      "source": [
        "from gensim.models import CoherenceModel\n",
        "# Compute Coherence Score\n",
        "coherence_model_lda = CoherenceModel(model=lda_model, texts=data_lemmatized, dictionary=id2word, coherence='c_v')\n",
        "coherence_lda = coherence_model_lda.get_coherence()\n",
        "print('\\nCoherence Score: ', coherence_lda)"
      ],
      "metadata": {
        "colab": {
          "base_uri": "https://localhost:8080/"
        },
        "id": "d7Fh0N9M85NH",
        "outputId": "01b5c186-81f8-49b9-cbd8-2e6477ec26b8"
      },
      "execution_count": null,
      "outputs": [
        {
          "output_type": "stream",
          "name": "stdout",
          "text": [
            "\n",
            "Coherence Score:  0.3059719505928523\n"
          ]
        }
      ]
    },
    {
      "cell_type": "code",
      "source": [
        "# supporting function\n",
        "def compute_coherence_values(corpus, dictionary, k, a, b):\n",
        "    \n",
        "    lda_model = gensim.models.LdaMulticore(corpus=corpus,\n",
        "                                           id2word=dictionary,\n",
        "                                           num_topics=k, \n",
        "                                           random_state=100,\n",
        "                                           chunksize=100,\n",
        "                                           passes=10,\n",
        "                                           alpha=a,\n",
        "                                           eta=b)\n",
        "    \n",
        "    coherence_model_lda = CoherenceModel(model=lda_model, texts=data_lemmatized, dictionary=id2word, coherence='c_v')\n",
        "    \n",
        "    return coherence_model_lda.get_coherence()"
      ],
      "metadata": {
        "id": "1VRSv47W89nM"
      },
      "execution_count": null,
      "outputs": []
    },
    {
      "cell_type": "code",
      "source": [
        "import numpy as np\n",
        "import tqdm\n",
        "grid = {}\n",
        "grid['Validation_Set'] = {}\n",
        "# Topics range\n",
        "min_topics = 2\n",
        "max_topics = 11\n",
        "step_size = 1\n",
        "topics_range = range(min_topics, max_topics, step_size)\n",
        "# Alpha parameter\n",
        "alpha = list(np.arange(0.01, 1, 0.3))\n",
        "alpha.append('symmetric')\n",
        "alpha.append('asymmetric')\n",
        "# Beta parameter\n",
        "beta = list(np.arange(0.01, 1, 0.3))\n",
        "beta.append('symmetric')\n",
        "# Validation sets\n",
        "num_of_docs = len(corpus)\n",
        "corpus_sets = [# gensim.utils.ClippedCorpus(corpus, num_of_docs*0.25), \n",
        "               # gensim.utils.ClippedCorpus(corpus, num_of_docs*0.5), \n",
        "               gensim.utils.ClippedCorpus(corpus, int(num_of_docs*0.75)), \n",
        "               corpus]\n",
        "corpus_title = ['75% Corpus', '100% Corpus']\n",
        "model_results = {'Validation_Set': [],\n",
        "                 'Topics': [],\n",
        "                 'Alpha': [],\n",
        "                 'Beta': [],\n",
        "                 'Coherence': []\n",
        "                }\n",
        "# Can take a long time to run\n",
        "if 1 == 1:\n",
        "    pbar = tqdm.tqdm(total=540)\n",
        "    \n",
        "    # iterate through validation corpuses\n",
        "    for i in range(len(corpus_sets)):\n",
        "        # iterate through number of topics\n",
        "        for k in topics_range:\n",
        "            # iterate through alpha values\n",
        "            for a in alpha:\n",
        "                # iterare through beta values\n",
        "                for b in beta:\n",
        "                    # get the coherence score for the given parameters\n",
        "                    cv = compute_coherence_values(corpus=corpus_sets[i], dictionary=id2word, \n",
        "                                                  k=k, a=a, b=b)\n",
        "                    # Save the model results\n",
        "                    model_results['Validation_Set'].append(corpus_title[i])\n",
        "                    model_results['Topics'].append(k)\n",
        "                    model_results['Alpha'].append(a)\n",
        "                    model_results['Beta'].append(b)\n",
        "                    model_results['Coherence'].append(cv)\n",
        "                    \n",
        "                    pbar.update(1)\n",
        "    pd.DataFrame(model_results).to_csv('lda_tuning_results.csv', index=False)\n",
        "    pbar.close()"
      ],
      "metadata": {
        "colab": {
          "base_uri": "https://localhost:8080/"
        },
        "id": "WyrJFmYR9Bm0",
        "outputId": "7a45f37c-cfe9-46a6-cfac-d10d1e21ec9c"
      },
      "execution_count": null,
      "outputs": [
        {
          "output_type": "stream",
          "name": "stderr",
          "text": [
            "\r  0%|          | 0/540 [00:00<?, ?it/s]/usr/local/lib/python3.7/dist-packages/gensim/models/ldamodel.py:1023: RuntimeWarning: divide by zero encountered in log\n",
            "  diff = np.log(self.expElogbeta)\n",
            "100%|██████████| 540/540 [39:29<00:00,  4.39s/it]\n"
          ]
        }
      ]
    },
    {
      "cell_type": "code",
      "source": [
        "lda_model = gensim.models.LdaMulticore(corpus=corpus,\n",
        "                                           id2word=id2word,\n",
        "                                           num_topics=8, \n",
        "                                           random_state=100,\n",
        "                                           chunksize=100,\n",
        "                                           passes=10,\n",
        "                                           alpha=0.01,\n",
        "                                           eta=0.9)"
      ],
      "metadata": {
        "id": "pIf5Ej679Fci"
      },
      "execution_count": null,
      "outputs": []
    },
    {
      "cell_type": "code",
      "source": [
        "lda_tuning_posts= pd.read_csv('lda_tuning_results.csv', lineterminator=\"\\n\")"
      ],
      "metadata": {
        "id": "F4uBZQE19nf6"
      },
      "execution_count": null,
      "outputs": []
    },
    {
      "cell_type": "code",
      "source": [
        "lda_tuning_posts.sort_values([\"Coherence\"], ascending=[False]).head(10)"
      ],
      "metadata": {
        "colab": {
          "base_uri": "https://localhost:8080/",
          "height": 363
        },
        "id": "Ofs0kp179pLU",
        "outputId": "34e61073-0fa2-49ed-f584-5bd1f4331ad4"
      },
      "execution_count": null,
      "outputs": [
        {
          "output_type": "execute_result",
          "data": {
            "text/plain": [
              "    Validation_Set  Topics               Alpha                Beta  Coherence\n",
              "207     75% Corpus       8          asymmetric                0.61   0.525579\n",
              "513    100% Corpus      10                0.01  0.9099999999999999   0.508919\n",
              "453    100% Corpus       8                0.01  0.9099999999999999   0.507798\n",
              "538    100% Corpus      10          asymmetric  0.9099999999999999   0.492304\n",
              "533    100% Corpus      10           symmetric  0.9099999999999999   0.489613\n",
              "478    100% Corpus       8          asymmetric  0.9099999999999999   0.488428\n",
              "468    100% Corpus       8  0.9099999999999999  0.9099999999999999   0.482334\n",
              "202     75% Corpus       8           symmetric                0.61   0.479188\n",
              "463    100% Corpus       8                0.61  0.9099999999999999   0.463443\n",
              "183     75% Corpus       8                0.01  0.9099999999999999   0.461955"
            ],
            "text/html": [
              "\n",
              "  <div id=\"df-325f26da-3d95-45d5-b968-820645d4332c\">\n",
              "    <div class=\"colab-df-container\">\n",
              "      <div>\n",
              "<style scoped>\n",
              "    .dataframe tbody tr th:only-of-type {\n",
              "        vertical-align: middle;\n",
              "    }\n",
              "\n",
              "    .dataframe tbody tr th {\n",
              "        vertical-align: top;\n",
              "    }\n",
              "\n",
              "    .dataframe thead th {\n",
              "        text-align: right;\n",
              "    }\n",
              "</style>\n",
              "<table border=\"1\" class=\"dataframe\">\n",
              "  <thead>\n",
              "    <tr style=\"text-align: right;\">\n",
              "      <th></th>\n",
              "      <th>Validation_Set</th>\n",
              "      <th>Topics</th>\n",
              "      <th>Alpha</th>\n",
              "      <th>Beta</th>\n",
              "      <th>Coherence</th>\n",
              "    </tr>\n",
              "  </thead>\n",
              "  <tbody>\n",
              "    <tr>\n",
              "      <th>207</th>\n",
              "      <td>75% Corpus</td>\n",
              "      <td>8</td>\n",
              "      <td>asymmetric</td>\n",
              "      <td>0.61</td>\n",
              "      <td>0.525579</td>\n",
              "    </tr>\n",
              "    <tr>\n",
              "      <th>513</th>\n",
              "      <td>100% Corpus</td>\n",
              "      <td>10</td>\n",
              "      <td>0.01</td>\n",
              "      <td>0.9099999999999999</td>\n",
              "      <td>0.508919</td>\n",
              "    </tr>\n",
              "    <tr>\n",
              "      <th>453</th>\n",
              "      <td>100% Corpus</td>\n",
              "      <td>8</td>\n",
              "      <td>0.01</td>\n",
              "      <td>0.9099999999999999</td>\n",
              "      <td>0.507798</td>\n",
              "    </tr>\n",
              "    <tr>\n",
              "      <th>538</th>\n",
              "      <td>100% Corpus</td>\n",
              "      <td>10</td>\n",
              "      <td>asymmetric</td>\n",
              "      <td>0.9099999999999999</td>\n",
              "      <td>0.492304</td>\n",
              "    </tr>\n",
              "    <tr>\n",
              "      <th>533</th>\n",
              "      <td>100% Corpus</td>\n",
              "      <td>10</td>\n",
              "      <td>symmetric</td>\n",
              "      <td>0.9099999999999999</td>\n",
              "      <td>0.489613</td>\n",
              "    </tr>\n",
              "    <tr>\n",
              "      <th>478</th>\n",
              "      <td>100% Corpus</td>\n",
              "      <td>8</td>\n",
              "      <td>asymmetric</td>\n",
              "      <td>0.9099999999999999</td>\n",
              "      <td>0.488428</td>\n",
              "    </tr>\n",
              "    <tr>\n",
              "      <th>468</th>\n",
              "      <td>100% Corpus</td>\n",
              "      <td>8</td>\n",
              "      <td>0.9099999999999999</td>\n",
              "      <td>0.9099999999999999</td>\n",
              "      <td>0.482334</td>\n",
              "    </tr>\n",
              "    <tr>\n",
              "      <th>202</th>\n",
              "      <td>75% Corpus</td>\n",
              "      <td>8</td>\n",
              "      <td>symmetric</td>\n",
              "      <td>0.61</td>\n",
              "      <td>0.479188</td>\n",
              "    </tr>\n",
              "    <tr>\n",
              "      <th>463</th>\n",
              "      <td>100% Corpus</td>\n",
              "      <td>8</td>\n",
              "      <td>0.61</td>\n",
              "      <td>0.9099999999999999</td>\n",
              "      <td>0.463443</td>\n",
              "    </tr>\n",
              "    <tr>\n",
              "      <th>183</th>\n",
              "      <td>75% Corpus</td>\n",
              "      <td>8</td>\n",
              "      <td>0.01</td>\n",
              "      <td>0.9099999999999999</td>\n",
              "      <td>0.461955</td>\n",
              "    </tr>\n",
              "  </tbody>\n",
              "</table>\n",
              "</div>\n",
              "      <button class=\"colab-df-convert\" onclick=\"convertToInteractive('df-325f26da-3d95-45d5-b968-820645d4332c')\"\n",
              "              title=\"Convert this dataframe to an interactive table.\"\n",
              "              style=\"display:none;\">\n",
              "        \n",
              "  <svg xmlns=\"http://www.w3.org/2000/svg\" height=\"24px\"viewBox=\"0 0 24 24\"\n",
              "       width=\"24px\">\n",
              "    <path d=\"M0 0h24v24H0V0z\" fill=\"none\"/>\n",
              "    <path d=\"M18.56 5.44l.94 2.06.94-2.06 2.06-.94-2.06-.94-.94-2.06-.94 2.06-2.06.94zm-11 1L8.5 8.5l.94-2.06 2.06-.94-2.06-.94L8.5 2.5l-.94 2.06-2.06.94zm10 10l.94 2.06.94-2.06 2.06-.94-2.06-.94-.94-2.06-.94 2.06-2.06.94z\"/><path d=\"M17.41 7.96l-1.37-1.37c-.4-.4-.92-.59-1.43-.59-.52 0-1.04.2-1.43.59L10.3 9.45l-7.72 7.72c-.78.78-.78 2.05 0 2.83L4 21.41c.39.39.9.59 1.41.59.51 0 1.02-.2 1.41-.59l7.78-7.78 2.81-2.81c.8-.78.8-2.07 0-2.86zM5.41 20L4 18.59l7.72-7.72 1.47 1.35L5.41 20z\"/>\n",
              "  </svg>\n",
              "      </button>\n",
              "      \n",
              "  <style>\n",
              "    .colab-df-container {\n",
              "      display:flex;\n",
              "      flex-wrap:wrap;\n",
              "      gap: 12px;\n",
              "    }\n",
              "\n",
              "    .colab-df-convert {\n",
              "      background-color: #E8F0FE;\n",
              "      border: none;\n",
              "      border-radius: 50%;\n",
              "      cursor: pointer;\n",
              "      display: none;\n",
              "      fill: #1967D2;\n",
              "      height: 32px;\n",
              "      padding: 0 0 0 0;\n",
              "      width: 32px;\n",
              "    }\n",
              "\n",
              "    .colab-df-convert:hover {\n",
              "      background-color: #E2EBFA;\n",
              "      box-shadow: 0px 1px 2px rgba(60, 64, 67, 0.3), 0px 1px 3px 1px rgba(60, 64, 67, 0.15);\n",
              "      fill: #174EA6;\n",
              "    }\n",
              "\n",
              "    [theme=dark] .colab-df-convert {\n",
              "      background-color: #3B4455;\n",
              "      fill: #D2E3FC;\n",
              "    }\n",
              "\n",
              "    [theme=dark] .colab-df-convert:hover {\n",
              "      background-color: #434B5C;\n",
              "      box-shadow: 0px 1px 3px 1px rgba(0, 0, 0, 0.15);\n",
              "      filter: drop-shadow(0px 1px 2px rgba(0, 0, 0, 0.3));\n",
              "      fill: #FFFFFF;\n",
              "    }\n",
              "  </style>\n",
              "\n",
              "      <script>\n",
              "        const buttonEl =\n",
              "          document.querySelector('#df-325f26da-3d95-45d5-b968-820645d4332c button.colab-df-convert');\n",
              "        buttonEl.style.display =\n",
              "          google.colab.kernel.accessAllowed ? 'block' : 'none';\n",
              "\n",
              "        async function convertToInteractive(key) {\n",
              "          const element = document.querySelector('#df-325f26da-3d95-45d5-b968-820645d4332c');\n",
              "          const dataTable =\n",
              "            await google.colab.kernel.invokeFunction('convertToInteractive',\n",
              "                                                     [key], {});\n",
              "          if (!dataTable) return;\n",
              "\n",
              "          const docLinkHtml = 'Like what you see? Visit the ' +\n",
              "            '<a target=\"_blank\" href=https://colab.research.google.com/notebooks/data_table.ipynb>data table notebook</a>'\n",
              "            + ' to learn more about interactive tables.';\n",
              "          element.innerHTML = '';\n",
              "          dataTable['output_type'] = 'display_data';\n",
              "          await google.colab.output.renderOutput(dataTable, element);\n",
              "          const docLink = document.createElement('div');\n",
              "          docLink.innerHTML = docLinkHtml;\n",
              "          element.appendChild(docLink);\n",
              "        }\n",
              "      </script>\n",
              "    </div>\n",
              "  </div>\n",
              "  "
            ]
          },
          "metadata": {},
          "execution_count": 19
        }
      ]
    },
    {
      "cell_type": "code",
      "source": [
        "lda_model = gensim.models.LdaMulticore(corpus=corpus,\n",
        "                                           id2word=id2word,\n",
        "                                           num_topics=8, \n",
        "                                           random_state=100,\n",
        "                                           chunksize=100,\n",
        "                                           passes=10,\n",
        "                                           alpha=0.01,\n",
        "                                           eta=0.9)"
      ],
      "metadata": {
        "id": "zCXj15SoHBM9"
      },
      "execution_count": null,
      "outputs": []
    },
    {
      "cell_type": "code",
      "source": [
        "!pip install pyLDAvis\n",
        "import pyLDAvis\n",
        "import pyLDAvis.gensim_models as gensimvis\n",
        "pyLDAvis.enable_notebook()\n",
        "import pyLDAvis\n",
        "import pyLDAvis.gensim_models\n",
        "\n",
        "pyLDAvis.enable_notebook()\n",
        "\n",
        "import pickle \n",
        "import pyLDAvis\n",
        "import sys\n",
        "# !{sys.executable} -m spacy download en\n",
        "import re, numpy as np, pandas as pd\n",
        "from pprint import pprint\n",
        "import pyLDAvis.gensim_models\n",
        "\n",
        "\n",
        "\n",
        "# Gensim\n",
        "import gensim, spacy, logging, warnings\n",
        "import gensim.corpora as corpora\n",
        "from gensim.utils import lemmatize, simple_preprocess\n",
        "from gensim.models import CoherenceModel\n",
        "import matplotlib.pyplot as plt\n",
        "import pyLDAvis.sklearn\n",
        "pyLDAvis.enable_notebook()\n",
        "from sklearn.feature_extraction.text import CountVectorizer, TfidfVectorizer\n",
        "from sklearn.decomposition import LatentDirichletAllocation\n",
        "# Visualize the topics\n"
      ],
      "metadata": {
        "colab": {
          "base_uri": "https://localhost:8080/"
        },
        "id": "Vq3IfUJBDxsW",
        "outputId": "fad94a30-2bd3-4719-d690-7491c785b287"
      },
      "execution_count": null,
      "outputs": [
        {
          "output_type": "stream",
          "name": "stdout",
          "text": [
            "Requirement already satisfied: pyLDAvis in /usr/local/lib/python3.7/dist-packages (3.3.1)\n",
            "Requirement already satisfied: numpy>=1.20.0 in /usr/local/lib/python3.7/dist-packages (from pyLDAvis) (1.21.6)\n",
            "Requirement already satisfied: scipy in /usr/local/lib/python3.7/dist-packages (from pyLDAvis) (1.4.1)\n",
            "Requirement already satisfied: pandas>=1.2.0 in /usr/local/lib/python3.7/dist-packages (from pyLDAvis) (1.3.5)\n",
            "Requirement already satisfied: jinja2 in /usr/local/lib/python3.7/dist-packages (from pyLDAvis) (2.11.3)\n",
            "Requirement already satisfied: sklearn in /usr/local/lib/python3.7/dist-packages (from pyLDAvis) (0.0)\n",
            "Requirement already satisfied: numexpr in /usr/local/lib/python3.7/dist-packages (from pyLDAvis) (2.8.1)\n",
            "Requirement already satisfied: joblib in /usr/local/lib/python3.7/dist-packages (from pyLDAvis) (1.1.0)\n",
            "Requirement already satisfied: funcy in /usr/local/lib/python3.7/dist-packages (from pyLDAvis) (1.17)\n",
            "Requirement already satisfied: setuptools in /usr/local/lib/python3.7/dist-packages (from pyLDAvis) (57.4.0)\n",
            "Requirement already satisfied: future in /usr/local/lib/python3.7/dist-packages (from pyLDAvis) (0.16.0)\n",
            "Requirement already satisfied: gensim in /usr/local/lib/python3.7/dist-packages (from pyLDAvis) (3.6.0)\n",
            "Requirement already satisfied: scikit-learn in /usr/local/lib/python3.7/dist-packages (from pyLDAvis) (1.0.2)\n",
            "Requirement already satisfied: pytz>=2017.3 in /usr/local/lib/python3.7/dist-packages (from pandas>=1.2.0->pyLDAvis) (2022.1)\n",
            "Requirement already satisfied: python-dateutil>=2.7.3 in /usr/local/lib/python3.7/dist-packages (from pandas>=1.2.0->pyLDAvis) (2.8.2)\n",
            "Requirement already satisfied: six>=1.5 in /usr/local/lib/python3.7/dist-packages (from python-dateutil>=2.7.3->pandas>=1.2.0->pyLDAvis) (1.15.0)\n",
            "Requirement already satisfied: smart-open>=1.2.1 in /usr/local/lib/python3.7/dist-packages (from gensim->pyLDAvis) (6.0.0)\n",
            "Requirement already satisfied: MarkupSafe>=0.23 in /usr/local/lib/python3.7/dist-packages (from jinja2->pyLDAvis) (2.0.1)\n",
            "Requirement already satisfied: packaging in /usr/local/lib/python3.7/dist-packages (from numexpr->pyLDAvis) (21.3)\n",
            "Requirement already satisfied: pyparsing!=3.0.5,>=2.0.2 in /usr/local/lib/python3.7/dist-packages (from packaging->numexpr->pyLDAvis) (3.0.9)\n",
            "Requirement already satisfied: threadpoolctl>=2.0.0 in /usr/local/lib/python3.7/dist-packages (from scikit-learn->pyLDAvis) (3.1.0)\n"
          ]
        }
      ]
    },
    {
      "cell_type": "code",
      "source": [
        "\n",
        "import pyLDAvis.gensim_models\n",
        "\n",
        "\n",
        "\n",
        "# Visualize the topics\n",
        "pyLDAvis.enable_notebook()\n",
        "LDAvis_prepared = pyLDAvis.gensim_models.prepare(lda_model, corpus, id2word)\n",
        "LDAvis_prepared"
      ],
      "metadata": {
        "colab": {
          "base_uri": "https://localhost:8080/",
          "height": 916
        },
        "id": "zFKWkrGRPNuy",
        "outputId": "5e4eebf8-7541-4644-f01d-87c1b4a9d60c"
      },
      "execution_count": null,
      "outputs": [
        {
          "output_type": "stream",
          "name": "stderr",
          "text": [
            "/usr/local/lib/python3.7/dist-packages/pyLDAvis/_prepare.py:247: FutureWarning: In a future version of pandas all arguments of DataFrame.drop except for the argument 'labels' will be keyword-only\n",
            "  by='saliency', ascending=False).head(R).drop('saliency', 1)\n"
          ]
        },
        {
          "output_type": "execute_result",
          "data": {
            "text/plain": [
              "PreparedData(topic_coordinates=              x         y  topics  cluster       Freq\n",
              "topic                                                \n",
              "1      0.112174  0.033545       1        1  63.042772\n",
              "7      0.073130 -0.050989       2        1  29.159865\n",
              "3     -0.004113  0.018963       3        1   4.435111\n",
              "4     -0.030883 -0.000815       4        1   1.807110\n",
              "6     -0.036985  0.002970       5        1   0.720430\n",
              "2     -0.035426 -0.004109       6        1   0.576472\n",
              "0     -0.039170  0.000485       7        1   0.152973\n",
              "5     -0.038728 -0.000051       8        1   0.105268, topic_info=           Term        Freq       Total Category  logprob  loglift\n",
              "373      worker   79.000000   79.000000  Default  30.0000  30.0000\n",
              "500       trump  120.000000  120.000000  Default  29.0000  29.0000\n",
              "416    election  139.000000  139.000000  Default  28.0000  28.0000\n",
              "299         say  407.000000  407.000000  Default  27.0000  27.0000\n",
              "12         also  130.000000  130.000000  Default  26.0000  26.0000\n",
              "...         ...         ...         ...      ...      ...      ...\n",
              "1675   military    0.016495   14.828547   Topic8  -7.8360   0.0551\n",
              "3120      armed    0.012125    7.914213   Topic8  -8.1437   0.3753\n",
              "2808  affiliate    0.010750    2.713654   Topic8  -8.2641   1.3252\n",
              "3455   disperse    0.010657    2.701399   Topic8  -8.2727   1.3211\n",
              "3452   disorder    0.010630    2.704831   Topic8  -8.2753   1.3173\n",
              "\n",
              "[452 rows x 6 columns], token_table=      Topic      Freq        Term\n",
              "term                             \n",
              "1943      1  0.667870      accept\n",
              "1943      2  0.166967      accept\n",
              "1943      4  0.083484      accept\n",
              "4647      1  0.536178  acceptance\n",
              "4647      2  0.536178  acceptance\n",
              "...     ...       ...         ...\n",
              "870       2  0.094390       write\n",
              "870       3  0.056634       write\n",
              "376       1  0.680480        year\n",
              "376       2  0.308007        year\n",
              "376       3  0.007163        year\n",
              "\n",
              "[916 rows x 3 columns], R=30, lambda_step=0.01, plot_opts={'xlab': 'PC1', 'ylab': 'PC2'}, topic_order=[2, 8, 4, 5, 7, 3, 1, 6])"
            ],
            "text/html": [
              "\n",
              "<link rel=\"stylesheet\" type=\"text/css\" href=\"https://cdn.jsdelivr.net/gh/bmabey/pyLDAvis@3.3.1/pyLDAvis/js/ldavis.v1.0.0.css\">\n",
              "\n",
              "\n",
              "<div id=\"ldavis_el621405433227999524925456542\"></div>\n",
              "<script type=\"text/javascript\">\n",
              "\n",
              "var ldavis_el621405433227999524925456542_data = {\"mdsDat\": {\"x\": [0.11217379957489464, 0.073130015412933, -0.004112586427077409, -0.030883177380404202, -0.03698468256410141, -0.0354255212259792, -0.03916990732713035, -0.03872794006313509], \"y\": [0.033545424158179585, -0.05098858835753726, 0.018963121890182528, -0.0008147176009238289, 0.0029702923661015105, -0.004109468435470616, 0.00048491960052155235, -5.098362105349908e-05], \"topics\": [1, 2, 3, 4, 5, 6, 7, 8], \"cluster\": [1, 1, 1, 1, 1, 1, 1, 1], \"Freq\": [63.04277177791634, 29.159864691820413, 4.435110797000389, 1.8071100514622123, 0.720429773864567, 0.5764720017025178, 0.15297253104429756, 0.10526837518925396]}, \"tinfo\": {\"Term\": [\"worker\", \"trump\", \"election\", \"say\", \"also\", \"industry\", \"case\", \"old\", \"company\", \"vote\", \"take\", \"would\", \"write\", \"well\", \"leave\", \"agent\", \"work\", \"voter\", \"back\", \"covid\", \"way\", \"evangelical\", \"may\", \"good\", \"movement\", \"know\", \"claim\", \"ballot\", \"sign\", \"haitian\", \"haitian\", \"voter\", \"vote\", \"election\", \"violence\", \"rent\", \"ballot\", \"evangelical\", \"candidate\", \"threat\", \"movement\", \"poll\", \"black\", \"asylum\", \"republican\", \"voting\", \"jewish\", \"conservative\", \"eviction\", \"democracy\", \"landlord\", \"polling\", \"speech\", \"police\", \"progressive\", \"israeli\", \"steal\", \"migrant\", \"image\", \"cast\", \"campaign\", \"trump\", \"political\", \"president\", \"read\", \"child\", \"anti\", \"support\", \"even\", \"view\", \"right\", \"power\", \"people\", \"make\", \"many\", \"say\", \"bill\", \"go\", \"get\", \"state\", \"write\", \"think\", \"also\", \"would\", \"year\", \"time\", \"take\", \"first\", \"want\", \"could\", \"come\", \"day\", \"see\", \"know\", \"leave\", \"call\", \"work\", \"plant\", \"drought\", \"poultry\", \"bezos\", \"farmworker\", \"usp\", \"latino\", \"patient\", \"firefighter\", \"tier\", \"shareholder\", \"exposure\", \"plasma\", \"spring\", \"sick\", \"undocumented\", \"purple\", \"dry\", \"worker\", \"quarantine\", \"infection\", \"grape\", \"innovation\", \"crop\", \"destiny\", \"postal\", \"undocumente\", \"concentration\", \"virus\", \"processing\", \"test\", \"water\", \"covid\", \"company\", \"industry\", \"labor\", \"region\", \"case\", \"agreement\", \"immigrant\", \"county\", \"health\", \"say\", \"work\", \"death\", \"employee\", \"report\", \"may\", \"state\", \"percent\", \"year\", \"week\", \"would\", \"people\", \"also\", \"time\", \"number\", \"day\", \"come\", \"go\", \"much\", \"least\", \"new\", \"make\", \"call\", \"get\", \"see\", \"take\", \"many\", \"dog\", \"miner\", \"rescue\", \"coal\", \"mailing\", \"humor\", \"anon\", \"cage\", \"unfounded\", \"knock\", \"reckon\", \"patriot\", \"blair_mountain\", \"amplify\", \"defeat\", \"anonymous\", \"despair\", \"immune\", \"lentz\", \"joke\", \"animal\", \"social_security\", \"doorway\", \"loose\", \"ganzert\", \"footage\", \"rtcom\", \"charity\", \"archive\", \"impeach\", \"follower\", \"account\", \"bias\", \"sister\", \"arrest\", \"mine\", \"book\", \"post\", \"military\", \"management\", \"service\", \"trump\", \"newsletter\", \"write\", \"attempt\", \"would\", \"leave\", \"sign\", \"biden\", \"know\", \"claim\", \"word\", \"work\", \"show\", \"tell\", \"follow\", \"plan\", \"time\", \"may\", \"also\", \"even\", \"say\", \"people\", \"recycle\", \"battery\", \"recycling\", \"device\", \"cell\", \"staple\", \"electronic\", \"tablet\", \"nickel\", \"laptop\", \"smartphone\", \"charity\", \"cable\", \"achiuwa\", \"phone\", \"wireless\", \"upgrade\", \"accessory\", \"charger\", \"cnet\", \"correspond\", \"dispose\", \"rechargeable\", \"cadmium\", \"directory\", \"gadget\", \"item\", \"beal\", \"shooter\", \"option\", \"accept\", \"earth\", \"heat\", \"player\", \"old\", \"depend\", \"trumpism\", \"instigate\", \"camera\", \"buy\", \"tech\", \"well\", \"information\", \"also\", \"take\", \"back\", \"way\", \"company\", \"good\", \"find\", \"agent\", \"horse\", \"whip\", \"rein\", \"spin\", \"convey\", \"ride\", \"horseback\", \"lense\", \"debunk\", \"riverine\", \"dementia\", \"moronic\", \"infuse\", \"psskow\", \"misidentifie\", \"forge\", \"slack\", \"rdevro\", \"worse\", \"bait\", \"decry\", \"instill\", \"excel\", \"insane\", \"cord\", \"emergence\", \"moron\", \"raul\", \"founding\", \"unit\", \"flop\", \"guide\", \"mount\", \"being\", \"suspend\", \"illegal\", \"unhappy\", \"split\", \"effectively\", \"investigation\", \"deeply\", \"outlet\", \"image\", \"culture\", \"horrible\", \"control\", \"source\", \"use\", \"witness\", \"migrant\", \"injury\", \"library\", \"license\", \"recreational\", \"dispensary\", \"offender\", \"applicant\", \"supplementary\", \"parnell\", \"indication\", \"iip\", \"cannabis\", \"social_equity\", \"connected\", \"boom\", \"lottery\", \"consolidation\", \"cassidy\", \"industrial\", \"cultivation\", \"inappropriate\", \"diligence\", \"entertainer\", \"oversight\", \"ending\", \"invite\", \"starne\", \"stun\", \"literacy\", \"acceptance\", \"lax\", \"sex\", \"accrue\", \"diversity\", \"industry\", \"dominate\", \"loop\", \"innovative\", \"delay\", \"opportunity\", \"entertain\", \"sell\", \"say\", \"business\", \"grow\", \"pray\", \"exhort\", \"conscience\", \"doubtlessly\", \"prestige\", \"baptist\", \"nonsense\", \"withersoever\", \"blessing\", \"sacredness\", \"earnestly\", \"reconsider\", \"godly\", \"hearte\", \"importune\", \"heavenly\", \"throated\", \"affiliation\", \"pulpit\", \"proverb\", \"timeless\", \"voted\", \"prayerfully\", \"covenant\", \"uyghur\", \"specialization\", \"correspondent\", \"membership\", \"behalf\", \"persecute\", \"assure\", \"moral\", \"regardless\", \"bless\", \"evangelical\", \"retribution\", \"terminal\", \"personnel\", \"collapse\", \"nongovernment\", \"checkpoint\", \"depart\", \"imagery\", \"commander\", \"throe\", \"grind\", \"interpreter\", \"afghan\", \"bloodied\", \"overhead\", \"traveler\", \"passport\", \"unfold\", \"comb\", \"pall\", \"grenade\", \"gunman\", \"rabbit\", \"anymore\", \"inflection\", \"realization\", \"messing\", \"pseudonymous\", \"conspiracist\", \"imago\", \"passenger\", \"plane\", \"jet\", \"evacuation\", \"chaos\", \"troop\", \"airport\", \"military\", \"armed\", \"affiliate\", \"disperse\", \"disorder\"], \"Freq\": [79.0, 120.0, 139.0, 407.0, 130.0, 22.0, 81.0, 28.0, 51.0, 105.0, 98.0, 148.0, 52.0, 55.0, 73.0, 10.0, 103.0, 80.0, 57.0, 46.0, 58.0, 23.0, 85.0, 61.0, 51.0, 80.0, 41.0, 44.0, 35.0, 42.0, 41.27543441266002, 78.13415097946826, 102.17686678223008, 134.15966293654705, 32.292505861440915, 24.816911517213423, 42.18855028648356, 22.51610983854639, 21.288472137060236, 22.793701404989136, 48.61197476586819, 20.978039448102038, 42.11184438684501, 17.377448808396938, 33.31752535816593, 16.466625528880822, 16.46601455831666, 35.97893350133512, 26.385552256243102, 28.41330537101947, 14.890528039584744, 14.854509870135656, 14.699986686308515, 41.73387472078613, 14.528977480091774, 21.55592886559701, 17.487391506725825, 21.87555520685401, 18.854531244311687, 12.901088597948528, 50.075240538881985, 106.47573713440619, 56.13357810296061, 41.07138479114856, 39.43836521095819, 60.42045015701006, 34.40578321766521, 79.01707908865498, 91.62759881443964, 28.021006990539203, 66.09100179463229, 39.40352825126647, 152.3194537335844, 108.66603751308567, 90.10973263867534, 268.66212109095915, 34.05257240637303, 94.49903827188179, 81.3608378167498, 115.60254343471784, 44.864066030917584, 58.02708061910541, 91.6254924206851, 100.957800124944, 95.11877189956266, 84.03256554368602, 72.1363635076816, 58.44599695049761, 54.96394187369877, 58.816757163899396, 66.24210936206741, 66.31274919681893, 60.14926650803191, 57.71301847405774, 54.14384481357687, 54.7091904235129, 56.14892219227196, 13.768388758875108, 13.742875459574556, 12.452216603476428, 11.818340505790093, 9.821986401714415, 9.818509089335459, 9.157510897089656, 9.118432176954714, 7.832307014898653, 7.763147658692968, 7.19828827204507, 9.124605617565573, 7.161503985968224, 7.165966357426667, 13.117235101733117, 11.794657370899518, 6.4643479352432545, 7.845707586365233, 67.10006059441588, 5.852937105689385, 12.631929328572273, 5.8556904265591, 5.723339934117028, 8.50379029979176, 5.2301806025027835, 5.21210133683592, 5.209372575157736, 5.191020466965781, 23.37140406319055, 8.501581991117664, 12.161795080086486, 26.861802117677776, 34.61874673015914, 36.61021591011112, 16.914353908532078, 11.813123191512535, 13.089914515077714, 51.48806917424191, 11.821301065865056, 24.3056599317917, 23.536032734704463, 22.72745533270372, 136.98366130265745, 44.61717174666831, 19.589917013587392, 16.394844246541542, 32.62379754640994, 34.22902129330933, 50.56131697972167, 30.913315123172637, 43.360403229173755, 27.96468610531229, 43.58243446912294, 46.1278029077544, 35.66380290527488, 33.715248389318596, 23.51473554209248, 29.427331970419736, 29.290099245272227, 31.871266238046484, 23.72140685808911, 20.106388064373714, 22.026533314992484, 27.963300024913554, 23.52442733921061, 24.949544068240535, 23.51017089674054, 23.994601958970147, 24.541753832096955, 5.618492340352502, 2.293718121907002, 1.6510264829399381, 1.4455582840003471, 1.239174050776841, 1.2291315477849276, 1.2206928979152936, 1.024388828349155, 1.0096949261573491, 0.9789050806956858, 1.2199563658248749, 1.0026979224677526, 0.8100089697689259, 0.8018380892774468, 0.8020875400166987, 0.8020930663099991, 0.8006104334546505, 1.182178829501214, 0.7875542585162799, 1.179913867958189, 1.8608558483423883, 1.039250873131562, 0.615971243319137, 0.6095682138205633, 0.609471606026572, 0.6088476465774566, 0.6085964049098204, 0.817158816403783, 0.6094404438726839, 0.6091586029143661, 3.2021371736544944, 2.862196451772316, 1.006903226991789, 1.1873725218158944, 1.55310987848534, 0.9165518110490753, 2.0538835423527737, 2.8824550243012794, 2.067530416641693, 1.833638239805577, 1.9543828361575066, 4.100735183497147, 1.4014194723941595, 2.761309055313721, 1.9125981231585034, 3.7856807930891505, 2.898842530712113, 2.1865954291853753, 1.8773563367495842, 2.5127562363843667, 2.088456237917291, 1.6083955306946274, 2.264613591224416, 1.8759497927658806, 1.9326716672006699, 1.7471677145024163, 1.6784110060021729, 1.8965847672718568, 1.8103262878894055, 1.8064941105019077, 1.7758798783606777, 1.778086711485284, 1.6798730175964098, 2.5381018477040787, 1.580564809487599, 1.2617577750531122, 1.4743846157870593, 0.7319603153142625, 0.6259242732837887, 0.6256270881658944, 0.5203944091887883, 0.5199777579052188, 0.5198554979409048, 0.8372185554639895, 0.6260348993701889, 0.41424644841881286, 0.4089304333879452, 1.471401672810535, 0.3080755534809067, 0.30810107295504047, 0.3079983904304418, 0.3079938661445864, 0.3079789172369443, 0.30794088821666654, 0.30790367231688814, 0.3079468094018414, 0.30791983048065746, 0.30788886935395104, 0.30776206425453806, 0.7299908957663253, 0.3027833482861998, 0.30275885042500117, 0.8281527205794832, 1.0436875304100646, 0.5181317658792357, 0.8178154154249005, 0.6852973730818576, 1.4657605346753848, 0.7267727733222937, 0.37613011150896386, 0.3730299123865832, 0.4138789179531021, 0.6209009399342036, 0.5186892746523867, 0.8721632220444884, 0.6277707239931304, 1.0783689961396938, 0.8859055422624939, 0.7442644547105792, 0.6925547028803256, 0.6298443063619601, 0.5891499604842682, 0.5586766643789939, 1.0806943144274506, 0.6632061775196113, 0.5396423128897232, 0.45881272740822054, 0.1709703972146889, 0.16561444478399143, 0.2151167089509294, 0.3286009506501635, 0.12643501639870533, 0.12645364323986202, 0.12625619539886357, 0.12617977631024477, 0.1260515411895997, 0.10942129625828197, 0.08258517980624817, 0.0825161166990768, 0.08250646664883898, 0.0824814313763874, 0.08250275956666323, 0.08250320009436572, 0.08250767186613828, 0.08249357497965824, 0.08248760707606587, 0.08248527144805827, 0.08247853054302565, 0.08245843250557947, 0.0824627463523266, 0.0824533290337052, 0.0824547254234037, 0.08244330495051244, 0.16163852434389192, 0.11778823891188883, 0.1071922510191558, 0.14889329322093303, 0.11878404762747126, 0.11811739622409172, 0.14222744413461313, 0.10564157688266441, 0.13837446417088528, 0.1089966026175404, 0.17972842041415213, 0.11536849504864027, 0.11015607153052379, 0.18234941063085278, 0.1484178225285956, 0.10410085202277478, 0.15305983747856391, 0.1194332607833065, 0.12908597912286296, 0.115772010112288, 0.1130606535336705, 0.11063120974912347, 0.35337227017198497, 0.4245897506277475, 0.16621354348266149, 0.13055416289375663, 0.1597807677247704, 0.15008343788166467, 0.095921855820884, 0.09582391387756464, 0.09580334247795262, 0.09578501244971765, 0.09572744179499998, 0.09571149945912219, 0.09566569434139569, 0.09565744050792704, 0.09564466402598241, 0.09559254050229685, 0.09556957475937401, 0.09577423790481901, 0.11607004860177512, 0.09960298573645748, 0.09992612897006567, 0.0651279404624295, 0.0651233646063244, 0.065119646723239, 0.06510411009553331, 0.06509083479206561, 0.06508012675670338, 0.06507700080849205, 0.06506823485159303, 0.0650651421581499, 0.14938212142402155, 0.09318751575994062, 0.09306847699167159, 0.4305846009940917, 0.11342209112672282, 0.09238390763529686, 0.0835408927873949, 0.12845811485375297, 0.16772469335755646, 0.0897395150713962, 0.12513564426423132, 0.15073061557666892, 0.10244039562597752, 0.09902515753506932, 0.08064997899416121, 0.026110104740691045, 0.02595397849809045, 0.025834749174255062, 0.017031763129463494, 0.01703099716453744, 0.017029955875813078, 0.017022470951270685, 0.017017631606046624, 0.017014278303374954, 0.017009800761860205, 0.01700222935740681, 0.01700009912776223, 0.017001874613282068, 0.016997345889779174, 0.016996862308235997, 0.0169927236267807, 0.0169905104470174, 0.016990282775414953, 0.016984846895294566, 0.01698539401309889, 0.016981977174166073, 0.01694734991184074, 0.016947755837953625, 0.016940980401660713, 0.016790108254877777, 0.01678843513333423, 0.016782520966359092, 0.016732309671091215, 0.016813390764796016, 0.021469370339185074, 0.02108634728354639, 0.021907947030716447, 0.02021517160371993, 0.025497541057592082, 0.01612508476825123, 0.015925431522538808, 0.015798638370041463, 0.015489869267705172, 0.010648528553323452, 0.010648951205261891, 0.010646251333827557, 0.010639977138672466, 0.010635508930392251, 0.010636299581001226, 0.010634538531257735, 0.010634426795687803, 0.010634006572783492, 0.010629439988621057, 0.010625758787398625, 0.010618850614335876, 0.010611042484128348, 0.01060598159152067, 0.010603701942990646, 0.010599578657556744, 0.010598581539046808, 0.010592454300456517, 0.010109023677302091, 0.010107716856940714, 0.010102468928705106, 0.010100560315138278, 0.010099111396280357, 0.010099170300357984, 0.01009438510312394, 0.010094188351359496, 0.016306718224277997, 0.01426679228695704, 0.010632619594295858, 0.01991190403816129, 0.010580012787648007, 0.02012224867759231, 0.015915482198746604, 0.01649466959807418, 0.012125295073016748, 0.010749549653712578, 0.01065746496988388, 0.01062995615837346], \"Total\": [79.0, 120.0, 139.0, 407.0, 130.0, 22.0, 81.0, 28.0, 51.0, 105.0, 98.0, 148.0, 52.0, 55.0, 73.0, 10.0, 103.0, 80.0, 57.0, 46.0, 58.0, 23.0, 85.0, 61.0, 51.0, 80.0, 41.0, 44.0, 35.0, 42.0, 42.30596626269141, 80.18034693272087, 105.79359069195209, 139.0407951944121, 33.62106939112597, 25.84294427233324, 44.16612729684619, 23.580952652410886, 22.35392745689328, 23.957560539573546, 51.19124419432163, 22.14886474996008, 44.507078902411465, 18.369486326660066, 35.24447404256037, 17.4814654104128, 17.487597138734863, 38.23610225353494, 28.08566279254257, 30.30506179008274, 15.884797699219908, 15.859697733101417, 15.709223880046702, 44.79479471244596, 15.625714436050574, 23.214164435094347, 18.867187441994197, 23.61340419004818, 20.354976777548014, 13.947443774374811, 54.324495000617276, 120.11866973208892, 62.74601092075205, 45.53181770390373, 43.727388534670716, 68.5064723414364, 38.06132890229101, 92.02031967646268, 108.44922259809567, 30.793804793890896, 78.9408764242275, 44.817303893100174, 200.41226852583253, 138.27951927404933, 116.05599781687701, 407.9246519048309, 38.20835229055351, 127.67938292163514, 107.82582642094113, 167.7652795231792, 52.97143453266804, 73.0710860254862, 130.32778096459617, 148.60589582214214, 139.60730721250675, 119.94516857105342, 98.04300425075064, 74.00439320470346, 69.46629231605601, 78.88196129628692, 97.05683761891571, 97.4767399654307, 85.37278706524644, 80.30534557889546, 73.21413048378031, 80.1730944139078, 103.3365424911542, 14.95174358527506, 14.980840487374724, 13.615889898002537, 12.960616993087152, 10.975781250591643, 10.97267118979481, 10.314403593555708, 10.278133173017528, 9.015033127409131, 8.939118361369138, 8.337413593833979, 10.582389695110132, 8.308324438521241, 8.325353694481057, 15.310237006732297, 13.785942772847545, 7.6314280916593304, 9.317437613100072, 79.9852657702342, 6.998016373437189, 15.15526885327871, 7.032343372812065, 6.8792456192649905, 10.313664380660676, 6.361575357581404, 6.353071618809904, 6.351159546180031, 6.3344511182490075, 28.652308763371614, 10.482003994656417, 15.303941259685528, 35.068850966520166, 46.97724155092443, 51.66261497242133, 22.634268380183933, 15.293630532249516, 17.273678463758003, 81.89328409165373, 15.462057111597463, 36.59882375631968, 35.44423731291147, 34.75471751882622, 407.9246519048309, 103.3365424911542, 32.9942272396595, 25.88246460571425, 77.0730148896129, 85.68100124437171, 167.7652795231792, 77.1160179394581, 139.60730721250675, 66.67767122626286, 148.60589582214214, 200.41226852583253, 130.32778096459617, 119.94516857105342, 58.13805671332924, 97.4767399654307, 97.05683761891571, 127.67938292163514, 63.37864093266257, 44.551837123624516, 60.452072911764716, 138.27951927404933, 80.1730944139078, 107.82582642094113, 85.37278706524644, 98.04300425075064, 116.05599781687701, 8.76817105503416, 3.95023969136988, 3.2171488135470656, 3.0834500595069665, 2.856396226857822, 2.8827491501070264, 2.8659836599262984, 2.581881053388276, 2.6512169562276617, 2.772692123634082, 3.529092998033642, 2.966563932028051, 2.432112996782138, 2.431340455300073, 2.432437914441256, 2.432486455602189, 2.433858853898537, 3.6746987860251408, 2.488833822608504, 3.8580535286226367, 6.084613598014899, 3.429343098050853, 2.1655432379668142, 2.156270133743471, 2.1565093689081416, 2.1557946277588793, 2.1558658464772678, 2.9182475651403093, 2.1817104338545716, 2.1822243311314105, 13.406974616519335, 13.36185975976434, 4.040319778457517, 5.142849624590208, 7.666952716167625, 3.786664134530146, 12.16071268663868, 20.838794223841706, 14.828546523996089, 12.66065525696935, 19.65025509261179, 120.11866973208892, 9.1896273756742, 52.97143453266804, 23.427904316826897, 148.60589582214214, 73.21413048378031, 35.73229921261279, 23.381170882473615, 80.30534557889546, 41.34244774861712, 16.55373835183083, 103.3365424911542, 52.287739723164016, 66.37009057487836, 38.61466084627796, 32.21952600169407, 119.94516857105342, 85.68100124437171, 130.32778096459617, 108.44922259809567, 407.9246519048309, 200.41226852583253, 4.518877918201438, 4.060639328859888, 3.605789970644337, 4.534476216547853, 2.3902635414820605, 2.2824927860862863, 2.282204247604854, 2.1691562361269514, 2.1710949373702837, 2.1718621674158043, 3.891639074874093, 2.9182475651403093, 2.0596952756355145, 2.1007834199211475, 8.78769662763835, 1.9502815640133169, 1.950660884105576, 1.9508211934185817, 1.9509701864543996, 1.9511031569798734, 1.951134585464903, 1.9509248265486365, 1.9511998632978984, 1.951072234921262, 1.951080603169062, 1.9523592873614863, 4.726490164591179, 1.989954696303598, 1.9899805706972011, 5.483081010127187, 11.978382866090143, 4.483542506542669, 9.453518472594753, 7.104174751427661, 28.326401681517442, 9.395826491937715, 3.123382806633137, 3.168863794119312, 4.3835794534234935, 14.425416513685546, 9.957003953202259, 55.2663814843224, 19.36355551591642, 130.32778096459617, 98.04300425075064, 57.38887959602067, 58.649137733888516, 51.66261497242133, 61.368489393233155, 46.563938083292705, 10.326287818686456, 6.760890430795158, 5.567105527443744, 5.143062101888757, 1.9726645000398022, 2.0626200729637576, 2.6978314290313565, 4.2329967239249155, 1.9121992644674732, 1.9127450932193877, 1.9153714889786608, 1.9156260920786983, 1.919365509592867, 2.1976156082282405, 1.8408415944039407, 1.841571710108822, 1.8417476943700148, 1.8418944831256399, 1.8423741684947899, 1.842402758001483, 1.842515186104172, 1.8422373213406904, 1.8423415501657663, 1.8423963678371427, 1.8426147368407648, 1.8428100145298922, 1.842991503941425, 1.842818683854103, 1.8428827291054355, 1.8427500685534732, 4.281634707813009, 2.8958240934650257, 2.8245004921315724, 4.845643314734757, 3.539890016765421, 3.769375787271573, 5.782206874173949, 3.121240015422777, 5.860073154843849, 3.5260406444000467, 11.848474576114597, 4.11543053742934, 4.328505365453216, 20.354976777548014, 14.875574722349105, 4.7959401937471, 29.70437954535439, 11.410772296945616, 64.63700921234746, 13.758019134941089, 23.61340419004818, 7.1611168512604975, 2.5046291493702495, 5.372146219353354, 2.1098104855803537, 2.056563528321588, 3.1393526623151615, 3.04600031161637, 1.985703761586819, 1.987371474351973, 1.987550523203293, 1.987462190537261, 1.9893859284613078, 1.9893550932261506, 1.989863672894967, 1.9900921708237853, 1.9907271152489967, 1.9909482197277946, 1.9913663881110772, 2.251122405821293, 2.967040009303631, 2.6116892628219137, 2.756436704026585, 1.8639474879380336, 1.8639806669897914, 1.8643149778311212, 1.864569929026643, 1.8651506448114714, 1.86502994870312, 1.8649502061542997, 1.8650533413780113, 1.865368998483308, 4.584573077755203, 2.8789318159849437, 2.8781079823894706, 22.634268380183933, 4.191520801348293, 3.292902738960621, 2.8574982478216104, 6.617328266233017, 11.404942446179723, 3.5805992619082625, 12.437320631565127, 407.9246519048309, 50.71011938174743, 24.929778713727277, 3.211520068046774, 2.004735054843632, 2.0172958504423932, 2.0272490201771967, 1.91302761741537, 1.9136215727376715, 1.9136080731855745, 1.9140120803302703, 1.9146432925447299, 1.9145038375122236, 1.915103970885193, 1.9158118318514434, 1.9157096921115102, 1.9159264672898277, 1.9156698021175935, 1.9163277579355478, 1.9165074493195222, 1.9164998010731655, 1.9165482105021412, 1.9167279983615737, 1.9171376154622028, 1.917072116385998, 1.9199998912888265, 1.9200985533686712, 1.9208406395429034, 1.9333070944910014, 1.9333749631044237, 1.9336152102163056, 2.23647950336764, 2.604398648683565, 3.676100492605476, 3.7190606668629096, 4.458460431292354, 4.656679492884125, 23.580952652410886, 2.223334014623358, 2.246354984595584, 2.261570202358075, 2.958506936274064, 2.041179907108523, 2.041319798945758, 2.0417488400169015, 2.042796129284133, 2.042548375086546, 2.043068724247221, 2.043018516819767, 2.0431970207792918, 2.0432707314673344, 2.043373608198853, 2.044143197676425, 2.04510456349271, 2.0460847425103843, 2.045919695110612, 2.0466050190615666, 2.0470638495793123, 2.0468877660385143, 2.047569462865452, 2.1059208773914224, 2.1059758234346106, 2.106453924520919, 2.1063860186920422, 2.1066672849077133, 2.106815551052802, 2.106899731450075, 2.1069092677589794, 3.5264180024563743, 3.3082250778108686, 2.2564696696723034, 5.592952021966103, 2.265672541008941, 7.706367719882323, 5.23192675606987, 14.828546523996089, 7.914213160112903, 2.7136542700573667, 2.7013985822015294, 2.70483109882488], \"Category\": [\"Default\", \"Default\", \"Default\", \"Default\", \"Default\", \"Default\", \"Default\", \"Default\", \"Default\", \"Default\", \"Default\", \"Default\", \"Default\", \"Default\", \"Default\", \"Default\", \"Default\", \"Default\", \"Default\", \"Default\", \"Default\", \"Default\", \"Default\", \"Default\", \"Default\", \"Default\", \"Default\", \"Default\", \"Default\", \"Default\", \"Topic1\", \"Topic1\", \"Topic1\", \"Topic1\", \"Topic1\", \"Topic1\", \"Topic1\", \"Topic1\", \"Topic1\", \"Topic1\", \"Topic1\", \"Topic1\", \"Topic1\", \"Topic1\", \"Topic1\", \"Topic1\", \"Topic1\", \"Topic1\", \"Topic1\", \"Topic1\", \"Topic1\", \"Topic1\", \"Topic1\", \"Topic1\", \"Topic1\", \"Topic1\", \"Topic1\", \"Topic1\", \"Topic1\", \"Topic1\", \"Topic1\", \"Topic1\", \"Topic1\", \"Topic1\", \"Topic1\", \"Topic1\", \"Topic1\", \"Topic1\", \"Topic1\", \"Topic1\", \"Topic1\", \"Topic1\", \"Topic1\", \"Topic1\", \"Topic1\", \"Topic1\", \"Topic1\", \"Topic1\", \"Topic1\", \"Topic1\", \"Topic1\", \"Topic1\", \"Topic1\", \"Topic1\", \"Topic1\", \"Topic1\", \"Topic1\", \"Topic1\", \"Topic1\", \"Topic1\", \"Topic1\", \"Topic1\", \"Topic1\", \"Topic1\", \"Topic1\", \"Topic1\", \"Topic1\", \"Topic2\", \"Topic2\", \"Topic2\", \"Topic2\", \"Topic2\", \"Topic2\", \"Topic2\", \"Topic2\", \"Topic2\", \"Topic2\", \"Topic2\", \"Topic2\", \"Topic2\", \"Topic2\", \"Topic2\", \"Topic2\", \"Topic2\", \"Topic2\", \"Topic2\", \"Topic2\", \"Topic2\", \"Topic2\", \"Topic2\", \"Topic2\", \"Topic2\", \"Topic2\", \"Topic2\", \"Topic2\", \"Topic2\", \"Topic2\", \"Topic2\", \"Topic2\", \"Topic2\", \"Topic2\", \"Topic2\", \"Topic2\", \"Topic2\", \"Topic2\", \"Topic2\", \"Topic2\", \"Topic2\", \"Topic2\", \"Topic2\", \"Topic2\", \"Topic2\", \"Topic2\", \"Topic2\", \"Topic2\", \"Topic2\", \"Topic2\", \"Topic2\", \"Topic2\", \"Topic2\", \"Topic2\", \"Topic2\", \"Topic2\", \"Topic2\", \"Topic2\", \"Topic2\", \"Topic2\", \"Topic2\", \"Topic2\", \"Topic2\", \"Topic2\", \"Topic2\", \"Topic2\", \"Topic2\", \"Topic2\", \"Topic2\", \"Topic3\", \"Topic3\", \"Topic3\", \"Topic3\", \"Topic3\", \"Topic3\", \"Topic3\", \"Topic3\", \"Topic3\", \"Topic3\", \"Topic3\", \"Topic3\", \"Topic3\", \"Topic3\", \"Topic3\", \"Topic3\", \"Topic3\", \"Topic3\", \"Topic3\", \"Topic3\", \"Topic3\", \"Topic3\", \"Topic3\", \"Topic3\", \"Topic3\", \"Topic3\", \"Topic3\", \"Topic3\", \"Topic3\", \"Topic3\", \"Topic3\", \"Topic3\", \"Topic3\", \"Topic3\", \"Topic3\", \"Topic3\", \"Topic3\", \"Topic3\", \"Topic3\", \"Topic3\", \"Topic3\", \"Topic3\", \"Topic3\", \"Topic3\", \"Topic3\", \"Topic3\", \"Topic3\", \"Topic3\", \"Topic3\", \"Topic3\", \"Topic3\", \"Topic3\", \"Topic3\", \"Topic3\", \"Topic3\", \"Topic3\", \"Topic3\", \"Topic3\", \"Topic3\", \"Topic3\", \"Topic3\", \"Topic3\", \"Topic3\", \"Topic4\", \"Topic4\", \"Topic4\", \"Topic4\", \"Topic4\", \"Topic4\", \"Topic4\", \"Topic4\", \"Topic4\", \"Topic4\", \"Topic4\", \"Topic4\", \"Topic4\", \"Topic4\", \"Topic4\", \"Topic4\", \"Topic4\", \"Topic4\", \"Topic4\", \"Topic4\", \"Topic4\", \"Topic4\", \"Topic4\", \"Topic4\", \"Topic4\", \"Topic4\", \"Topic4\", \"Topic4\", \"Topic4\", \"Topic4\", \"Topic4\", \"Topic4\", \"Topic4\", \"Topic4\", \"Topic4\", \"Topic4\", \"Topic4\", \"Topic4\", \"Topic4\", \"Topic4\", \"Topic4\", \"Topic4\", \"Topic4\", \"Topic4\", \"Topic4\", \"Topic4\", \"Topic4\", \"Topic4\", \"Topic4\", \"Topic4\", \"Topic5\", \"Topic5\", \"Topic5\", \"Topic5\", \"Topic5\", \"Topic5\", \"Topic5\", \"Topic5\", \"Topic5\", \"Topic5\", \"Topic5\", \"Topic5\", \"Topic5\", \"Topic5\", \"Topic5\", \"Topic5\", \"Topic5\", \"Topic5\", \"Topic5\", \"Topic5\", \"Topic5\", \"Topic5\", \"Topic5\", \"Topic5\", \"Topic5\", \"Topic5\", \"Topic5\", \"Topic5\", \"Topic5\", \"Topic5\", \"Topic5\", \"Topic5\", \"Topic5\", \"Topic5\", \"Topic5\", \"Topic5\", \"Topic5\", \"Topic5\", \"Topic5\", \"Topic5\", \"Topic5\", \"Topic5\", \"Topic5\", \"Topic5\", \"Topic5\", \"Topic5\", \"Topic5\", \"Topic5\", \"Topic5\", \"Topic5\", \"Topic5\", \"Topic5\", \"Topic6\", \"Topic6\", \"Topic6\", \"Topic6\", \"Topic6\", \"Topic6\", \"Topic6\", \"Topic6\", \"Topic6\", \"Topic6\", \"Topic6\", \"Topic6\", \"Topic6\", \"Topic6\", \"Topic6\", \"Topic6\", \"Topic6\", \"Topic6\", \"Topic6\", \"Topic6\", \"Topic6\", \"Topic6\", \"Topic6\", \"Topic6\", \"Topic6\", \"Topic6\", \"Topic6\", \"Topic6\", \"Topic6\", \"Topic6\", \"Topic6\", \"Topic6\", \"Topic6\", \"Topic6\", \"Topic6\", \"Topic6\", \"Topic6\", \"Topic6\", \"Topic6\", \"Topic6\", \"Topic6\", \"Topic6\", \"Topic6\", \"Topic6\", \"Topic7\", \"Topic7\", \"Topic7\", \"Topic7\", \"Topic7\", \"Topic7\", \"Topic7\", \"Topic7\", \"Topic7\", \"Topic7\", \"Topic7\", \"Topic7\", \"Topic7\", \"Topic7\", \"Topic7\", \"Topic7\", \"Topic7\", \"Topic7\", \"Topic7\", \"Topic7\", \"Topic7\", \"Topic7\", \"Topic7\", \"Topic7\", \"Topic7\", \"Topic7\", \"Topic7\", \"Topic7\", \"Topic7\", \"Topic7\", \"Topic7\", \"Topic7\", \"Topic7\", \"Topic7\", \"Topic7\", \"Topic8\", \"Topic8\", \"Topic8\", \"Topic8\", \"Topic8\", \"Topic8\", \"Topic8\", \"Topic8\", \"Topic8\", \"Topic8\", \"Topic8\", \"Topic8\", \"Topic8\", \"Topic8\", \"Topic8\", \"Topic8\", \"Topic8\", \"Topic8\", \"Topic8\", \"Topic8\", \"Topic8\", \"Topic8\", \"Topic8\", \"Topic8\", \"Topic8\", \"Topic8\", \"Topic8\", \"Topic8\", \"Topic8\", \"Topic8\", \"Topic8\", \"Topic8\", \"Topic8\", \"Topic8\", \"Topic8\", \"Topic8\", \"Topic8\", \"Topic8\", \"Topic8\", \"Topic8\", \"Topic8\", \"Topic8\"], \"logprob\": [30.0, 29.0, 28.0, 27.0, 26.0, 25.0, 24.0, 23.0, 22.0, 21.0, 20.0, 19.0, 18.0, 17.0, 16.0, 15.0, 14.0, 13.0, 12.0, 11.0, 10.0, 9.0, 8.0, 7.0, 6.0, 5.0, 4.0, 3.0, 2.0, 1.0, -6.406, -5.7679, -5.4996, -5.2273, -6.6515, -6.9148, -6.3841, -7.0121, -7.0681, -6.9998, -6.2424, -7.0828, -6.386, -7.2711, -6.6202, -7.325, -7.325, -6.5434, -6.8535, -6.7794, -7.4256, -7.428, -7.4384, -6.395, -7.4501, -7.0556, -7.2648, -7.0409, -7.1895, -7.569, -6.2128, -5.4584, -6.0986, -6.411, -6.4515, -6.025, -6.5881, -5.7566, -5.6086, -6.7933, -5.9353, -6.4524, -5.1003, -5.438, -5.6253, -4.5328, -6.5984, -5.5777, -5.7274, -5.3761, -6.3227, -6.0654, -5.6086, -5.5116, -5.5712, -5.6951, -5.8477, -6.0582, -6.1196, -6.0519, -5.933, -5.9319, -6.0295, -6.0708, -6.1346, -6.1243, -6.0983, -6.7329, -6.7347, -6.8334, -6.8856, -7.0706, -7.071, -7.1407, -7.145, -7.297, -7.3059, -7.3814, -7.1443, -7.3865, -7.3859, -6.7813, -6.8876, -7.489, -7.2953, -5.1491, -7.5883, -6.819, -7.5879, -7.6107, -7.2148, -7.7008, -7.7043, -7.7048, -7.7083, -6.2038, -7.215, -6.857, -6.0646, -5.8109, -5.7549, -6.5271, -6.8861, -6.7834, -5.4139, -6.8854, -6.1646, -6.1967, -6.2317, -4.4354, -5.5571, -6.3803, -6.5583, -5.8702, -5.8222, -5.4321, -5.9241, -5.5857, -6.0243, -5.5806, -5.5239, -5.7811, -5.8373, -6.1976, -5.9733, -5.978, -5.8936, -6.1889, -6.3542, -6.263, -6.0244, -6.1972, -6.1384, -6.1978, -6.1774, -6.1549, -5.746, -6.6419, -6.9706, -7.1035, -7.2576, -7.2657, -7.2726, -7.4479, -7.4624, -7.4933, -7.2732, -7.4693, -7.6827, -7.6929, -7.6926, -7.6926, -7.6944, -7.3047, -7.7108, -7.3066, -6.851, -7.4335, -7.9566, -7.967, -7.9672, -7.9682, -7.9686, -7.6739, -7.9672, -7.9677, -6.3082, -6.4204, -7.4651, -7.3003, -7.0318, -7.5592, -6.7523, -6.4134, -6.7457, -6.8657, -6.802, -6.0609, -7.1345, -6.4563, -6.8236, -6.1408, -6.4077, -6.6897, -6.8422, -6.5506, -6.7356, -6.9968, -6.6546, -6.8429, -6.8131, -6.914, -6.9542, -6.832, -6.8785, -6.8806, -6.8977, -6.8965, -6.9533, -5.6428, -6.1164, -6.3417, -6.186, -6.8862, -7.0427, -7.0432, -7.2274, -7.2282, -7.2284, -6.7519, -7.0426, -7.4555, -7.4684, -6.188, -7.7516, -7.7515, -7.7519, -7.7519, -7.7519, -7.7521, -7.7522, -7.752, -7.7521, -7.7522, -7.7526, -6.8889, -7.7689, -7.769, -6.7628, -6.5314, -7.2317, -6.7753, -6.9521, -6.1918, -6.8933, -7.552, -7.5603, -7.4564, -7.0508, -7.2307, -6.711, -7.0398, -6.4988, -6.6953, -6.8696, -6.9416, -7.0365, -7.1033, -7.1564, -5.577, -6.0652, -6.2714, -6.4337, -7.4208, -7.4527, -7.1911, -6.7675, -7.7226, -7.7224, -7.724, -7.7246, -7.7256, -7.8671, -8.1485, -8.1493, -8.1494, -8.1497, -8.1495, -8.1495, -8.1494, -8.1496, -8.1497, -8.1497, -8.1498, -8.15, -8.15, -8.1501, -8.1501, -8.1502, -7.477, -7.7934, -7.8877, -7.5591, -7.785, -7.7906, -7.6049, -7.9023, -7.6324, -7.871, -7.3709, -7.8142, -7.8604, -7.3564, -7.5623, -7.917, -7.5315, -7.7796, -7.7018, -7.8107, -7.8344, -7.8561, -6.4719, -6.2883, -7.2261, -7.4676, -7.2656, -7.3282, -7.7759, -7.7769, -7.7771, -7.7773, -7.7779, -7.7781, -7.7785, -7.7786, -7.7788, -7.7793, -7.7795, -7.7774, -7.5852, -7.7382, -7.735, -8.163, -8.1631, -8.1632, -8.1634, -8.1636, -8.1638, -8.1638, -8.164, -8.164, -7.3329, -7.8048, -7.8061, -6.2743, -7.6083, -7.8134, -7.9141, -7.4838, -7.2171, -7.8425, -7.51, -7.3239, -7.7101, -7.744, -6.6226, -7.7504, -7.7564, -7.761, -8.1777, -8.1777, -8.1778, -8.1782, -8.1785, -8.1787, -8.1789, -8.1794, -8.1795, -8.1794, -8.1797, -8.1797, -8.1799, -8.1801, -8.1801, -8.1804, -8.1804, -8.1806, -8.1826, -8.1826, -8.183, -8.1919, -8.192, -8.1924, -8.1954, -8.1906, -7.9461, -7.9641, -7.9259, -8.0063, -7.7742, -7.8586, -7.8711, -7.8791, -7.8988, -8.2736, -8.2735, -8.2738, -8.2744, -8.2748, -8.2747, -8.2749, -8.2749, -8.2749, -8.2754, -8.2757, -8.2764, -8.2771, -8.2776, -8.2778, -8.2782, -8.2783, -8.2788, -8.3256, -8.3257, -8.3262, -8.3264, -8.3265, -8.3265, -8.327, -8.327, -7.8474, -7.9811, -8.2751, -7.6477, -8.28, -7.6372, -7.8717, -7.836, -8.1437, -8.2641, -8.2727, -8.2753], \"loglift\": [30.0, 29.0, 28.0, 27.0, 26.0, 25.0, 24.0, 23.0, 22.0, 21.0, 20.0, 19.0, 18.0, 17.0, 16.0, 15.0, 14.0, 13.0, 12.0, 11.0, 10.0, 9.0, 8.0, 7.0, 6.0, 5.0, 4.0, 3.0, 2.0, 1.0, 0.4367, 0.4355, 0.4266, 0.4256, 0.421, 0.4208, 0.4155, 0.4151, 0.4125, 0.4116, 0.4097, 0.407, 0.406, 0.4058, 0.4051, 0.4016, 0.4012, 0.4005, 0.3989, 0.3969, 0.3967, 0.3959, 0.395, 0.3906, 0.3886, 0.3872, 0.3854, 0.3849, 0.3848, 0.3834, 0.3799, 0.3408, 0.35, 0.3583, 0.3581, 0.3358, 0.3604, 0.309, 0.2928, 0.367, 0.2837, 0.3326, 0.187, 0.2204, 0.2083, 0.0437, 0.3462, 0.1604, 0.1797, 0.0889, 0.2952, 0.2308, 0.109, 0.0748, 0.0776, 0.1055, 0.1545, 0.2253, 0.2272, 0.1678, 0.0794, 0.0761, 0.1112, 0.131, 0.1596, 0.0792, -0.1486, 1.1499, 1.1461, 1.143, 1.1401, 1.1213, 1.1212, 1.1134, 1.1127, 1.0917, 1.0913, 1.0855, 1.0842, 1.0838, 1.0824, 1.0778, 1.0764, 1.0664, 1.0605, 1.0567, 1.0537, 1.0503, 1.0493, 1.0484, 1.0394, 1.0365, 1.0344, 1.0342, 1.0333, 1.0287, 1.023, 1.0026, 0.9658, 0.9271, 0.888, 0.9411, 0.9742, 0.955, 0.7683, 0.9639, 0.8231, 0.8229, 0.8076, 0.1412, 0.3925, 0.7111, 0.7758, 0.3727, 0.3148, 0.033, 0.3183, 0.0631, 0.3634, 0.0057, -0.2366, -0.0635, -0.0367, 0.3272, 0.0347, 0.0343, -0.1554, 0.2496, 0.4368, 0.2228, -0.366, 0.0062, -0.2313, -0.0572, -0.1752, -0.3213, 2.6706, 2.572, 2.4485, 2.3581, 2.2805, 2.2632, 2.2621, 2.1912, 2.1502, 2.0745, 2.0534, 2.0309, 2.0161, 2.0063, 2.0062, 2.0062, 2.0038, 1.9815, 1.965, 1.9309, 1.9309, 1.9217, 1.8584, 1.8522, 1.852, 1.8513, 1.8508, 1.8427, 1.8403, 1.8396, 1.6837, 1.5748, 1.7262, 1.6498, 1.519, 1.697, 1.3371, 1.1374, 1.1454, 1.1834, 0.8076, -0.2617, 1.235, 0.1616, 0.6102, -0.5545, -0.1135, 0.3219, 0.5936, -0.3488, 0.1302, 0.7842, -0.705, -0.212, -0.4207, 0.02, 0.1609, -1.0314, -0.7415, -1.163, -0.9964, -2.3199, -1.666, 3.4366, 3.0699, 2.9634, 2.89, 2.83, 2.7196, 2.7193, 2.5859, 2.5842, 2.5837, 2.4769, 2.4741, 2.4096, 2.3769, 2.2263, 2.1681, 2.1679, 2.1675, 2.1674, 2.1673, 2.1672, 2.1672, 2.1672, 2.1671, 2.167, 2.166, 2.1455, 2.1306, 2.1305, 2.1232, 1.5731, 1.8555, 1.5659, 1.6749, 1.052, 1.454, 1.8967, 1.874, 1.6534, 0.8679, 1.0587, -0.1355, 0.5845, -0.7812, -0.6931, -0.3318, -0.4255, -0.3936, -0.6325, -0.4096, 2.676, 2.6113, 2.5994, 2.5163, 2.4874, 2.411, 2.4041, 2.3773, 2.2168, 2.2167, 2.2137, 2.213, 2.21, 1.9332, 1.8289, 1.8277, 1.8275, 1.8271, 1.8271, 1.8271, 1.8271, 1.8271, 1.8269, 1.8269, 1.8267, 1.8263, 1.8263, 1.8263, 1.8262, 1.8262, 1.6563, 1.7309, 1.6616, 1.4505, 1.5385, 1.4701, 1.228, 1.5471, 1.1871, 1.4565, 0.7446, 1.3587, 1.262, 0.2179, 0.3256, 1.1029, -0.3351, 0.3735, -1.283, 0.1553, -0.4086, 0.7629, 3.1976, 2.6181, 2.6149, 2.399, 2.178, 2.1456, 2.1258, 2.1239, 2.1236, 2.1235, 2.1219, 2.1218, 2.121, 2.1208, 2.1204, 2.1197, 2.1193, 1.9988, 1.9149, 1.8894, 1.8387, 1.8019, 1.8018, 1.8016, 1.8012, 1.8007, 1.8006, 1.8006, 1.8004, 1.8002, 1.7321, 1.7254, 1.7244, 1.1939, 1.5463, 1.5824, 1.6236, 1.2142, 0.9365, 1.4696, 0.5569, -2.7473, -1.0486, -0.3724, 2.7983, 2.1417, 2.1295, 2.12, 1.7613, 1.7609, 1.7609, 1.7602, 1.7596, 1.7595, 1.7589, 1.7581, 1.758, 1.758, 1.7579, 1.7575, 1.7572, 1.7571, 1.757, 1.7566, 1.7564, 1.7563, 1.7527, 1.7527, 1.7519, 1.7365, 1.7363, 1.7359, 1.5874, 1.4399, 1.3397, 1.3101, 1.167, 1.043, -0.3469, 1.93, 1.9073, 1.8925, 1.6042, 1.6006, 1.6005, 1.6001, 1.599, 1.5987, 1.5985, 1.5983, 1.5982, 1.5982, 1.5977, 1.597, 1.5958, 1.5946, 1.5942, 1.5937, 1.5931, 1.5931, 1.5921, 1.5173, 1.5172, 1.5164, 1.5163, 1.516, 1.5159, 1.5154, 1.5154, 1.48, 1.4102, 1.4988, 1.2185, 1.4898, 0.9084, 1.0612, 0.0551, 0.3753, 1.3252, 1.3211, 1.3173]}, \"token.table\": {\"Topic\": [1, 2, 4, 1, 2, 1, 2, 1, 2, 3, 1, 2, 1, 2, 1, 2, 1, 2, 1, 2, 1, 2, 5, 1, 2, 1, 2, 3, 1, 2, 3, 4, 1, 2, 3, 1, 2, 3, 1, 2, 3, 1, 2, 3, 1, 2, 1, 2, 1, 2, 1, 2, 3, 1, 2, 3, 1, 2, 3, 1, 2, 1, 2, 1, 2, 3, 1, 2, 4, 1, 2, 1, 2, 3, 1, 2, 1, 2, 4, 1, 2, 1, 2, 1, 2, 1, 2, 1, 2, 3, 1, 2, 3, 1, 2, 1, 2, 1, 2, 3, 1, 2, 1, 2, 1, 2, 1, 2, 3, 1, 2, 1, 2, 3, 1, 2, 4, 1, 2, 1, 2, 1, 2, 3, 1, 2, 3, 1, 2, 1, 2, 1, 2, 1, 2, 1, 2, 3, 1, 2, 1, 2, 1, 2, 4, 1, 2, 1, 2, 1, 2, 3, 4, 1, 2, 1, 2, 1, 2, 3, 1, 2, 1, 2, 3, 1, 2, 1, 2, 1, 2, 3, 1, 2, 1, 2, 3, 4, 1, 2, 1, 2, 1, 2, 1, 2, 1, 2, 1, 2, 1, 2, 3, 1, 2, 1, 2, 1, 2, 1, 2, 1, 2, 3, 1, 2, 1, 2, 1, 2, 1, 2, 1, 2, 1, 2, 3, 1, 2, 3, 1, 2, 1, 2, 1, 2, 1, 2, 1, 2, 3, 1, 2, 1, 2, 1, 2, 1, 2, 1, 2, 4, 1, 2, 3, 1, 2, 1, 2, 4, 1, 2, 1, 2, 1, 2, 1, 2, 1, 2, 1, 2, 1, 2, 1, 2, 3, 1, 2, 1, 2, 3, 1, 2, 1, 2, 1, 2, 1, 2, 1, 2, 4, 1, 2, 1, 2, 3, 1, 2, 4, 1, 2, 1, 2, 1, 2, 1, 2, 3, 1, 2, 1, 2, 3, 1, 2, 1, 2, 3, 1, 2, 1, 2, 1, 2, 1, 2, 1, 2, 1, 2, 4, 1, 2, 1, 2, 3, 1, 2, 1, 2, 3, 1, 2, 3, 1, 2, 3, 1, 2, 1, 2, 1, 2, 1, 2, 3, 1, 2, 3, 1, 2, 3, 1, 2, 1, 2, 3, 4, 1, 2, 1, 2, 1, 2, 1, 2, 1, 2, 3, 1, 2, 1, 2, 1, 2, 1, 2, 1, 2, 4, 1, 2, 1, 2, 1, 2, 5, 1, 2, 1, 2, 3, 1, 2, 1, 2, 1, 2, 1, 2, 1, 2, 1, 2, 1, 2, 3, 1, 2, 3, 1, 2, 1, 2, 1, 2, 1, 2, 1, 2, 1, 2, 1, 2, 1, 2, 3, 4, 1, 2, 1, 2, 1, 2, 1, 2, 1, 2, 1, 2, 1, 2, 1, 2, 1, 2, 1, 2, 1, 2, 1, 2, 4, 1, 2, 1, 2, 1, 2, 3, 1, 2, 3, 1, 2, 3, 1, 2, 3, 1, 2, 1, 2, 4, 1, 2, 1, 2, 1, 2, 1, 2, 3, 1, 2, 1, 2, 3, 1, 2, 1, 2, 1, 2, 1, 2, 1, 2, 3, 1, 2, 1, 2, 3, 1, 2, 3, 1, 2, 3, 1, 2, 3, 1, 2, 3, 1, 2, 1, 2, 1, 2, 1, 2, 3, 1, 2, 3, 1, 2, 3, 1, 2, 1, 2, 1, 2, 1, 2, 1, 2, 1, 2, 3, 1, 2, 3, 1, 2, 1, 2, 3, 1, 2, 4, 1, 2, 1, 2, 1, 2, 3, 1, 2, 1, 2, 3, 4, 1, 2, 1, 2, 3, 4, 1, 2, 1, 2, 1, 2, 1, 2, 1, 2, 1, 2, 1, 2, 1, 2, 1, 2, 3, 1, 2, 3, 1, 2, 1, 2, 1, 2, 1, 2, 4, 1, 2, 3, 1, 2, 1, 2, 1, 2, 1, 2, 4, 1, 2, 1, 2, 3, 1, 2, 1, 2, 1, 2, 3, 1, 2, 1, 2, 1, 2, 1, 2, 3, 1, 2, 1, 2, 3, 1, 2, 1, 2, 1, 2, 1, 2, 1, 2, 1, 2, 1, 2, 1, 2, 1, 2, 1, 2, 1, 2, 1, 2, 1, 2, 3, 1, 2, 1, 2, 1, 2, 3, 1, 2, 1, 2, 1, 2, 4, 1, 2, 4, 1, 2, 1, 2, 1, 2, 1, 2, 1, 2, 3, 1, 2, 3, 1, 2, 3, 1, 2, 1, 2, 1, 2, 3, 1, 2, 1, 2, 3, 1, 2, 1, 2, 3, 1, 2, 3, 1, 2, 1, 2, 3, 1, 2, 1, 2, 1, 2, 1, 2, 3, 1, 2, 1, 2, 3, 1, 2, 3, 1, 2, 1, 2, 4, 1, 2, 1, 2, 3, 1, 2, 1, 2, 1, 2, 1, 2, 1, 2, 1, 2, 1, 2, 4, 1, 2, 1, 2, 3, 1, 2, 3, 1, 2, 1, 2, 1, 2, 1, 2, 1, 2, 4, 1, 2, 3, 4, 1, 2, 4, 1, 2, 3, 1, 2, 1, 2, 1, 2, 3, 1, 2, 1, 2, 1, 2, 1, 2, 1, 2, 3, 1, 2, 1, 2, 1, 2, 3, 1, 2, 3, 1, 2, 1, 2, 1, 2, 1, 2, 1, 2, 3, 1, 2, 1, 2, 1, 2, 1, 2, 3, 1, 2, 1, 2, 1, 2, 3, 1, 2, 1, 2, 1, 2, 3, 1, 2, 1, 2, 1, 2, 1, 2, 3, 1, 2, 1, 2, 3, 4, 1, 2, 3, 1, 2, 3, 4, 1, 2, 5, 1, 2, 1, 2, 1, 2, 3, 1, 2, 3, 1, 2, 3, 1, 2, 3, 1, 2, 1, 2, 3, 1, 2, 3, 1, 2, 3], \"Freq\": [0.6678697858829816, 0.1669674464707454, 0.0834837232353727, 0.5361776941248989, 0.5361776941248989, 0.5126046422776549, 0.5126046422776549, 0.37419940711068983, 0.44903928853282776, 0.22451964426641388, 0.694702107530031, 0.3473510537650155, 0.4760128961973314, 0.4760128961973314, 0.3685067810715843, 0.3685067810715843, 0.521784557159901, 0.521784557159901, 0.4894114052531207, 0.4894114052531207, 0.7747217722832783, 0.09684022153540979, 0.09684022153540979, 0.19402334232421256, 0.7760933692968502, 0.5734025226021219, 0.1911341742007073, 0.1911341742007073, 0.7059124257244279, 0.2762266013704283, 0.015345922298357127, 0.0076729611491785634, 0.4112957516172211, 0.4112957516172211, 0.4112957516172211, 0.16434897366798268, 0.49304692100394804, 0.32869794733596536, 0.34892034242292785, 0.34892034242292785, 0.34892034242292785, 0.411101980731251, 0.411101980731251, 0.411101980731251, 0.8932951365750514, 0.07882015910956336, 0.47483925925090253, 0.47483925925090253, 0.32829937547489835, 0.6565987509497967, 0.4583559690060399, 0.4583559690060399, 0.4583559690060399, 0.7581296938323058, 0.12635494897205096, 0.12635494897205096, 0.6521495808179814, 0.13042991616359625, 0.2608598323271925, 0.8160821517351169, 0.2720273839117056, 0.9254477614503298, 0.05443810361472528, 0.7683145601321092, 0.12805242668868486, 0.08536828445912324, 0.7318491020499426, 0.2439497006833142, 0.017424978620236727, 0.5427363679505989, 0.5427363679505989, 0.9509550094286653, 0.022641785938777744, 0.022641785938777744, 0.5225693597137792, 0.5225693597137792, 0.24626663907153054, 0.24626663907153054, 0.4925332781430611, 0.5025240031130009, 0.5025240031130009, 0.44713130547104174, 0.44713130547104174, 0.5649893049014847, 0.28249465245074235, 0.07715682058449636, 0.9258818470139563, 0.4950103233570153, 0.24750516167850764, 0.24750516167850764, 0.7270807816020496, 0.17107783096518814, 0.08553891548259407, 0.8898577918631165, 0.10468915198389606, 0.9436701090199917, 0.04493667185809484, 0.4111651067705623, 0.4111651067705623, 0.4111651067705623, 0.42949058509528115, 0.42949058509528115, 0.5222904986499661, 0.5222904986499661, 0.48938676509650014, 0.48938676509650014, 0.7400882030449215, 0.08223202256054683, 0.16446404512109367, 0.5024892890192401, 0.5024892890192401, 0.5915978973379854, 0.3746786683140574, 0.019719929911266178, 0.48525461939757686, 0.4159325309122088, 0.06932208848536812, 0.4855087118124559, 0.4855087118124559, 0.5125386862164826, 0.5125386862164826, 0.38731451190893224, 0.38731451190893224, 0.38731451190893224, 0.6860156814710525, 0.29935229736918656, 0.012473012390382773, 0.45624814634944905, 0.22812407317472452, 0.9203951182506503, 0.07363160946005202, 0.9394322335748759, 0.04473486826547028, 0.5026676753330868, 0.5026676753330868, 0.35411939234899453, 0.6227616899930594, 0.012211013529275675, 0.5021677607748296, 0.5021677607748296, 0.9320704360095347, 0.07169772584688729, 0.41836390952102265, 0.41836390952102265, 0.41836390952102265, 0.4413700488044418, 0.4413700488044418, 0.5125654953330437, 0.5125654953330437, 0.342671407301224, 0.342671407301224, 0.342671407301224, 0.342671407301224, 0.48987914608796285, 0.48987914608796285, 0.87582965447352, 0.102180126355244, 0.822399297853313, 0.12094107321372251, 0.048376429285489, 0.5125305632470541, 0.5125305632470541, 0.32431204679861, 0.32431204679861, 0.32431204679861, 0.3380083337777796, 0.3380083337777796, 0.48861406606856256, 0.48861406606856256, 0.6800139136939802, 0.29879399238068827, 0.010303241116575459, 0.48958448778851005, 0.48958448778851005, 0.2709889928621212, 0.7161851954213203, 0.019356356633008658, 0.019356356633008658, 0.1578668745456234, 0.789334372728117, 0.5025469903398674, 0.5025469903398674, 0.4957131100927511, 0.4957131100927511, 0.9415185617323688, 0.05230658676290938, 0.5022732334730039, 0.5022732334730039, 0.47463103491486486, 0.47463103491486486, 0.7069664581930072, 0.26932055550209794, 0.03366506943776224, 0.48482025997308864, 0.48482025997308864, 0.5426495363685679, 0.5426495363685679, 0.5125223075074172, 0.5125223075074172, 0.5172302419776339, 0.5172302419776339, 0.7479530051033, 0.24086622198241864, 0.012677169578022033, 0.31034664120119093, 0.6771199444389621, 0.5208066003932839, 0.5208066003932839, 0.25544284006100526, 0.7450416168445987, 0.0969587493922254, 0.8726287445300286, 0.3370362370794931, 0.6740724741589862, 0.6050186408245709, 0.2688971736998093, 0.06722429342495233, 0.6770846052443521, 0.2975068720013062, 0.010258857655217456, 0.3940083186544168, 0.6061666440837181, 0.5228088173091981, 0.5228088173091981, 0.5428182289088839, 0.5428182289088839, 0.7289638283808619, 0.24298794279362065, 0.411110184586029, 0.411110184586029, 0.411110184586029, 0.45335517285857446, 0.45335517285857446, 0.5220225408993425, 0.5220225408993425, 0.923938060049194, 0.032997787858899785, 0.4897762057705991, 0.4897762057705991, 0.6385813962346394, 0.3192906981173197, 0.10643023270577323, 0.41087016956558814, 0.41087016956558814, 0.41087016956558814, 0.1571937678625862, 0.785968839312931, 0.4410652751251217, 0.22053263756256086, 0.22053263756256086, 0.36278721674951087, 0.36278721674951087, 0.5125364879214832, 0.5125364879214832, 0.369708851851952, 0.369708851851952, 0.4862480473997925, 0.4862480473997925, 0.37017862028528975, 0.37017862028528975, 0.5125774127181983, 0.5125774127181983, 0.6949009600187254, 0.3474504800093627, 0.22809773981903783, 0.11404886990951892, 0.6842932194571135, 0.4771537813570332, 0.4771537813570332, 0.4617778959421195, 0.4617778959421195, 0.4617778959421195, 0.4932793110501011, 0.4932793110501011, 0.06675192896171356, 0.9345270054639899, 0.10732564483115253, 0.8586051586492203, 0.5221648616486254, 0.5221648616486254, 0.44607584227906244, 0.22303792113953122, 0.22303792113953122, 0.2836042181159115, 0.567208436231823, 0.9637459266011541, 0.021576401341816882, 0.014384267561211255, 0.43817287652912223, 0.43817287652912223, 0.43817287652912223, 0.5425960987130967, 0.5425960987130967, 0.34772577252990844, 0.6181791511642817, 0.5363900477607947, 0.5363900477607947, 0.558565718670821, 0.2792828593354105, 0.2792828593354105, 0.5364958006978171, 0.5364958006978171, 0.5363893679433716, 0.17879645598112384, 0.17879645598112384, 0.975363478271032, 0.042407107750914434, 0.8483232778988633, 0.13831357791829293, 0.018441810389105723, 0.9257392354259709, 0.03560535520869119, 0.542771369645033, 0.542771369645033, 0.4988190322625946, 0.4988190322625946, 0.09449661454653063, 0.8504695309187758, 0.09110968751733237, 0.9110968751733236, 0.665751250346304, 0.3221377017804697, 0.021475846785364645, 0.11092582643535934, 0.8874066114828747, 0.7837372551595183, 0.1891779581419527, 0.013512711295853764, 0.6906496857020349, 0.34532484285101744, 0.6733193929503624, 0.2589689972886009, 0.05179379945772018, 0.6712923875391467, 0.07458804305990518, 0.22376412917971555, 0.4638660784861403, 0.4638660784861403, 0.4638660784861403, 0.5429625366475935, 0.5429625366475935, 0.5426671891457221, 0.5426671891457221, 0.5122008056987548, 0.5122008056987548, 0.463712337362257, 0.463712337362257, 0.463712337362257, 0.7512114925396833, 0.23185539893200102, 0.00927421595728004, 0.7362190969993465, 0.2506277777019052, 0.007832118053184537, 0.5219997602547973, 0.5219997602547973, 0.7332753412203423, 0.22813010615743984, 0.03259001516534855, 0.016295007582674274, 0.1422001098333917, 0.8532006590003504, 0.48854657133222806, 0.48854657133222806, 0.4894718240521062, 0.4894718240521062, 0.5214647169267375, 0.4412393758610856, 0.35404490202277417, 0.35404490202277417, 0.35404490202277417, 0.4883839196354098, 0.4883839196354098, 0.9691304471198637, 0.02363732797853326, 0.34527686762235205, 0.6617806629428414, 0.521940699224511, 0.521940699224511, 0.2115614419962148, 0.7404650469867518, 0.1057807209981074, 0.5218314016790614, 0.5218314016790614, 0.8340387574505539, 0.20850968936263847, 0.7395475568167051, 0.14790951136334102, 0.14790951136334102, 0.7087177703313559, 0.23623925677711863, 0.3468910917770537, 0.3468910917770537, 0.3468910917770537, 0.5031542259073994, 0.5031542259073994, 0.8647217418547143, 0.17294434837094286, 0.9334326542173911, 0.049128034432494264, 0.4895251100512096, 0.4895251100512096, 0.4746288866362305, 0.4746288866362305, 0.3278793897830639, 0.6557587795661278, 0.2721311482190035, 0.2721311482190035, 0.2721311482190035, 0.45824802965217304, 0.45824802965217304, 0.45824802965217304, 0.5220106298562486, 0.5220106298562486, 0.3828939431023683, 0.3828939431023683, 0.5031318642347371, 0.5031318642347371, 0.444222845196711, 0.444222845196711, 0.220903981344387, 0.7510735365709158, 0.13196730585002572, 0.8577874880251671, 0.47473148515576236, 0.47473148515576236, 0.3098604486695706, 0.6197208973391412, 0.051643408111595096, 0.051643408111595096, 0.45503863198633676, 0.45503863198633676, 0.4189290668357047, 0.5585720891142729, 0.14536477621900123, 0.8721886573140075, 0.3499564700564004, 0.6999129401128008, 0.5427070455946419, 0.5427070455946419, 0.6311410429541161, 0.31557052147705805, 0.5427875194531786, 0.5427875194531786, 0.48942906133378755, 0.48942906133378755, 0.4219952507708905, 0.5063943009250687, 0.536316704690195, 0.536316704690195, 0.947697258779695, 0.043077148126349774, 0.4231469717176469, 0.21157348585882346, 0.21157348585882346, 0.4431701491229108, 0.4431701491229108, 0.9149341600830997, 0.05718338500519373, 0.5183961251864797, 0.25919806259323985, 0.25919806259323985, 0.360660309695449, 0.360660309695449, 0.360660309695449, 0.722243327413594, 0.24904942324606688, 0.03735741348691003, 0.19616009381643762, 0.7846403752657505, 0.06538669793881255, 0.944299089231501, 0.06295327261543339, 0.46043437516564534, 0.46043437516564534, 0.46043437516564534, 0.09695180055052197, 0.8725662049546976, 0.5360869623184897, 0.5360869623184897, 0.538698324233043, 0.44891527019420246, 0.7375625394057372, 0.21853704871281102, 0.04097569663365207, 0.5229580507544486, 0.5229580507544486, 0.40179460392896665, 0.40179460392896665, 0.40179460392896665, 0.39926070502351, 0.39926070502351, 0.5584360286383103, 0.37229068575887353, 0.5362073457511194, 0.5362073457511194, 0.6073668609572369, 0.30368343047861845, 0.46376378559949427, 0.46376378559949427, 0.46376378559949427, 0.5023290195526984, 0.5023290195526984, 0.3500914861171238, 0.3500914861171238, 0.3500914861171238, 0.7882584534010296, 0.2024884100479709, 0.0072317289302846754, 0.3159394137833512, 0.5528939741208646, 0.1579697068916756, 0.7754877101828863, 0.2154132528285795, 0.008616530113143181, 0.5718887418255836, 0.3968207596340784, 0.023342397625534025, 0.5171659773446518, 0.5171659773446518, 0.4746834049990039, 0.4746834049990039, 0.9316742229513801, 0.04234882831597182, 0.7418124212106293, 0.06743749283732994, 0.1348749856746599, 0.5281693672703197, 0.26408468363515986, 0.26408468363515986, 0.25314919552469384, 0.25314919552469384, 0.5062983910493877, 0.5430144232292252, 0.5430144232292252, 0.8066553005521554, 0.2688851001840518, 0.5426469835375136, 0.5426469835375136, 0.5210055067688064, 0.5210055067688064, 0.8254837882591763, 0.20637094706479409, 0.9571949416583102, 0.019534590646087962, 0.019534590646087962, 0.5995710769559349, 0.37867646965637997, 0.0157781862356825, 0.612055107754615, 0.36392465866490625, 0.435273361636879, 0.3264550212276593, 0.10881834040921975, 0.46059708527128695, 0.46059708527128695, 0.46059708527128695, 0.48991271985259316, 0.48991271985259316, 0.5225730461804045, 0.5225730461804045, 0.5676144313305561, 0.41281049551313176, 0.017200437313047157, 0.6370740133811761, 0.31853700669058804, 0.6001468238407509, 0.3177247890921623, 0.035302754343573585, 0.035302754343573585, 0.526087705248333, 0.350725136832222, 0.3647584262034471, 0.3647584262034471, 0.18237921310172356, 0.18237921310172356, 0.69307988478972, 0.23102662826324002, 0.48920251826618544, 0.48920251826618544, 0.5364862510161844, 0.5364862510161844, 0.4885045477235641, 0.4885045477235641, 0.5031771930439287, 0.5031771930439287, 0.2835738699449233, 0.5671477398898466, 0.48873831040501237, 0.48873831040501237, 0.09729393297074909, 0.8756453967367418, 0.33709032500653496, 0.33709032500653496, 0.33709032500653496, 0.7584366023001614, 0.22952686648557516, 0.009979428977633703, 0.5965038292837355, 0.40199171103903913, 0.3839657959066543, 0.3839657959066543, 0.4421706648581275, 0.4421706648581275, 0.4551818490660595, 0.34138638679954464, 0.11379546226651488, 0.4345191173595755, 0.496593276982372, 0.0620741596227965, 0.6045537872905091, 0.30227689364525456, 0.0668818318276158, 0.9363456455866213, 0.12036121210716527, 0.842528484750157, 0.7038115157563087, 0.14076230315126176, 0.14076230315126176, 0.9376089402711462, 0.04464804477481648, 0.892487015162251, 0.09562360876738403, 0.01593726812789734, 0.948129858440616, 0.045149040878124574, 0.9457935612917069, 0.06305290408611379, 0.7677987424864712, 0.0959748428108089, 0.14396226421621333, 0.15740417549193725, 0.7870208774596863, 0.07344360210688108, 0.881323225282573, 0.8701996017659649, 0.11156405150845704, 0.6227580577493906, 0.3113790288746953, 0.3113790288746953, 0.5208333628231282, 0.5208333628231282, 0.9004692118075667, 0.06588799110787073, 0.021962663702623578, 0.5227316066409265, 0.5227316066409265, 0.19080320910195922, 0.8586144409588164, 0.9599561070560096, 0.06399707380373397, 0.5217224357628227, 0.5217224357628227, 0.47464999937953156, 0.47464999937953156, 0.5432297939377001, 0.5432297939377001, 0.5217713775840771, 0.5217713775840771, 0.1310370730077293, 0.7862224380463758, 0.1428976365067911, 0.8573858190407466, 0.474851648386091, 0.474851648386091, 0.5426281250600334, 0.5426281250600334, 0.5427779096669569, 0.5427779096669569, 0.8918895298098479, 0.06860688690844984, 0.022868962302816615, 0.4747467895846312, 0.4747467895846312, 0.5125051609576325, 0.5125051609576325, 0.2833589255248261, 0.2833589255248261, 0.2833589255248261, 0.5219719303192728, 0.5219719303192728, 0.4739762205347682, 0.4739762205347682, 0.22129387385574928, 0.22129387385574928, 0.6638816215672478, 0.2773317381603635, 0.2773317381603635, 0.2773317381603635, 0.6728780138866015, 0.22429267129553382, 0.23156619526017122, 0.7525901345955565, 0.5833100865918515, 0.19443669553061715, 0.9673820342043737, 0.03869528136817495, 0.5579125205052162, 0.4281654227133055, 0.02594941955838215, 0.9363169942655408, 0.028373242250470936, 0.028373242250470936, 0.31083423800264015, 0.31083423800264015, 0.6216684760052803, 0.4497749746204482, 0.4497749746204482, 0.37066808149649483, 0.37066808149649483, 0.8360687515719568, 0.15201250028581031, 0.01266770835715086, 0.5220919313846699, 0.5220919313846699, 0.4638507547369063, 0.4638507547369063, 0.4638507547369063, 0.5223285429918159, 0.5223285429918159, 0.6594355078661877, 0.33584633671995434, 0.0049028662294883845, 0.7028000615013869, 0.28112002460055474, 0.011713334358356448, 0.5628221871384779, 0.40201584795605566, 0.45800932138452843, 0.40711939678624753, 0.10177984919656188, 0.6543684546236799, 0.2181228182078933, 0.11994127300336406, 0.8395889110235485, 0.502517469127673, 0.502517469127673, 0.7267478036187822, 0.22949930640593122, 0.03824988440098854, 0.130631550584132, 0.849105078796858, 0.8115906515683597, 0.11194353814735997, 0.05597176907367998, 0.3888894574006456, 0.3888894574006456, 0.1944447287003228, 0.542919265550451, 0.542919265550451, 0.5139222732428511, 0.25696113662142556, 0.25696113662142556, 0.5026754667404768, 0.5026754667404768, 0.5832020718885628, 0.2916010359442814, 0.2916010359442814, 0.7010918973592527, 0.17527297433981318, 0.5172483993099289, 0.5172483993099289, 0.9548530286752401, 0.06365686857834935, 0.5069285729934427, 0.5069285729934427, 0.8532316692782367, 0.17064633385564734, 0.12011501693470487, 0.8408051185429342, 0.4381174854509251, 0.4381174854509251, 0.4381174854509251, 0.5361497221588123, 0.5361497221588123, 0.691442236019837, 0.30399615549148007, 0.0059607089312054915, 0.9010351994575381, 0.053002070556325775, 0.053002070556325775, 0.5361844192879406, 0.5361844192879406, 0.503599791340919, 0.503599791340919, 0.8585060373378265, 0.1304059803551129, 0.5305918308154892, 0.2652959154077446, 0.46100874770805317, 0.46100874770805317, 0.46100874770805317, 0.7343716214147809, 0.24479054047159363, 0.010199605852983067, 0.010199605852983067, 0.30129545133254404, 0.6025909026650881, 0.10043181711084802, 0.783485445772202, 0.18080433363973894, 0.030134055606623158, 0.445165615789809, 0.445165615789809, 0.19602793483680983, 0.7841117393472393, 0.7937476114665983, 0.17790894739768584, 0.013685303645975833, 0.960030966508805, 0.041740476804730656, 0.5217824748633569, 0.5217824748633569, 0.4894597955183593, 0.4894597955183593, 0.11186785537168316, 0.8949428429734653, 0.700319996217604, 0.28346285561188733, 0.016674285624228666, 0.5216109641450595, 0.5216109641450595, 0.48897255321369026, 0.48897255321369026, 0.7785769143250305, 0.12976281905417175, 0.12976281905417175, 0.8824606552538501, 0.07492590469136463, 0.033300402085050945, 0.6403313726875215, 0.32016568634376075, 0.15745156340804886, 0.7872578170402443, 0.1450753157005084, 0.8704518942030506, 0.4887777376550136, 0.4887777376550136, 0.37718527623739645, 0.37718527623739645, 0.37718527623739645, 0.3203854862358441, 0.3203854862358441, 0.46711131062873146, 0.46711131062873146, 0.5126467691787051, 0.5126467691787051, 0.7116665910218618, 0.26300721842112285, 0.015471012848301345, 0.09113551137211286, 0.9113551137211287, 0.5206053950618033, 0.5206053950618033, 0.9092738032019625, 0.06494812880014018, 0.03247406440007009, 0.9517841216688414, 0.029743253802151294, 0.17450600722242227, 0.8027276332231424, 0.9641415829906161, 0.01890473692138463, 0.009452368460692315, 0.5216287856114498, 0.5216287856114498, 0.9728069655953174, 0.02494376834859788, 0.9152550787000747, 0.05720344241875467, 0.7917509077605922, 0.18714112365250363, 0.014395471050192586, 0.2281226723863154, 0.7699140193038144, 0.7161230603349801, 0.25575823583392143, 0.017050549055594763, 0.017050549055594763, 0.5549084021612698, 0.41993068271663664, 0.014997524382737023, 0.6513905747603946, 0.30760110474796415, 0.018094182632233183, 0.018094182632233183, 0.7185062291852559, 0.17962655729631397, 0.17962655729631397, 0.5127464764329649, 0.5127464764329649, 0.5224627421512649, 0.5224627421512649, 0.7268488219065716, 0.2180546465719715, 0.07268488219065716, 0.785321099300945, 0.060409315330841915, 0.12081863066168383, 0.5419186538469071, 0.4354703468412646, 0.019354237637389537, 0.15002763176997147, 0.8376542773823408, 0.012502302647497623, 0.5427694871042931, 0.5427694871042931, 0.6796500195448577, 0.296085157029443, 0.026916832457222088, 0.8495144675050857, 0.09439049638945397, 0.05663429783367238, 0.6804801403080812, 0.30800680034997363, 0.007162948845348223], \"Term\": [\"accept\", \"accept\", \"accept\", \"acceptance\", \"acceptance\", \"accessory\", \"accessory\", \"account\", \"account\", \"account\", \"accrue\", \"accrue\", \"achiuwa\", \"achiuwa\", \"affiliate\", \"affiliate\", \"affiliation\", \"affiliation\", \"afghan\", \"afghan\", \"agent\", \"agent\", \"agent\", \"agreement\", \"agreement\", \"airport\", \"airport\", \"airport\", \"also\", \"also\", \"also\", \"also\", \"amplify\", \"amplify\", \"amplify\", \"animal\", \"animal\", \"animal\", \"anon\", \"anon\", \"anon\", \"anonymous\", \"anonymous\", \"anonymous\", \"anti\", \"anti\", \"anymore\", \"anymore\", \"applicant\", \"applicant\", \"archive\", \"archive\", \"archive\", \"armed\", \"armed\", \"armed\", \"arrest\", \"arrest\", \"arrest\", \"assure\", \"assure\", \"asylum\", \"asylum\", \"attempt\", \"attempt\", \"attempt\", \"back\", \"back\", \"back\", \"bait\", \"bait\", \"ballot\", \"ballot\", \"ballot\", \"baptist\", \"baptist\", \"battery\", \"battery\", \"battery\", \"beal\", \"beal\", \"behalf\", \"behalf\", \"being\", \"being\", \"bezos\", \"bezos\", \"bias\", \"bias\", \"bias\", \"biden\", \"biden\", \"biden\", \"bill\", \"bill\", \"black\", \"black\", \"blair_mountain\", \"blair_mountain\", \"blair_mountain\", \"bless\", \"bless\", \"blessing\", \"blessing\", \"bloodied\", \"bloodied\", \"book\", \"book\", \"book\", \"boom\", \"boom\", \"business\", \"business\", \"business\", \"buy\", \"buy\", \"buy\", \"cable\", \"cable\", \"cadmium\", \"cadmium\", \"cage\", \"cage\", \"cage\", \"call\", \"call\", \"call\", \"camera\", \"camera\", \"campaign\", \"campaign\", \"candidate\", \"candidate\", \"cannabis\", \"cannabis\", \"case\", \"case\", \"case\", \"cassidy\", \"cassidy\", \"cast\", \"cast\", \"cell\", \"cell\", \"cell\", \"chaos\", \"chaos\", \"charger\", \"charger\", \"charity\", \"charity\", \"charity\", \"charity\", \"checkpoint\", \"checkpoint\", \"child\", \"child\", \"claim\", \"claim\", \"claim\", \"cnet\", \"cnet\", \"coal\", \"coal\", \"coal\", \"collapse\", \"collapse\", \"comb\", \"comb\", \"come\", \"come\", \"come\", \"commander\", \"commander\", \"company\", \"company\", \"company\", \"company\", \"concentration\", \"concentration\", \"connected\", \"connected\", \"conscience\", \"conscience\", \"conservative\", \"conservative\", \"consolidation\", \"consolidation\", \"conspiracist\", \"conspiracist\", \"control\", \"control\", \"control\", \"convey\", \"convey\", \"cord\", \"cord\", \"correspond\", \"correspond\", \"correspondent\", \"correspondent\", \"could\", \"could\", \"could\", \"county\", \"county\", \"covenant\", \"covenant\", \"covid\", \"covid\", \"crop\", \"crop\", \"cultivation\", \"cultivation\", \"culture\", \"culture\", \"culture\", \"day\", \"day\", \"day\", \"death\", \"death\", \"debunk\", \"debunk\", \"decry\", \"decry\", \"deeply\", \"deeply\", \"defeat\", \"defeat\", \"defeat\", \"delay\", \"delay\", \"dementia\", \"dementia\", \"democracy\", \"democracy\", \"depart\", \"depart\", \"depend\", \"depend\", \"depend\", \"despair\", \"despair\", \"despair\", \"destiny\", \"destiny\", \"device\", \"device\", \"device\", \"diligence\", \"diligence\", \"directory\", \"directory\", \"disorder\", \"disorder\", \"dispensary\", \"dispensary\", \"disperse\", \"disperse\", \"dispose\", \"dispose\", \"diversity\", \"diversity\", \"dog\", \"dog\", \"dog\", \"dominate\", \"dominate\", \"doorway\", \"doorway\", \"doorway\", \"doubtlessly\", \"doubtlessly\", \"drought\", \"drought\", \"dry\", \"dry\", \"earnestly\", \"earnestly\", \"earth\", \"earth\", \"earth\", \"effectively\", \"effectively\", \"election\", \"election\", \"election\", \"electronic\", \"electronic\", \"electronic\", \"emergence\", \"emergence\", \"employee\", \"employee\", \"ending\", \"ending\", \"entertain\", \"entertain\", \"entertain\", \"entertainer\", \"entertainer\", \"evacuation\", \"evacuation\", \"evacuation\", \"evangelical\", \"evangelical\", \"even\", \"even\", \"even\", \"eviction\", \"eviction\", \"excel\", \"excel\", \"exhort\", \"exhort\", \"exposure\", \"exposure\", \"farmworker\", \"farmworker\", \"find\", \"find\", \"find\", \"firefighter\", \"firefighter\", \"first\", \"first\", \"first\", \"flop\", \"flop\", \"follow\", \"follow\", \"follow\", \"follower\", \"follower\", \"follower\", \"footage\", \"footage\", \"footage\", \"forge\", \"forge\", \"founding\", \"founding\", \"gadget\", \"gadget\", \"ganzert\", \"ganzert\", \"ganzert\", \"get\", \"get\", \"get\", \"go\", \"go\", \"go\", \"godly\", \"godly\", \"good\", \"good\", \"good\", \"good\", \"grape\", \"grape\", \"grenade\", \"grenade\", \"grind\", \"grind\", \"grow\", \"grow\", \"guide\", \"guide\", \"guide\", \"gunman\", \"gunman\", \"haitian\", \"haitian\", \"health\", \"health\", \"hearte\", \"hearte\", \"heat\", \"heat\", \"heat\", \"heavenly\", \"heavenly\", \"horrible\", \"horrible\", \"horse\", \"horse\", \"horse\", \"horseback\", \"horseback\", \"humor\", \"humor\", \"humor\", \"iip\", \"iip\", \"illegal\", \"illegal\", \"image\", \"image\", \"imagery\", \"imagery\", \"imago\", \"imago\", \"immigrant\", \"immigrant\", \"immune\", \"immune\", \"immune\", \"impeach\", \"impeach\", \"impeach\", \"importune\", \"importune\", \"inappropriate\", \"inappropriate\", \"indication\", \"indication\", \"industrial\", \"industrial\", \"industry\", \"industry\", \"infection\", \"infection\", \"inflection\", \"inflection\", \"information\", \"information\", \"information\", \"information\", \"infuse\", \"infuse\", \"injury\", \"injury\", \"innovation\", \"innovation\", \"innovative\", \"innovative\", \"insane\", \"insane\", \"instigate\", \"instigate\", \"instill\", \"instill\", \"interpreter\", \"interpreter\", \"investigation\", \"investigation\", \"invite\", \"invite\", \"israeli\", \"israeli\", \"item\", \"item\", \"item\", \"jet\", \"jet\", \"jewish\", \"jewish\", \"joke\", \"joke\", \"joke\", \"knock\", \"knock\", \"knock\", \"know\", \"know\", \"know\", \"labor\", \"labor\", \"labor\", \"landlord\", \"landlord\", \"laptop\", \"laptop\", \"laptop\", \"latino\", \"latino\", \"lax\", \"lax\", \"least\", \"least\", \"leave\", \"leave\", \"leave\", \"lense\", \"lense\", \"lentz\", \"lentz\", \"lentz\", \"library\", \"library\", \"license\", \"license\", \"literacy\", \"literacy\", \"loop\", \"loop\", \"loose\", \"loose\", \"loose\", \"lottery\", \"lottery\", \"mailing\", \"mailing\", \"mailing\", \"make\", \"make\", \"make\", \"management\", \"management\", \"management\", \"many\", \"many\", \"many\", \"may\", \"may\", \"may\", \"membership\", \"membership\", \"messing\", \"messing\", \"migrant\", \"migrant\", \"military\", \"military\", \"military\", \"mine\", \"mine\", \"mine\", \"miner\", \"miner\", \"miner\", \"misidentifie\", \"misidentifie\", \"moral\", \"moral\", \"moron\", \"moron\", \"moronic\", \"moronic\", \"mount\", \"mount\", \"movement\", \"movement\", \"movement\", \"much\", \"much\", \"much\", \"new\", \"new\", \"newsletter\", \"newsletter\", \"newsletter\", \"nickel\", \"nickel\", \"nickel\", \"nongovernment\", \"nongovernment\", \"nonsense\", \"nonsense\", \"number\", \"number\", \"number\", \"offender\", \"offender\", \"old\", \"old\", \"old\", \"old\", \"opportunity\", \"opportunity\", \"option\", \"option\", \"option\", \"option\", \"outlet\", \"outlet\", \"overhead\", \"overhead\", \"oversight\", \"oversight\", \"pall\", \"pall\", \"parnell\", \"parnell\", \"passenger\", \"passenger\", \"passport\", \"passport\", \"patient\", \"patient\", \"patriot\", \"patriot\", \"patriot\", \"people\", \"people\", \"people\", \"percent\", \"percent\", \"persecute\", \"persecute\", \"personnel\", \"personnel\", \"phone\", \"phone\", \"phone\", \"plan\", \"plan\", \"plan\", \"plane\", \"plane\", \"plant\", \"plant\", \"plasma\", \"plasma\", \"player\", \"player\", \"player\", \"police\", \"police\", \"political\", \"political\", \"political\", \"poll\", \"poll\", \"polling\", \"polling\", \"post\", \"post\", \"post\", \"postal\", \"postal\", \"poultry\", \"poultry\", \"power\", \"power\", \"pray\", \"pray\", \"pray\", \"prayerfully\", \"prayerfully\", \"president\", \"president\", \"president\", \"prestige\", \"prestige\", \"processing\", \"processing\", \"progressive\", \"progressive\", \"proverb\", \"proverb\", \"pseudonymous\", \"pseudonymous\", \"psskow\", \"psskow\", \"pulpit\", \"pulpit\", \"purple\", \"purple\", \"quarantine\", \"quarantine\", \"rabbit\", \"rabbit\", \"raul\", \"raul\", \"rdevro\", \"rdevro\", \"read\", \"read\", \"read\", \"realization\", \"realization\", \"rechargeable\", \"rechargeable\", \"reckon\", \"reckon\", \"reckon\", \"reconsider\", \"reconsider\", \"recreational\", \"recreational\", \"recycle\", \"recycle\", \"recycle\", \"recycling\", \"recycling\", \"recycling\", \"regardless\", \"regardless\", \"region\", \"region\", \"rein\", \"rein\", \"rent\", \"rent\", \"report\", \"report\", \"report\", \"republican\", \"republican\", \"republican\", \"rescue\", \"rescue\", \"rescue\", \"retribution\", \"retribution\", \"ride\", \"ride\", \"right\", \"right\", \"right\", \"riverine\", \"riverine\", \"rtcom\", \"rtcom\", \"rtcom\", \"sacredness\", \"sacredness\", \"say\", \"say\", \"say\", \"see\", \"see\", \"see\", \"sell\", \"sell\", \"service\", \"service\", \"service\", \"sex\", \"sex\", \"shareholder\", \"shareholder\", \"shooter\", \"shooter\", \"show\", \"show\", \"show\", \"sick\", \"sick\", \"sign\", \"sign\", \"sign\", \"sister\", \"sister\", \"sister\", \"slack\", \"slack\", \"smartphone\", \"smartphone\", \"smartphone\", \"social_equity\", \"social_equity\", \"social_security\", \"social_security\", \"social_security\", \"source\", \"source\", \"specialization\", \"specialization\", \"speech\", \"speech\", \"spin\", \"spin\", \"split\", \"split\", \"spring\", \"spring\", \"staple\", \"staple\", \"staple\", \"starne\", \"starne\", \"state\", \"state\", \"state\", \"steal\", \"steal\", \"steal\", \"stun\", \"stun\", \"supplementary\", \"supplementary\", \"support\", \"support\", \"suspend\", \"suspend\", \"tablet\", \"tablet\", \"tablet\", \"take\", \"take\", \"take\", \"take\", \"tech\", \"tech\", \"tech\", \"tell\", \"tell\", \"tell\", \"terminal\", \"terminal\", \"test\", \"test\", \"think\", \"think\", \"think\", \"threat\", \"threat\", \"throated\", \"throated\", \"throe\", \"throe\", \"tier\", \"tier\", \"time\", \"time\", \"time\", \"timeless\", \"timeless\", \"traveler\", \"traveler\", \"troop\", \"troop\", \"troop\", \"trump\", \"trump\", \"trump\", \"trumpism\", \"trumpism\", \"undocumente\", \"undocumente\", \"undocumented\", \"undocumented\", \"unfold\", \"unfold\", \"unfounded\", \"unfounded\", \"unfounded\", \"unhappy\", \"unhappy\", \"unit\", \"unit\", \"upgrade\", \"upgrade\", \"use\", \"use\", \"use\", \"usp\", \"usp\", \"uyghur\", \"uyghur\", \"view\", \"view\", \"view\", \"violence\", \"violence\", \"virus\", \"virus\", \"vote\", \"vote\", \"vote\", \"voted\", \"voted\", \"voter\", \"voter\", \"voting\", \"voting\", \"want\", \"want\", \"want\", \"water\", \"water\", \"way\", \"way\", \"way\", \"way\", \"week\", \"week\", \"week\", \"well\", \"well\", \"well\", \"well\", \"whip\", \"whip\", \"whip\", \"wireless\", \"wireless\", \"withersoever\", \"withersoever\", \"witness\", \"witness\", \"witness\", \"word\", \"word\", \"word\", \"work\", \"work\", \"work\", \"worker\", \"worker\", \"worker\", \"worse\", \"worse\", \"would\", \"would\", \"would\", \"write\", \"write\", \"write\", \"year\", \"year\", \"year\"]}, \"R\": 30, \"lambda.step\": 0.01, \"plot.opts\": {\"xlab\": \"PC1\", \"ylab\": \"PC2\"}, \"topic.order\": [2, 8, 4, 5, 7, 3, 1, 6]};\n",
              "\n",
              "function LDAvis_load_lib(url, callback){\n",
              "  var s = document.createElement('script');\n",
              "  s.src = url;\n",
              "  s.async = true;\n",
              "  s.onreadystatechange = s.onload = callback;\n",
              "  s.onerror = function(){console.warn(\"failed to load library \" + url);};\n",
              "  document.getElementsByTagName(\"head\")[0].appendChild(s);\n",
              "}\n",
              "\n",
              "if(typeof(LDAvis) !== \"undefined\"){\n",
              "   // already loaded: just create the visualization\n",
              "   !function(LDAvis){\n",
              "       new LDAvis(\"#\" + \"ldavis_el621405433227999524925456542\", ldavis_el621405433227999524925456542_data);\n",
              "   }(LDAvis);\n",
              "}else if(typeof define === \"function\" && define.amd){\n",
              "   // require.js is available: use it to load d3/LDAvis\n",
              "   require.config({paths: {d3: \"https://d3js.org/d3.v5\"}});\n",
              "   require([\"d3\"], function(d3){\n",
              "      window.d3 = d3;\n",
              "      LDAvis_load_lib(\"https://cdn.jsdelivr.net/gh/bmabey/pyLDAvis@3.3.1/pyLDAvis/js/ldavis.v3.0.0.js\", function(){\n",
              "        new LDAvis(\"#\" + \"ldavis_el621405433227999524925456542\", ldavis_el621405433227999524925456542_data);\n",
              "      });\n",
              "    });\n",
              "}else{\n",
              "    // require.js not available: dynamically load d3 & LDAvis\n",
              "    LDAvis_load_lib(\"https://d3js.org/d3.v5.js\", function(){\n",
              "         LDAvis_load_lib(\"https://cdn.jsdelivr.net/gh/bmabey/pyLDAvis@3.3.1/pyLDAvis/js/ldavis.v3.0.0.js\", function(){\n",
              "                 new LDAvis(\"#\" + \"ldavis_el621405433227999524925456542\", ldavis_el621405433227999524925456542_data);\n",
              "            })\n",
              "         });\n",
              "}\n",
              "</script>"
            ]
          },
          "metadata": {},
          "execution_count": 42
        }
      ]
    },
    {
      "cell_type": "code",
      "source": [
        "!pip install sklearn\n",
        "from sklearn.feature_extraction.text import CountVectorizer\n",
        "from sklearn.decomposition import LatentDirichletAllocation\n",
        "from sklearn.feature_extraction.text import CountVectorizer, TfidfVectorizer\n",
        "from sklearn.decomposition import LatentDirichletAllocation\n",
        "lda_tf = LatentDirichletAllocation(n_components=5, random_state=0)    #n_components = can depend\n",
        "\n"
      ],
      "metadata": {
        "colab": {
          "base_uri": "https://localhost:8080/"
        },
        "id": "C27c4vCXDyGq",
        "outputId": "7e4ad7b7-3737-499a-d60f-0797522cc57e"
      },
      "execution_count": null,
      "outputs": [
        {
          "output_type": "stream",
          "name": "stdout",
          "text": [
            "Requirement already satisfied: sklearn in /usr/local/lib/python3.7/dist-packages (0.0)\n",
            "Requirement already satisfied: scikit-learn in /usr/local/lib/python3.7/dist-packages (from sklearn) (1.0.2)\n",
            "Requirement already satisfied: threadpoolctl>=2.0.0 in /usr/local/lib/python3.7/dist-packages (from scikit-learn->sklearn) (3.1.0)\n",
            "Requirement already satisfied: numpy>=1.14.6 in /usr/local/lib/python3.7/dist-packages (from scikit-learn->sklearn) (1.21.6)\n",
            "Requirement already satisfied: joblib>=0.11 in /usr/local/lib/python3.7/dist-packages (from scikit-learn->sklearn) (1.1.0)\n",
            "Requirement already satisfied: scipy>=1.1.0 in /usr/local/lib/python3.7/dist-packages (from scikit-learn->sklearn) (1.4.1)\n"
          ]
        }
      ]
    },
    {
      "cell_type": "code",
      "source": [
        "for i,topic in enumerate(lda_tf.components):\n",
        "    print(f'Top 10 words for topic #{i}:')\n",
        "    print([tf_vectorizer.get_feature_names()[i] for i in topic.argsort()[-10:]])\n",
        "    print('\\n')"
      ],
      "metadata": {
        "colab": {
          "base_uri": "https://localhost:8080/",
          "height": 218
        },
        "id": "zs22kNwRRJvJ",
        "outputId": "835a5a3a-d015-4815-ec03-50beb0f07b37"
      },
      "execution_count": null,
      "outputs": [
        {
          "output_type": "error",
          "ename": "AttributeError",
          "evalue": "ignored",
          "traceback": [
            "\u001b[0;31m---------------------------------------------------------------------------\u001b[0m",
            "\u001b[0;31mAttributeError\u001b[0m                            Traceback (most recent call last)",
            "\u001b[0;32m<ipython-input-57-b60c8504a1d9>\u001b[0m in \u001b[0;36m<module>\u001b[0;34m()\u001b[0m\n\u001b[0;32m----> 1\u001b[0;31m \u001b[0;32mfor\u001b[0m \u001b[0mi\u001b[0m\u001b[0;34m,\u001b[0m\u001b[0mtopic\u001b[0m \u001b[0;32min\u001b[0m \u001b[0menumerate\u001b[0m\u001b[0;34m(\u001b[0m\u001b[0mlda_tf\u001b[0m\u001b[0;34m.\u001b[0m\u001b[0mcomponents\u001b[0m\u001b[0;34m)\u001b[0m\u001b[0;34m:\u001b[0m\u001b[0;34m\u001b[0m\u001b[0;34m\u001b[0m\u001b[0m\n\u001b[0m\u001b[1;32m      2\u001b[0m     \u001b[0mprint\u001b[0m\u001b[0;34m(\u001b[0m\u001b[0;34mf'Top 10 words for topic #{i}:'\u001b[0m\u001b[0;34m)\u001b[0m\u001b[0;34m\u001b[0m\u001b[0;34m\u001b[0m\u001b[0m\n\u001b[1;32m      3\u001b[0m     \u001b[0mprint\u001b[0m\u001b[0;34m(\u001b[0m\u001b[0;34m[\u001b[0m\u001b[0mtf_vectorizer\u001b[0m\u001b[0;34m.\u001b[0m\u001b[0mget_feature_names\u001b[0m\u001b[0;34m(\u001b[0m\u001b[0;34m)\u001b[0m\u001b[0;34m[\u001b[0m\u001b[0mi\u001b[0m\u001b[0;34m]\u001b[0m \u001b[0;32mfor\u001b[0m \u001b[0mi\u001b[0m \u001b[0;32min\u001b[0m \u001b[0mtopic\u001b[0m\u001b[0;34m.\u001b[0m\u001b[0margsort\u001b[0m\u001b[0;34m(\u001b[0m\u001b[0;34m)\u001b[0m\u001b[0;34m[\u001b[0m\u001b[0;34m-\u001b[0m\u001b[0;36m10\u001b[0m\u001b[0;34m:\u001b[0m\u001b[0;34m]\u001b[0m\u001b[0;34m]\u001b[0m\u001b[0;34m)\u001b[0m\u001b[0;34m\u001b[0m\u001b[0;34m\u001b[0m\u001b[0m\n\u001b[1;32m      4\u001b[0m     \u001b[0mprint\u001b[0m\u001b[0;34m(\u001b[0m\u001b[0;34m'\\n'\u001b[0m\u001b[0;34m)\u001b[0m\u001b[0;34m\u001b[0m\u001b[0;34m\u001b[0m\u001b[0m\n",
            "\u001b[0;31mAttributeError\u001b[0m: 'LatentDirichletAllocation' object has no attribute 'components'"
          ]
        }
      ]
    },
    {
      "cell_type": "code",
      "source": [
        "from matplotlib import pyplot as plt\n",
        "from wordcloud import WordCloud, STOPWORDS\n",
        "import matplotlib.colors as mcolors"
      ],
      "metadata": {
        "id": "_c4AJOP2FNOe"
      },
      "execution_count": null,
      "outputs": []
    },
    {
      "cell_type": "code",
      "source": [
        "cloud = WordCloud(stopwords=stop_words,\n",
        "                  background_color='white',\n",
        "                  width=2500,\n",
        "                  height=1800,\n",
        "                  max_words=10,\n",
        "                  colormap='tab10',\n",
        "                  color_func=lambda *args, **kwargs: cols[i],\n",
        "                  prefer_horizontal=1.0)\n",
        "\n",
        "topics = lda_tf.topics(formatted=False)\n",
        "\n",
        "fig, axes = plt.subplots(2, 2, figsize=(10,10), sharex=True, sharey=True)\n",
        "\n",
        "for i, ax in enumerate(axes.flatten()):\n",
        "    fig.add_subplot(ax)\n",
        "    topic_words = dict(topics[i][1])\n",
        "    cloud.generate_from_frequencies(topic_words, max_font_size=300)\n",
        "    plt.gca().imshow(cloud)\n",
        "    plt.gca().set_title('Topic ' + str(i), fontdict=dict(size=16))\n",
        "    plt.gca().axis('off')\n",
        "\n",
        "\n",
        "plt.subplots_adjust(wspace=0, hspace=0)\n",
        "plt.axis('off')\n",
        "plt.margins(x=0, y=0)\n",
        "plt.tight_layout()\n",
        "plt.show()"
      ],
      "metadata": {
        "colab": {
          "base_uri": "https://localhost:8080/",
          "height": 236
        },
        "id": "QRCoyAbTFUYV",
        "outputId": "3a983497-57e0-454d-98fc-45b506dbf3a5"
      },
      "execution_count": null,
      "outputs": [
        {
          "output_type": "error",
          "ename": "AttributeError",
          "evalue": "ignored",
          "traceback": [
            "\u001b[0;31m---------------------------------------------------------------------------\u001b[0m",
            "\u001b[0;31mAttributeError\u001b[0m                            Traceback (most recent call last)",
            "\u001b[0;32m<ipython-input-53-076bafa55c67>\u001b[0m in \u001b[0;36m<module>\u001b[0;34m()\u001b[0m\n\u001b[1;32m      8\u001b[0m                   prefer_horizontal=1.0)\n\u001b[1;32m      9\u001b[0m \u001b[0;34m\u001b[0m\u001b[0m\n\u001b[0;32m---> 10\u001b[0;31m \u001b[0mtopics\u001b[0m \u001b[0;34m=\u001b[0m \u001b[0mlda_tf\u001b[0m\u001b[0;34m.\u001b[0m\u001b[0mtopics\u001b[0m\u001b[0;34m(\u001b[0m\u001b[0mformatted\u001b[0m\u001b[0;34m=\u001b[0m\u001b[0;32mFalse\u001b[0m\u001b[0;34m)\u001b[0m\u001b[0;34m\u001b[0m\u001b[0;34m\u001b[0m\u001b[0m\n\u001b[0m\u001b[1;32m     11\u001b[0m \u001b[0;34m\u001b[0m\u001b[0m\n\u001b[1;32m     12\u001b[0m \u001b[0mfig\u001b[0m\u001b[0;34m,\u001b[0m \u001b[0maxes\u001b[0m \u001b[0;34m=\u001b[0m \u001b[0mplt\u001b[0m\u001b[0;34m.\u001b[0m\u001b[0msubplots\u001b[0m\u001b[0;34m(\u001b[0m\u001b[0;36m2\u001b[0m\u001b[0;34m,\u001b[0m \u001b[0;36m2\u001b[0m\u001b[0;34m,\u001b[0m \u001b[0mfigsize\u001b[0m\u001b[0;34m=\u001b[0m\u001b[0;34m(\u001b[0m\u001b[0;36m10\u001b[0m\u001b[0;34m,\u001b[0m\u001b[0;36m10\u001b[0m\u001b[0;34m)\u001b[0m\u001b[0;34m,\u001b[0m \u001b[0msharex\u001b[0m\u001b[0;34m=\u001b[0m\u001b[0;32mTrue\u001b[0m\u001b[0;34m,\u001b[0m \u001b[0msharey\u001b[0m\u001b[0;34m=\u001b[0m\u001b[0;32mTrue\u001b[0m\u001b[0;34m)\u001b[0m\u001b[0;34m\u001b[0m\u001b[0;34m\u001b[0m\u001b[0m\n",
            "\u001b[0;31mAttributeError\u001b[0m: 'LatentDirichletAllocation' object has no attribute 'topics'"
          ]
        }
      ]
    },
    {
      "cell_type": "code",
      "source": [
        "# Import the wordcloud library\n",
        "from wordcloud import WordCloud\n",
        "# Join the different processed titles together.\n",
        "long_string = ','.join(list(papers['paper_text_processed'].values))\n",
        "# Create a WordCloud object\n",
        "wordcloud = WordCloud(background_color=\"white\", max_words=5000, contour_width=3, contour_color='steelblue')\n",
        "# Generate a word cloud\n",
        "wordcloud.generate(long_string)\n",
        "# Visualize the word cloud\n",
        "wordcloud.to_image()"
      ],
      "metadata": {
        "colab": {
          "base_uri": "https://localhost:8080/",
          "height": 503
        },
        "id": "9W1DyjBrFW4x",
        "outputId": "cc7e6729-0972-4067-9201-781a716227de"
      },
      "execution_count": null,
      "outputs": [
        {
          "output_type": "error",
          "ename": "KeyError",
          "evalue": "ignored",
          "traceback": [
            "\u001b[0;31m---------------------------------------------------------------------------\u001b[0m",
            "\u001b[0;31mKeyError\u001b[0m                                  Traceback (most recent call last)",
            "\u001b[0;32m/usr/local/lib/python3.7/dist-packages/pandas/core/indexes/base.py\u001b[0m in \u001b[0;36mget_loc\u001b[0;34m(self, key, method, tolerance)\u001b[0m\n\u001b[1;32m   3360\u001b[0m             \u001b[0;32mtry\u001b[0m\u001b[0;34m:\u001b[0m\u001b[0;34m\u001b[0m\u001b[0;34m\u001b[0m\u001b[0m\n\u001b[0;32m-> 3361\u001b[0;31m                 \u001b[0;32mreturn\u001b[0m \u001b[0mself\u001b[0m\u001b[0;34m.\u001b[0m\u001b[0m_engine\u001b[0m\u001b[0;34m.\u001b[0m\u001b[0mget_loc\u001b[0m\u001b[0;34m(\u001b[0m\u001b[0mcasted_key\u001b[0m\u001b[0;34m)\u001b[0m\u001b[0;34m\u001b[0m\u001b[0;34m\u001b[0m\u001b[0m\n\u001b[0m\u001b[1;32m   3362\u001b[0m             \u001b[0;32mexcept\u001b[0m \u001b[0mKeyError\u001b[0m \u001b[0;32mas\u001b[0m \u001b[0merr\u001b[0m\u001b[0;34m:\u001b[0m\u001b[0;34m\u001b[0m\u001b[0;34m\u001b[0m\u001b[0m\n",
            "\u001b[0;32m/usr/local/lib/python3.7/dist-packages/pandas/_libs/index.pyx\u001b[0m in \u001b[0;36mpandas._libs.index.IndexEngine.get_loc\u001b[0;34m()\u001b[0m\n",
            "\u001b[0;32m/usr/local/lib/python3.7/dist-packages/pandas/_libs/index.pyx\u001b[0m in \u001b[0;36mpandas._libs.index.IndexEngine.get_loc\u001b[0;34m()\u001b[0m\n",
            "\u001b[0;32mpandas/_libs/hashtable_class_helper.pxi\u001b[0m in \u001b[0;36mpandas._libs.hashtable.PyObjectHashTable.get_item\u001b[0;34m()\u001b[0m\n",
            "\u001b[0;32mpandas/_libs/hashtable_class_helper.pxi\u001b[0m in \u001b[0;36mpandas._libs.hashtable.PyObjectHashTable.get_item\u001b[0;34m()\u001b[0m\n",
            "\u001b[0;31mKeyError\u001b[0m: 'paper_text_processed'",
            "\nThe above exception was the direct cause of the following exception:\n",
            "\u001b[0;31mKeyError\u001b[0m                                  Traceback (most recent call last)",
            "\u001b[0;32m<ipython-input-54-52ada90046d5>\u001b[0m in \u001b[0;36m<module>\u001b[0;34m()\u001b[0m\n\u001b[1;32m      2\u001b[0m \u001b[0;32mfrom\u001b[0m \u001b[0mwordcloud\u001b[0m \u001b[0;32mimport\u001b[0m \u001b[0mWordCloud\u001b[0m\u001b[0;34m\u001b[0m\u001b[0;34m\u001b[0m\u001b[0m\n\u001b[1;32m      3\u001b[0m \u001b[0;31m# Join the different processed titles together.\u001b[0m\u001b[0;34m\u001b[0m\u001b[0;34m\u001b[0m\u001b[0;34m\u001b[0m\u001b[0m\n\u001b[0;32m----> 4\u001b[0;31m \u001b[0mlong_string\u001b[0m \u001b[0;34m=\u001b[0m \u001b[0;34m','\u001b[0m\u001b[0;34m.\u001b[0m\u001b[0mjoin\u001b[0m\u001b[0;34m(\u001b[0m\u001b[0mlist\u001b[0m\u001b[0;34m(\u001b[0m\u001b[0mpapers\u001b[0m\u001b[0;34m[\u001b[0m\u001b[0;34m'paper_text_processed'\u001b[0m\u001b[0;34m]\u001b[0m\u001b[0;34m.\u001b[0m\u001b[0mvalues\u001b[0m\u001b[0;34m)\u001b[0m\u001b[0;34m)\u001b[0m\u001b[0;34m\u001b[0m\u001b[0;34m\u001b[0m\u001b[0m\n\u001b[0m\u001b[1;32m      5\u001b[0m \u001b[0;31m# Create a WordCloud object\u001b[0m\u001b[0;34m\u001b[0m\u001b[0;34m\u001b[0m\u001b[0;34m\u001b[0m\u001b[0m\n\u001b[1;32m      6\u001b[0m \u001b[0mwordcloud\u001b[0m \u001b[0;34m=\u001b[0m \u001b[0mWordCloud\u001b[0m\u001b[0;34m(\u001b[0m\u001b[0mbackground_color\u001b[0m\u001b[0;34m=\u001b[0m\u001b[0;34m\"white\"\u001b[0m\u001b[0;34m,\u001b[0m \u001b[0mmax_words\u001b[0m\u001b[0;34m=\u001b[0m\u001b[0;36m5000\u001b[0m\u001b[0;34m,\u001b[0m \u001b[0mcontour_width\u001b[0m\u001b[0;34m=\u001b[0m\u001b[0;36m3\u001b[0m\u001b[0;34m,\u001b[0m \u001b[0mcontour_color\u001b[0m\u001b[0;34m=\u001b[0m\u001b[0;34m'steelblue'\u001b[0m\u001b[0;34m)\u001b[0m\u001b[0;34m\u001b[0m\u001b[0;34m\u001b[0m\u001b[0m\n",
            "\u001b[0;32m/usr/local/lib/python3.7/dist-packages/pandas/core/frame.py\u001b[0m in \u001b[0;36m__getitem__\u001b[0;34m(self, key)\u001b[0m\n\u001b[1;32m   3456\u001b[0m             \u001b[0;32mif\u001b[0m \u001b[0mself\u001b[0m\u001b[0;34m.\u001b[0m\u001b[0mcolumns\u001b[0m\u001b[0;34m.\u001b[0m\u001b[0mnlevels\u001b[0m \u001b[0;34m>\u001b[0m \u001b[0;36m1\u001b[0m\u001b[0;34m:\u001b[0m\u001b[0;34m\u001b[0m\u001b[0;34m\u001b[0m\u001b[0m\n\u001b[1;32m   3457\u001b[0m                 \u001b[0;32mreturn\u001b[0m \u001b[0mself\u001b[0m\u001b[0;34m.\u001b[0m\u001b[0m_getitem_multilevel\u001b[0m\u001b[0;34m(\u001b[0m\u001b[0mkey\u001b[0m\u001b[0;34m)\u001b[0m\u001b[0;34m\u001b[0m\u001b[0;34m\u001b[0m\u001b[0m\n\u001b[0;32m-> 3458\u001b[0;31m             \u001b[0mindexer\u001b[0m \u001b[0;34m=\u001b[0m \u001b[0mself\u001b[0m\u001b[0;34m.\u001b[0m\u001b[0mcolumns\u001b[0m\u001b[0;34m.\u001b[0m\u001b[0mget_loc\u001b[0m\u001b[0;34m(\u001b[0m\u001b[0mkey\u001b[0m\u001b[0;34m)\u001b[0m\u001b[0;34m\u001b[0m\u001b[0;34m\u001b[0m\u001b[0m\n\u001b[0m\u001b[1;32m   3459\u001b[0m             \u001b[0;32mif\u001b[0m \u001b[0mis_integer\u001b[0m\u001b[0;34m(\u001b[0m\u001b[0mindexer\u001b[0m\u001b[0;34m)\u001b[0m\u001b[0;34m:\u001b[0m\u001b[0;34m\u001b[0m\u001b[0;34m\u001b[0m\u001b[0m\n\u001b[1;32m   3460\u001b[0m                 \u001b[0mindexer\u001b[0m \u001b[0;34m=\u001b[0m \u001b[0;34m[\u001b[0m\u001b[0mindexer\u001b[0m\u001b[0;34m]\u001b[0m\u001b[0;34m\u001b[0m\u001b[0;34m\u001b[0m\u001b[0m\n",
            "\u001b[0;32m/usr/local/lib/python3.7/dist-packages/pandas/core/indexes/base.py\u001b[0m in \u001b[0;36mget_loc\u001b[0;34m(self, key, method, tolerance)\u001b[0m\n\u001b[1;32m   3361\u001b[0m                 \u001b[0;32mreturn\u001b[0m \u001b[0mself\u001b[0m\u001b[0;34m.\u001b[0m\u001b[0m_engine\u001b[0m\u001b[0;34m.\u001b[0m\u001b[0mget_loc\u001b[0m\u001b[0;34m(\u001b[0m\u001b[0mcasted_key\u001b[0m\u001b[0;34m)\u001b[0m\u001b[0;34m\u001b[0m\u001b[0;34m\u001b[0m\u001b[0m\n\u001b[1;32m   3362\u001b[0m             \u001b[0;32mexcept\u001b[0m \u001b[0mKeyError\u001b[0m \u001b[0;32mas\u001b[0m \u001b[0merr\u001b[0m\u001b[0;34m:\u001b[0m\u001b[0;34m\u001b[0m\u001b[0;34m\u001b[0m\u001b[0m\n\u001b[0;32m-> 3363\u001b[0;31m                 \u001b[0;32mraise\u001b[0m \u001b[0mKeyError\u001b[0m\u001b[0;34m(\u001b[0m\u001b[0mkey\u001b[0m\u001b[0;34m)\u001b[0m \u001b[0;32mfrom\u001b[0m \u001b[0merr\u001b[0m\u001b[0;34m\u001b[0m\u001b[0;34m\u001b[0m\u001b[0m\n\u001b[0m\u001b[1;32m   3364\u001b[0m \u001b[0;34m\u001b[0m\u001b[0m\n\u001b[1;32m   3365\u001b[0m         \u001b[0;32mif\u001b[0m \u001b[0mis_scalar\u001b[0m\u001b[0;34m(\u001b[0m\u001b[0mkey\u001b[0m\u001b[0;34m)\u001b[0m \u001b[0;32mand\u001b[0m \u001b[0misna\u001b[0m\u001b[0;34m(\u001b[0m\u001b[0mkey\u001b[0m\u001b[0;34m)\u001b[0m \u001b[0;32mand\u001b[0m \u001b[0;32mnot\u001b[0m \u001b[0mself\u001b[0m\u001b[0;34m.\u001b[0m\u001b[0mhasnans\u001b[0m\u001b[0;34m:\u001b[0m\u001b[0;34m\u001b[0m\u001b[0;34m\u001b[0m\u001b[0m\n",
            "\u001b[0;31mKeyError\u001b[0m: 'paper_text_processed'"
          ]
        }
      ]
    },
    {
      "cell_type": "code",
      "source": [
        ""
      ],
      "metadata": {
        "id": "DhCBoaTaFwaX"
      },
      "execution_count": null,
      "outputs": []
    }
  ]
}