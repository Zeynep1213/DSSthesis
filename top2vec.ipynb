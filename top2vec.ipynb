{
  "cells": [
    {
      "cell_type": "code",
      "execution_count": null,
      "metadata": {
        "id": "Yedl7ZuCuyVu"
      },
      "outputs": [],
      "source": [
        "import numpy as np\n",
        "import pandas as pd"
      ]
    },
    {
      "cell_type": "code",
      "execution_count": null,
      "metadata": {
        "colab": {
          "base_uri": "https://localhost:8080/"
        },
        "id": "llOBV5Qpu0Q9",
        "outputId": "c750d4fe-6963-4f1a-9acf-bac97f1294bf"
      },
      "outputs": [
        {
          "name": "stdout",
          "output_type": "stream",
          "text": [
            "Drive already mounted at /content/gdrive; to attempt to forcibly remount, call drive.mount(\"/content/gdrive\", force_remount=True).\n"
          ]
        }
      ],
      "source": [
        "from google.colab import drive\n",
        "drive.mount(\"/content/gdrive\")"
      ]
    },
    {
      "cell_type": "code",
      "execution_count": null,
      "metadata": {
        "id": "K0J-MDZEvFGn"
      },
      "outputs": [],
      "source": [
        "import pandas as pd\n",
        "data = pd.read_csv('/content/gdrive/My Drive/articles.csv', on_bad_lines='skip')\n",
        "data.head(5)\n",
        "\n",
        "data['text'] = data[\"text\"].values.astype('str')"
      ]
    },
    {
      "cell_type": "code",
      "execution_count": null,
      "metadata": {
        "colab": {
          "base_uri": "https://localhost:8080/"
        },
        "id": "DvFwm9B7FlZ4",
        "outputId": "b82c29ea-814b-46c8-ee7f-58530f395864"
      },
      "outputs": [
        {
          "name": "stdout",
          "output_type": "stream",
          "text": [
            "Requirement already satisfied: top2vec in /usr/local/lib/python3.7/dist-packages (1.0.27)\n",
            "Requirement already satisfied: wordcloud in /usr/local/lib/python3.7/dist-packages (from top2vec) (1.5.0)\n",
            "Requirement already satisfied: numpy>=1.20.0 in /usr/local/lib/python3.7/dist-packages (from top2vec) (1.21.6)\n",
            "Requirement already satisfied: pandas in /usr/local/lib/python3.7/dist-packages (from top2vec) (1.3.5)\n",
            "Requirement already satisfied: hdbscan>=0.8.27 in /usr/local/lib/python3.7/dist-packages (from top2vec) (0.8.28)\n",
            "Requirement already satisfied: umap-learn>=0.5.1 in /usr/local/lib/python3.7/dist-packages (from top2vec) (0.5.3)\n",
            "Requirement already satisfied: gensim>=4.0.0 in /usr/local/lib/python3.7/dist-packages (from top2vec) (4.2.0)\n",
            "Requirement already satisfied: smart-open>=1.8.1 in /usr/local/lib/python3.7/dist-packages (from gensim>=4.0.0->top2vec) (6.0.0)\n",
            "Requirement already satisfied: scipy>=0.18.1 in /usr/local/lib/python3.7/dist-packages (from gensim>=4.0.0->top2vec) (1.4.1)\n",
            "Requirement already satisfied: joblib>=1.0 in /usr/local/lib/python3.7/dist-packages (from hdbscan>=0.8.27->top2vec) (1.1.0)\n",
            "Requirement already satisfied: cython>=0.27 in /usr/local/lib/python3.7/dist-packages (from hdbscan>=0.8.27->top2vec) (0.29.28)\n",
            "Requirement already satisfied: scikit-learn>=0.20 in /usr/local/lib/python3.7/dist-packages (from hdbscan>=0.8.27->top2vec) (1.0.2)\n",
            "Requirement already satisfied: threadpoolctl>=2.0.0 in /usr/local/lib/python3.7/dist-packages (from scikit-learn>=0.20->hdbscan>=0.8.27->top2vec) (3.1.0)\n",
            "Requirement already satisfied: pynndescent>=0.5 in /usr/local/lib/python3.7/dist-packages (from umap-learn>=0.5.1->top2vec) (0.5.6)\n",
            "Requirement already satisfied: tqdm in /usr/local/lib/python3.7/dist-packages (from umap-learn>=0.5.1->top2vec) (4.64.0)\n",
            "Requirement already satisfied: numba>=0.49 in /usr/local/lib/python3.7/dist-packages (from umap-learn>=0.5.1->top2vec) (0.51.2)\n",
            "Requirement already satisfied: llvmlite<0.35,>=0.34.0.dev0 in /usr/local/lib/python3.7/dist-packages (from numba>=0.49->umap-learn>=0.5.1->top2vec) (0.34.0)\n",
            "Requirement already satisfied: setuptools in /usr/local/lib/python3.7/dist-packages (from numba>=0.49->umap-learn>=0.5.1->top2vec) (57.4.0)\n",
            "Requirement already satisfied: python-dateutil>=2.7.3 in /usr/local/lib/python3.7/dist-packages (from pandas->top2vec) (2.8.2)\n",
            "Requirement already satisfied: pytz>=2017.3 in /usr/local/lib/python3.7/dist-packages (from pandas->top2vec) (2022.1)\n",
            "Requirement already satisfied: six>=1.5 in /usr/local/lib/python3.7/dist-packages (from python-dateutil>=2.7.3->pandas->top2vec) (1.15.0)\n",
            "Requirement already satisfied: pillow in /usr/local/lib/python3.7/dist-packages (from wordcloud->top2vec) (7.1.2)\n"
          ]
        }
      ],
      "source": [
        "pip install top2vec"
      ]
    },
    {
      "cell_type": "code",
      "execution_count": null,
      "metadata": {
        "colab": {
          "base_uri": "https://localhost:8080/"
        },
        "id": "VTMDCupCF_9N",
        "outputId": "7dc3cca7-e7c9-4666-a43a-fc9a865cae1d"
      },
      "outputs": [
        {
          "name": "stdout",
          "output_type": "stream",
          "text": [
            "Requirement already satisfied: top2vec[sentence_encoders] in /usr/local/lib/python3.7/dist-packages (1.0.27)\n",
            "Requirement already satisfied: pandas in /usr/local/lib/python3.7/dist-packages (from top2vec[sentence_encoders]) (1.3.5)\n",
            "Requirement already satisfied: numpy>=1.20.0 in /usr/local/lib/python3.7/dist-packages (from top2vec[sentence_encoders]) (1.21.6)\n",
            "Requirement already satisfied: gensim>=4.0.0 in /usr/local/lib/python3.7/dist-packages (from top2vec[sentence_encoders]) (4.2.0)\n",
            "Requirement already satisfied: wordcloud in /usr/local/lib/python3.7/dist-packages (from top2vec[sentence_encoders]) (1.5.0)\n",
            "Requirement already satisfied: hdbscan>=0.8.27 in /usr/local/lib/python3.7/dist-packages (from top2vec[sentence_encoders]) (0.8.28)\n",
            "Requirement already satisfied: umap-learn>=0.5.1 in /usr/local/lib/python3.7/dist-packages (from top2vec[sentence_encoders]) (0.5.3)\n",
            "Requirement already satisfied: tensorflow-hub in /usr/local/lib/python3.7/dist-packages (from top2vec[sentence_encoders]) (0.12.0)\n",
            "Requirement already satisfied: tensorflow in /usr/local/lib/python3.7/dist-packages (from top2vec[sentence_encoders]) (2.8.0)\n",
            "Requirement already satisfied: tensorflow-text in /usr/local/lib/python3.7/dist-packages (from top2vec[sentence_encoders]) (2.8.2)\n",
            "Requirement already satisfied: scipy>=0.18.1 in /usr/local/lib/python3.7/dist-packages (from gensim>=4.0.0->top2vec[sentence_encoders]) (1.4.1)\n",
            "Requirement already satisfied: smart-open>=1.8.1 in /usr/local/lib/python3.7/dist-packages (from gensim>=4.0.0->top2vec[sentence_encoders]) (6.0.0)\n",
            "Requirement already satisfied: joblib>=1.0 in /usr/local/lib/python3.7/dist-packages (from hdbscan>=0.8.27->top2vec[sentence_encoders]) (1.1.0)\n",
            "Requirement already satisfied: cython>=0.27 in /usr/local/lib/python3.7/dist-packages (from hdbscan>=0.8.27->top2vec[sentence_encoders]) (0.29.28)\n",
            "Requirement already satisfied: scikit-learn>=0.20 in /usr/local/lib/python3.7/dist-packages (from hdbscan>=0.8.27->top2vec[sentence_encoders]) (1.0.2)\n",
            "Requirement already satisfied: threadpoolctl>=2.0.0 in /usr/local/lib/python3.7/dist-packages (from scikit-learn>=0.20->hdbscan>=0.8.27->top2vec[sentence_encoders]) (3.1.0)\n",
            "Requirement already satisfied: tqdm in /usr/local/lib/python3.7/dist-packages (from umap-learn>=0.5.1->top2vec[sentence_encoders]) (4.64.0)\n",
            "Requirement already satisfied: numba>=0.49 in /usr/local/lib/python3.7/dist-packages (from umap-learn>=0.5.1->top2vec[sentence_encoders]) (0.51.2)\n",
            "Requirement already satisfied: pynndescent>=0.5 in /usr/local/lib/python3.7/dist-packages (from umap-learn>=0.5.1->top2vec[sentence_encoders]) (0.5.6)\n",
            "Requirement already satisfied: llvmlite<0.35,>=0.34.0.dev0 in /usr/local/lib/python3.7/dist-packages (from numba>=0.49->umap-learn>=0.5.1->top2vec[sentence_encoders]) (0.34.0)\n",
            "Requirement already satisfied: setuptools in /usr/local/lib/python3.7/dist-packages (from numba>=0.49->umap-learn>=0.5.1->top2vec[sentence_encoders]) (57.4.0)\n",
            "Requirement already satisfied: pytz>=2017.3 in /usr/local/lib/python3.7/dist-packages (from pandas->top2vec[sentence_encoders]) (2022.1)\n",
            "Requirement already satisfied: python-dateutil>=2.7.3 in /usr/local/lib/python3.7/dist-packages (from pandas->top2vec[sentence_encoders]) (2.8.2)\n",
            "Requirement already satisfied: six>=1.5 in /usr/local/lib/python3.7/dist-packages (from python-dateutil>=2.7.3->pandas->top2vec[sentence_encoders]) (1.15.0)\n",
            "Requirement already satisfied: termcolor>=1.1.0 in /usr/local/lib/python3.7/dist-packages (from tensorflow->top2vec[sentence_encoders]) (1.1.0)\n",
            "Requirement already satisfied: wrapt>=1.11.0 in /usr/local/lib/python3.7/dist-packages (from tensorflow->top2vec[sentence_encoders]) (1.14.0)\n",
            "Requirement already satisfied: tensorflow-io-gcs-filesystem>=0.23.1 in /usr/local/lib/python3.7/dist-packages (from tensorflow->top2vec[sentence_encoders]) (0.25.0)\n",
            "Requirement already satisfied: h5py>=2.9.0 in /usr/local/lib/python3.7/dist-packages (from tensorflow->top2vec[sentence_encoders]) (3.1.0)\n",
            "Requirement already satisfied: astunparse>=1.6.0 in /usr/local/lib/python3.7/dist-packages (from tensorflow->top2vec[sentence_encoders]) (1.6.3)\n",
            "Requirement already satisfied: typing-extensions>=3.6.6 in /usr/local/lib/python3.7/dist-packages (from tensorflow->top2vec[sentence_encoders]) (4.2.0)\n",
            "Requirement already satisfied: flatbuffers>=1.12 in /usr/local/lib/python3.7/dist-packages (from tensorflow->top2vec[sentence_encoders]) (2.0)\n",
            "Requirement already satisfied: grpcio<2.0,>=1.24.3 in /usr/local/lib/python3.7/dist-packages (from tensorflow->top2vec[sentence_encoders]) (1.44.0)\n",
            "Requirement already satisfied: google-pasta>=0.1.1 in /usr/local/lib/python3.7/dist-packages (from tensorflow->top2vec[sentence_encoders]) (0.2.0)\n",
            "Requirement already satisfied: tensorboard<2.9,>=2.8 in /usr/local/lib/python3.7/dist-packages (from tensorflow->top2vec[sentence_encoders]) (2.8.0)\n",
            "Requirement already satisfied: keras<2.9,>=2.8.0rc0 in /usr/local/lib/python3.7/dist-packages (from tensorflow->top2vec[sentence_encoders]) (2.8.0)\n",
            "Requirement already satisfied: absl-py>=0.4.0 in /usr/local/lib/python3.7/dist-packages (from tensorflow->top2vec[sentence_encoders]) (1.0.0)\n",
            "Requirement already satisfied: libclang>=9.0.1 in /usr/local/lib/python3.7/dist-packages (from tensorflow->top2vec[sentence_encoders]) (14.0.1)\n",
            "Requirement already satisfied: protobuf>=3.9.2 in /usr/local/lib/python3.7/dist-packages (from tensorflow->top2vec[sentence_encoders]) (3.17.3)\n",
            "Requirement already satisfied: tf-estimator-nightly==2.8.0.dev2021122109 in /usr/local/lib/python3.7/dist-packages (from tensorflow->top2vec[sentence_encoders]) (2.8.0.dev2021122109)\n",
            "Requirement already satisfied: opt-einsum>=2.3.2 in /usr/local/lib/python3.7/dist-packages (from tensorflow->top2vec[sentence_encoders]) (3.3.0)\n",
            "Requirement already satisfied: gast>=0.2.1 in /usr/local/lib/python3.7/dist-packages (from tensorflow->top2vec[sentence_encoders]) (0.5.3)\n",
            "Requirement already satisfied: keras-preprocessing>=1.1.1 in /usr/local/lib/python3.7/dist-packages (from tensorflow->top2vec[sentence_encoders]) (1.1.2)\n",
            "Requirement already satisfied: wheel<1.0,>=0.23.0 in /usr/local/lib/python3.7/dist-packages (from astunparse>=1.6.0->tensorflow->top2vec[sentence_encoders]) (0.37.1)\n",
            "Requirement already satisfied: cached-property in /usr/local/lib/python3.7/dist-packages (from h5py>=2.9.0->tensorflow->top2vec[sentence_encoders]) (1.5.2)\n",
            "Requirement already satisfied: markdown>=2.6.8 in /usr/local/lib/python3.7/dist-packages (from tensorboard<2.9,>=2.8->tensorflow->top2vec[sentence_encoders]) (3.3.6)\n",
            "Requirement already satisfied: tensorboard-plugin-wit>=1.6.0 in /usr/local/lib/python3.7/dist-packages (from tensorboard<2.9,>=2.8->tensorflow->top2vec[sentence_encoders]) (1.8.1)\n",
            "Requirement already satisfied: google-auth-oauthlib<0.5,>=0.4.1 in /usr/local/lib/python3.7/dist-packages (from tensorboard<2.9,>=2.8->tensorflow->top2vec[sentence_encoders]) (0.4.6)\n",
            "Requirement already satisfied: tensorboard-data-server<0.7.0,>=0.6.0 in /usr/local/lib/python3.7/dist-packages (from tensorboard<2.9,>=2.8->tensorflow->top2vec[sentence_encoders]) (0.6.1)\n",
            "Requirement already satisfied: werkzeug>=0.11.15 in /usr/local/lib/python3.7/dist-packages (from tensorboard<2.9,>=2.8->tensorflow->top2vec[sentence_encoders]) (1.0.1)\n",
            "Requirement already satisfied: google-auth<3,>=1.6.3 in /usr/local/lib/python3.7/dist-packages (from tensorboard<2.9,>=2.8->tensorflow->top2vec[sentence_encoders]) (1.35.0)\n",
            "Requirement already satisfied: requests<3,>=2.21.0 in /usr/local/lib/python3.7/dist-packages (from tensorboard<2.9,>=2.8->tensorflow->top2vec[sentence_encoders]) (2.23.0)\n",
            "Requirement already satisfied: rsa<5,>=3.1.4 in /usr/local/lib/python3.7/dist-packages (from google-auth<3,>=1.6.3->tensorboard<2.9,>=2.8->tensorflow->top2vec[sentence_encoders]) (4.8)\n",
            "Requirement already satisfied: pyasn1-modules>=0.2.1 in /usr/local/lib/python3.7/dist-packages (from google-auth<3,>=1.6.3->tensorboard<2.9,>=2.8->tensorflow->top2vec[sentence_encoders]) (0.2.8)\n",
            "Requirement already satisfied: cachetools<5.0,>=2.0.0 in /usr/local/lib/python3.7/dist-packages (from google-auth<3,>=1.6.3->tensorboard<2.9,>=2.8->tensorflow->top2vec[sentence_encoders]) (4.2.4)\n",
            "Requirement already satisfied: requests-oauthlib>=0.7.0 in /usr/local/lib/python3.7/dist-packages (from google-auth-oauthlib<0.5,>=0.4.1->tensorboard<2.9,>=2.8->tensorflow->top2vec[sentence_encoders]) (1.3.1)\n",
            "Requirement already satisfied: importlib-metadata>=4.4 in /usr/local/lib/python3.7/dist-packages (from markdown>=2.6.8->tensorboard<2.9,>=2.8->tensorflow->top2vec[sentence_encoders]) (4.11.3)\n",
            "Requirement already satisfied: zipp>=0.5 in /usr/local/lib/python3.7/dist-packages (from importlib-metadata>=4.4->markdown>=2.6.8->tensorboard<2.9,>=2.8->tensorflow->top2vec[sentence_encoders]) (3.8.0)\n",
            "Requirement already satisfied: pyasn1<0.5.0,>=0.4.6 in /usr/local/lib/python3.7/dist-packages (from pyasn1-modules>=0.2.1->google-auth<3,>=1.6.3->tensorboard<2.9,>=2.8->tensorflow->top2vec[sentence_encoders]) (0.4.8)\n",
            "Requirement already satisfied: urllib3!=1.25.0,!=1.25.1,<1.26,>=1.21.1 in /usr/local/lib/python3.7/dist-packages (from requests<3,>=2.21.0->tensorboard<2.9,>=2.8->tensorflow->top2vec[sentence_encoders]) (1.24.3)\n",
            "Requirement already satisfied: idna<3,>=2.5 in /usr/local/lib/python3.7/dist-packages (from requests<3,>=2.21.0->tensorboard<2.9,>=2.8->tensorflow->top2vec[sentence_encoders]) (2.10)\n",
            "Requirement already satisfied: certifi>=2017.4.17 in /usr/local/lib/python3.7/dist-packages (from requests<3,>=2.21.0->tensorboard<2.9,>=2.8->tensorflow->top2vec[sentence_encoders]) (2021.10.8)\n",
            "Requirement already satisfied: chardet<4,>=3.0.2 in /usr/local/lib/python3.7/dist-packages (from requests<3,>=2.21.0->tensorboard<2.9,>=2.8->tensorflow->top2vec[sentence_encoders]) (3.0.4)\n",
            "Requirement already satisfied: oauthlib>=3.0.0 in /usr/local/lib/python3.7/dist-packages (from requests-oauthlib>=0.7.0->google-auth-oauthlib<0.5,>=0.4.1->tensorboard<2.9,>=2.8->tensorflow->top2vec[sentence_encoders]) (3.2.0)\n",
            "Requirement already satisfied: pillow in /usr/local/lib/python3.7/dist-packages (from wordcloud->top2vec[sentence_encoders]) (7.1.2)\n"
          ]
        }
      ],
      "source": [
        "pip install top2vec[sentence_encoders]"
      ]
    },
    {
      "cell_type": "code",
      "execution_count": null,
      "metadata": {
        "colab": {
          "base_uri": "https://localhost:8080/"
        },
        "id": "-zc47p-jGDae",
        "outputId": "a4b253de-04ec-4fa7-9ca2-5a58cf02c253"
      },
      "outputs": [
        {
          "name": "stdout",
          "output_type": "stream",
          "text": [
            "Requirement already satisfied: top2vec[sentence_transformers] in /usr/local/lib/python3.7/dist-packages (1.0.27)\n",
            "Requirement already satisfied: hdbscan>=0.8.27 in /usr/local/lib/python3.7/dist-packages (from top2vec[sentence_transformers]) (0.8.28)\n",
            "Requirement already satisfied: umap-learn>=0.5.1 in /usr/local/lib/python3.7/dist-packages (from top2vec[sentence_transformers]) (0.5.3)\n",
            "Requirement already satisfied: gensim>=4.0.0 in /usr/local/lib/python3.7/dist-packages (from top2vec[sentence_transformers]) (4.2.0)\n",
            "Requirement already satisfied: pandas in /usr/local/lib/python3.7/dist-packages (from top2vec[sentence_transformers]) (1.3.5)\n",
            "Requirement already satisfied: numpy>=1.20.0 in /usr/local/lib/python3.7/dist-packages (from top2vec[sentence_transformers]) (1.21.6)\n",
            "Requirement already satisfied: wordcloud in /usr/local/lib/python3.7/dist-packages (from top2vec[sentence_transformers]) (1.5.0)\n",
            "Requirement already satisfied: torch in /usr/local/lib/python3.7/dist-packages (from top2vec[sentence_transformers]) (1.11.0+cu113)\n",
            "Requirement already satisfied: sentence-transformers in /usr/local/lib/python3.7/dist-packages (from top2vec[sentence_transformers]) (2.2.0)\n",
            "Requirement already satisfied: scipy>=0.18.1 in /usr/local/lib/python3.7/dist-packages (from gensim>=4.0.0->top2vec[sentence_transformers]) (1.4.1)\n",
            "Requirement already satisfied: smart-open>=1.8.1 in /usr/local/lib/python3.7/dist-packages (from gensim>=4.0.0->top2vec[sentence_transformers]) (6.0.0)\n",
            "Requirement already satisfied: cython>=0.27 in /usr/local/lib/python3.7/dist-packages (from hdbscan>=0.8.27->top2vec[sentence_transformers]) (0.29.28)\n",
            "Requirement already satisfied: scikit-learn>=0.20 in /usr/local/lib/python3.7/dist-packages (from hdbscan>=0.8.27->top2vec[sentence_transformers]) (1.0.2)\n",
            "Requirement already satisfied: joblib>=1.0 in /usr/local/lib/python3.7/dist-packages (from hdbscan>=0.8.27->top2vec[sentence_transformers]) (1.1.0)\n",
            "Requirement already satisfied: threadpoolctl>=2.0.0 in /usr/local/lib/python3.7/dist-packages (from scikit-learn>=0.20->hdbscan>=0.8.27->top2vec[sentence_transformers]) (3.1.0)\n",
            "Requirement already satisfied: tqdm in /usr/local/lib/python3.7/dist-packages (from umap-learn>=0.5.1->top2vec[sentence_transformers]) (4.64.0)\n",
            "Requirement already satisfied: numba>=0.49 in /usr/local/lib/python3.7/dist-packages (from umap-learn>=0.5.1->top2vec[sentence_transformers]) (0.51.2)\n",
            "Requirement already satisfied: pynndescent>=0.5 in /usr/local/lib/python3.7/dist-packages (from umap-learn>=0.5.1->top2vec[sentence_transformers]) (0.5.6)\n",
            "Requirement already satisfied: llvmlite<0.35,>=0.34.0.dev0 in /usr/local/lib/python3.7/dist-packages (from numba>=0.49->umap-learn>=0.5.1->top2vec[sentence_transformers]) (0.34.0)\n",
            "Requirement already satisfied: setuptools in /usr/local/lib/python3.7/dist-packages (from numba>=0.49->umap-learn>=0.5.1->top2vec[sentence_transformers]) (57.4.0)\n",
            "Requirement already satisfied: python-dateutil>=2.7.3 in /usr/local/lib/python3.7/dist-packages (from pandas->top2vec[sentence_transformers]) (2.8.2)\n",
            "Requirement already satisfied: pytz>=2017.3 in /usr/local/lib/python3.7/dist-packages (from pandas->top2vec[sentence_transformers]) (2022.1)\n",
            "Requirement already satisfied: six>=1.5 in /usr/local/lib/python3.7/dist-packages (from python-dateutil>=2.7.3->pandas->top2vec[sentence_transformers]) (1.15.0)\n",
            "Requirement already satisfied: transformers<5.0.0,>=4.6.0 in /usr/local/lib/python3.7/dist-packages (from sentence-transformers->top2vec[sentence_transformers]) (4.18.0)\n",
            "Requirement already satisfied: huggingface-hub in /usr/local/lib/python3.7/dist-packages (from sentence-transformers->top2vec[sentence_transformers]) (0.6.0)\n",
            "Requirement already satisfied: sentencepiece in /usr/local/lib/python3.7/dist-packages (from sentence-transformers->top2vec[sentence_transformers]) (0.1.96)\n",
            "Requirement already satisfied: torchvision in /usr/local/lib/python3.7/dist-packages (from sentence-transformers->top2vec[sentence_transformers]) (0.12.0+cu113)\n",
            "Requirement already satisfied: nltk in /usr/local/lib/python3.7/dist-packages (from sentence-transformers->top2vec[sentence_transformers]) (3.2.5)\n",
            "Requirement already satisfied: typing-extensions in /usr/local/lib/python3.7/dist-packages (from torch->top2vec[sentence_transformers]) (4.2.0)\n",
            "Requirement already satisfied: sacremoses in /usr/local/lib/python3.7/dist-packages (from transformers<5.0.0,>=4.6.0->sentence-transformers->top2vec[sentence_transformers]) (0.0.53)\n",
            "Requirement already satisfied: regex!=2019.12.17 in /usr/local/lib/python3.7/dist-packages (from transformers<5.0.0,>=4.6.0->sentence-transformers->top2vec[sentence_transformers]) (2019.12.20)\n",
            "Requirement already satisfied: packaging>=20.0 in /usr/local/lib/python3.7/dist-packages (from transformers<5.0.0,>=4.6.0->sentence-transformers->top2vec[sentence_transformers]) (21.3)\n",
            "Requirement already satisfied: tokenizers!=0.11.3,<0.13,>=0.11.1 in /usr/local/lib/python3.7/dist-packages (from transformers<5.0.0,>=4.6.0->sentence-transformers->top2vec[sentence_transformers]) (0.12.1)\n",
            "Requirement already satisfied: filelock in /usr/local/lib/python3.7/dist-packages (from transformers<5.0.0,>=4.6.0->sentence-transformers->top2vec[sentence_transformers]) (3.6.0)\n",
            "Requirement already satisfied: pyyaml>=5.1 in /usr/local/lib/python3.7/dist-packages (from transformers<5.0.0,>=4.6.0->sentence-transformers->top2vec[sentence_transformers]) (6.0)\n",
            "Requirement already satisfied: importlib-metadata in /usr/local/lib/python3.7/dist-packages (from transformers<5.0.0,>=4.6.0->sentence-transformers->top2vec[sentence_transformers]) (4.11.3)\n",
            "Requirement already satisfied: requests in /usr/local/lib/python3.7/dist-packages (from transformers<5.0.0,>=4.6.0->sentence-transformers->top2vec[sentence_transformers]) (2.23.0)\n",
            "Requirement already satisfied: pyparsing!=3.0.5,>=2.0.2 in /usr/local/lib/python3.7/dist-packages (from packaging>=20.0->transformers<5.0.0,>=4.6.0->sentence-transformers->top2vec[sentence_transformers]) (3.0.8)\n",
            "Requirement already satisfied: zipp>=0.5 in /usr/local/lib/python3.7/dist-packages (from importlib-metadata->transformers<5.0.0,>=4.6.0->sentence-transformers->top2vec[sentence_transformers]) (3.8.0)\n",
            "Requirement already satisfied: certifi>=2017.4.17 in /usr/local/lib/python3.7/dist-packages (from requests->transformers<5.0.0,>=4.6.0->sentence-transformers->top2vec[sentence_transformers]) (2021.10.8)\n",
            "Requirement already satisfied: chardet<4,>=3.0.2 in /usr/local/lib/python3.7/dist-packages (from requests->transformers<5.0.0,>=4.6.0->sentence-transformers->top2vec[sentence_transformers]) (3.0.4)\n",
            "Requirement already satisfied: idna<3,>=2.5 in /usr/local/lib/python3.7/dist-packages (from requests->transformers<5.0.0,>=4.6.0->sentence-transformers->top2vec[sentence_transformers]) (2.10)\n",
            "Requirement already satisfied: urllib3!=1.25.0,!=1.25.1,<1.26,>=1.21.1 in /usr/local/lib/python3.7/dist-packages (from requests->transformers<5.0.0,>=4.6.0->sentence-transformers->top2vec[sentence_transformers]) (1.24.3)\n",
            "Requirement already satisfied: click in /usr/local/lib/python3.7/dist-packages (from sacremoses->transformers<5.0.0,>=4.6.0->sentence-transformers->top2vec[sentence_transformers]) (7.1.2)\n",
            "Requirement already satisfied: pillow!=8.3.*,>=5.3.0 in /usr/local/lib/python3.7/dist-packages (from torchvision->sentence-transformers->top2vec[sentence_transformers]) (7.1.2)\n"
          ]
        }
      ],
      "source": [
        "pip install top2vec[sentence_transformers]"
      ]
    },
    {
      "cell_type": "code",
      "execution_count": null,
      "metadata": {
        "colab": {
          "base_uri": "https://localhost:8080/"
        },
        "id": "fdWrm9lkGEyw",
        "outputId": "fabcc448-bf45-46e5-8407-3585c9a9ac5a"
      },
      "outputs": [
        {
          "name": "stdout",
          "output_type": "stream",
          "text": [
            "Requirement already satisfied: top2vec[indexing] in /usr/local/lib/python3.7/dist-packages (1.0.27)\n",
            "Requirement already satisfied: pandas in /usr/local/lib/python3.7/dist-packages (from top2vec[indexing]) (1.3.5)\n",
            "Requirement already satisfied: wordcloud in /usr/local/lib/python3.7/dist-packages (from top2vec[indexing]) (1.5.0)\n",
            "Requirement already satisfied: numpy>=1.20.0 in /usr/local/lib/python3.7/dist-packages (from top2vec[indexing]) (1.21.6)\n",
            "Requirement already satisfied: hdbscan>=0.8.27 in /usr/local/lib/python3.7/dist-packages (from top2vec[indexing]) (0.8.28)\n",
            "Requirement already satisfied: gensim>=4.0.0 in /usr/local/lib/python3.7/dist-packages (from top2vec[indexing]) (4.2.0)\n",
            "Requirement already satisfied: umap-learn>=0.5.1 in /usr/local/lib/python3.7/dist-packages (from top2vec[indexing]) (0.5.3)\n",
            "Requirement already satisfied: hnswlib in /usr/local/lib/python3.7/dist-packages (from top2vec[indexing]) (0.6.2)\n",
            "Requirement already satisfied: scipy>=0.18.1 in /usr/local/lib/python3.7/dist-packages (from gensim>=4.0.0->top2vec[indexing]) (1.4.1)\n",
            "Requirement already satisfied: smart-open>=1.8.1 in /usr/local/lib/python3.7/dist-packages (from gensim>=4.0.0->top2vec[indexing]) (6.0.0)\n",
            "Requirement already satisfied: scikit-learn>=0.20 in /usr/local/lib/python3.7/dist-packages (from hdbscan>=0.8.27->top2vec[indexing]) (1.0.2)\n",
            "Requirement already satisfied: joblib>=1.0 in /usr/local/lib/python3.7/dist-packages (from hdbscan>=0.8.27->top2vec[indexing]) (1.1.0)\n",
            "Requirement already satisfied: cython>=0.27 in /usr/local/lib/python3.7/dist-packages (from hdbscan>=0.8.27->top2vec[indexing]) (0.29.28)\n",
            "Requirement already satisfied: threadpoolctl>=2.0.0 in /usr/local/lib/python3.7/dist-packages (from scikit-learn>=0.20->hdbscan>=0.8.27->top2vec[indexing]) (3.1.0)\n",
            "Requirement already satisfied: pynndescent>=0.5 in /usr/local/lib/python3.7/dist-packages (from umap-learn>=0.5.1->top2vec[indexing]) (0.5.6)\n",
            "Requirement already satisfied: tqdm in /usr/local/lib/python3.7/dist-packages (from umap-learn>=0.5.1->top2vec[indexing]) (4.64.0)\n",
            "Requirement already satisfied: numba>=0.49 in /usr/local/lib/python3.7/dist-packages (from umap-learn>=0.5.1->top2vec[indexing]) (0.51.2)\n",
            "Requirement already satisfied: setuptools in /usr/local/lib/python3.7/dist-packages (from numba>=0.49->umap-learn>=0.5.1->top2vec[indexing]) (57.4.0)\n",
            "Requirement already satisfied: llvmlite<0.35,>=0.34.0.dev0 in /usr/local/lib/python3.7/dist-packages (from numba>=0.49->umap-learn>=0.5.1->top2vec[indexing]) (0.34.0)\n",
            "Requirement already satisfied: pytz>=2017.3 in /usr/local/lib/python3.7/dist-packages (from pandas->top2vec[indexing]) (2022.1)\n",
            "Requirement already satisfied: python-dateutil>=2.7.3 in /usr/local/lib/python3.7/dist-packages (from pandas->top2vec[indexing]) (2.8.2)\n",
            "Requirement already satisfied: six>=1.5 in /usr/local/lib/python3.7/dist-packages (from python-dateutil>=2.7.3->pandas->top2vec[indexing]) (1.15.0)\n",
            "Requirement already satisfied: pillow in /usr/local/lib/python3.7/dist-packages (from wordcloud->top2vec[indexing]) (7.1.2)\n"
          ]
        }
      ],
      "source": [
        "pip install top2vec[indexing]"
      ]
    },
    {
      "cell_type": "code",
      "execution_count": null,
      "metadata": {
        "colab": {
          "base_uri": "https://localhost:8080/"
        },
        "id": "qYezMBO0GGEe",
        "outputId": "8ab55fd1-fbea-40cd-ad29-a27726383eba"
      },
      "outputs": [
        {
          "name": "stdout",
          "output_type": "stream",
          "text": [
            "                                                   text\n",
            "0     The highly contagious Delta variant of COVID-1...\n",
            "1     We’re the only newsroom dedicated to writing a...\n",
            "2     Read the latest story on how LGBTQ+ Americans ...\n",
            "3     We’re the only newsroom dedicated to writing a...\n",
            "4     As a nonprofit newsroom, members are critical ...\n",
            "...                                                 ...\n",
            "2714  Authored by Jonathan Turley,\\n\\nThe House Demo...\n",
            "2715  The Biden administration has said it will cont...\n",
            "2716  Update (2031ET): Someone on Twitter points out...\n",
            "2717  Over the past week, President Trump has been k...\n",
            "2718  Remember what happened after the last inaugura...\n",
            "\n",
            "[2719 rows x 1 columns]\n"
          ]
        }
      ],
      "source": [
        "from top2vec import Top2Vec\n",
        "df = pd.DataFrame (data, columns = ['text'])\n",
        "print(df)\n"
      ]
    },
    {
      "cell_type": "code",
      "execution_count": null,
      "metadata": {
        "id": "UpbmisE8KeY_"
      },
      "outputs": [],
      "source": [
        "liste = df['text'].astype(str).tolist()"
      ]
    },
    {
      "cell_type": "code",
      "execution_count": null,
      "metadata": {
        "colab": {
          "base_uri": "https://localhost:8080/"
        },
        "id": "_TVoYCWNKvTQ",
        "outputId": "bc9de49e-82e8-4d08-bb71-a542764a34f2"
      },
      "outputs": [
        {
          "name": "stdout",
          "output_type": "stream",
          "text": [
            "0       The highly contagious Delta variant of COVID-1...\n",
            "1       We’re the only newsroom dedicated to writing a...\n",
            "2       Read the latest story on how LGBTQ+ Americans ...\n",
            "3       We’re the only newsroom dedicated to writing a...\n",
            "4       As a nonprofit newsroom, members are critical ...\n",
            "                              ...                        \n",
            "2714    Authored by Jonathan Turley,\\n\\nThe House Demo...\n",
            "2715    The Biden administration has said it will cont...\n",
            "2716    Update (2031ET): Someone on Twitter points out...\n",
            "2717    Over the past week, President Trump has been k...\n",
            "2718    Remember what happened after the last inaugura...\n",
            "Name: text, Length: 2719, dtype: object\n"
          ]
        }
      ],
      "source": [
        "print(df['text'])"
      ]
    },
    {
      "cell_type": "code",
      "execution_count": null,
      "metadata": {
        "id": "4FQbcWKsM9_t"
      },
      "outputs": [],
      "source": [
        "docs = list(df.loc[:, \"text\"].values)"
      ]
    },
    {
      "cell_type": "code",
      "execution_count": null,
      "metadata": {
        "colab": {
          "base_uri": "https://localhost:8080/"
        },
        "id": "GNpbw_iLKpy9",
        "outputId": "d9d39a52-d80c-408a-e119-48b4df0976a3"
      },
      "outputs": [
        {
          "name": "stderr",
          "output_type": "stream",
          "text": [
            "2022-05-11 20:09:34,464 - top2vec - INFO - Pre-processing documents for training\n",
            "INFO:top2vec:Pre-processing documents for training\n",
            "/usr/local/lib/python3.7/dist-packages/sklearn/utils/deprecation.py:87: FutureWarning: Function get_feature_names is deprecated; get_feature_names is deprecated in 1.0 and will be removed in 1.2. Please use get_feature_names_out instead.\n",
            "  warnings.warn(msg, category=FutureWarning)\n",
            "2022-05-11 20:09:46,066 - top2vec - INFO - Downloading universal-sentence-encoder model\n",
            "INFO:top2vec:Downloading universal-sentence-encoder model\n",
            "2022-05-11 20:09:54,243 - top2vec - INFO - Creating joint document/word embedding\n",
            "INFO:top2vec:Creating joint document/word embedding\n",
            "2022-05-11 20:10:15,442 - top2vec - INFO - Creating lower dimension embedding of documents\n",
            "INFO:top2vec:Creating lower dimension embedding of documents\n",
            "2022-05-11 20:10:29,381 - top2vec - INFO - Finding dense areas of documents\n",
            "INFO:top2vec:Finding dense areas of documents\n",
            "2022-05-11 20:10:29,455 - top2vec - INFO - Finding topics\n",
            "INFO:top2vec:Finding topics\n"
          ]
        }
      ],
      "source": [
        "model = Top2Vec(docs, embedding_model='universal-sentence-encoder')"
      ]
    },
    {
      "cell_type": "code",
      "execution_count": null,
      "metadata": {
        "colab": {
          "base_uri": "https://localhost:8080/"
        },
        "id": "auD6RHjoGYhk",
        "outputId": "5daec997-5c66-464b-dc6a-705c955eb3e6"
      },
      "outputs": [
        {
          "data": {
            "text/plain": [
              "34"
            ]
          },
          "execution_count": 30,
          "metadata": {},
          "output_type": "execute_result"
        }
      ],
      "source": [
        "model.get_num_topics()"
      ]
    },
    {
      "cell_type": "code",
      "execution_count": null,
      "metadata": {
        "id": "dTjzKccvNJ0w"
      },
      "outputs": [],
      "source": [
        "topic_words, word_scores, topic_nums = model.get_topics(34)"
      ]
    },
    {
      "cell_type": "code",
      "execution_count": null,
      "metadata": {
        "colab": {
          "background_save": true,
          "base_uri": "https://localhost:8080/",
          "height": 1000
        },
        "id": "SZjG6hdENL2x",
        "outputId": "a93bcc19-f96c-4400-bfa2-0821fd265948"
      },
      "outputs": [],
      "source": [
        "for topic in topic_nums:\n",
        "    model.generate_topic_wordcloud(topic)"
      ]
    },
    {
      "cell_type": "code",
      "execution_count": null,
      "metadata": {
        "colab": {
          "base_uri": "https://localhost:8080/"
        },
        "id": "2Am6i0iCRSRV",
        "outputId": "1c8860ce-be65-4511-e21b-db580c6eee4a"
      },
      "outputs": [
        {
          "output_type": "execute_result",
          "data": {
            "text/plain": [
              "(array(['protester', 'protesters', 'protests', 'arrests', 'demonstrators',\n",
              "        'antifa', 'assaulted', 'rioters', 'protesting', 'protest', 'blm',\n",
              "        'shootings', 'assaults', 'allegations', 'defendants', 'activists',\n",
              "        'prosecutors', 'riots', 'demonstrations', 'charlottesville',\n",
              "        'alleged', 'sheriff', 'investigated', 'arrest', 'rallies',\n",
              "        'systemic', 'indictment', 'prosecutor', 'testimony', 'suspects',\n",
              "        'doj', 'citizens', 'pompeo', 'reporters', 'investigators',\n",
              "        'staffer', 'officials', 'suspected', 'policing', 'plaintiffs',\n",
              "        'investigative', 'police', 'arrested', 'detained',\n",
              "        'investigations', 'cuomo', 'hearings', 'accused', 'questioned',\n",
              "        'fbi'], dtype='<U15'),\n",
              " array(['bipartisan', 'filibuster', 'manchin', 'pelosi', 'gop', 'senate',\n",
              "        'republicans', 'mcconnell', 'repeal', 'legislative', 'obamacare',\n",
              "        'democrats', 'lawmakers', 'congressional', 'senators',\n",
              "        'reelection', 'rasmussen', 'partisan', 'democrat', 'congress',\n",
              "        'republican', 'compromise', 'caucus', 'voters', 'biden', 'schumer',\n",
              "        'reconciliation', 'legislation', 'legislature', 'senator',\n",
              "        'legislators', 'veto', 'centrist', 'federalist', 'democratic',\n",
              "        'legislatures', 'bills', 'politico', 'fiscal', 'congresswoman',\n",
              "        'conservatives', 'sen', 'electorate', 'impeach', 'reform', 'cuomo',\n",
              "        'alleges', 'medicaid', 'overwhelmingly', 'impeachment'],\n",
              "       dtype='<U15'),\n",
              " array(['residents', 'outbreaks', 'pandemic', 'cdc', 'statewide',\n",
              "        'outbreak', 'populations', 'affected', 'systemic', 'unvaccinated',\n",
              "        'shootings', 'closures', 'homicides', 'governor', 'immune',\n",
              "        'population', 'closing', 'hospitalized', 'complaint', 'quarantine',\n",
              "        'officials', 'immunity', 'resident', 'sars', 'flu', 'haitians',\n",
              "        'absentee', 'taxpayers', 'convinced', 'staffers', 'gov',\n",
              "        'plaintiffs', 'workers', 'reopened', 'citizens', 'ensuring',\n",
              "        'respondents', 'mayor', 'enforce', 'stated', 'protests', 'icu',\n",
              "        'shortage', 'settlement', 'governing', 'enforcing', 'planned',\n",
              "        'decision', 'regulation', 'allegations'], dtype='<U15'),\n",
              " array(['impeachment', 'gop', 'impeach', 'manchin', 'trump', 'reelection',\n",
              "        'bipartisan', 'republicans', 'partisan', 'politico', 'democrats',\n",
              "        'presidency', 'congressional', 'republican', 'repeal', 'schumer',\n",
              "        'mcconnell', 'senate', 'mueller', 'pompeo', 'presidential',\n",
              "        'filibuster', 'giuliani', 'electors', 'pelosi', 'dnc', 'democrat',\n",
              "        'rasmussen', 'bannon', 'resignation', 'federalist', 'staffer',\n",
              "        'kushner', 'elections', 'congress', 'legislatures', 'inauguration',\n",
              "        'politically', 'biden', 'lawmakers', 'indictment', 'appointees',\n",
              "        'resign', 'electorate', 'congresswoman', 'kamala', 'election',\n",
              "        'president', 'voters', 'conservatives'], dtype='<U15'),\n",
              " array(['biden', 'presidential', 'politico', 'msnbc', 'giuliani',\n",
              "        'staffer', 'debates', 'debate', 'democrats', 'partisan',\n",
              "        'rasmussen', 'vice', 'cuomo', 'trump', 'interviewed', 'bipartisan',\n",
              "        'reporters', 'interviews', 'hillary', 'election', 'gop', 'reuters',\n",
              "        'presidency', 'cnn', 'political', 'manchin', 'staffers', 'pompeo',\n",
              "        'obama', 'dnc', 'politics', 'joe', 'caucus', 'politically',\n",
              "        'republicans', 'reelection', 'tweeting', 'schumer',\n",
              "        'congresswoman', 'nbc', 'rubio', 'journalists', 'kamala',\n",
              "        'liberals', 'journalistic', 'bernie', 'president', 'pelosi',\n",
              "        'romney', 'conservatives'], dtype='<U15'),\n",
              " array(['unvaccinated', 'vaccine', 'vaccinated', 'vaccines', 'vaccination',\n",
              "        'vaccinations', 'cdc', 'immune', 'outbreaks', 'immunity', 'narrow',\n",
              "        'pandemic', 'viral', 'outbreak', 'flu', 'quarantine', 'shots',\n",
              "        'sars', 'reuters', 'anti', 'pfizer', 'rasmussen', 'infectious',\n",
              "        'congresswoman', 'systemic', 'frontline', 'disinformation',\n",
              "        'risks', 'fda', 'protocols', 'zuckerberg', 'populations',\n",
              "        'staffers', 'enforce', 'coverage', 'consensus', 'recipients',\n",
              "        'governments', 'urged', 'administrations', 'regulatory',\n",
              "        'endorsed', 'spreading', 'gov', 'mccarthy', 'convinced', 'safer',\n",
              "        'plaintiffs', 'intercept', 'exposure'], dtype='<U15'),\n",
              " array(['naacp', 'racial', 'racism', 'racist', 'advocated', 'supremacists',\n",
              "        'explicitly', 'controversy', 'advocates', 'unclear', 'minorities',\n",
              "        'systemic', 'discrimination', 'kamala', 'allegations', 'antifa',\n",
              "        'inequality', 'pompeo', 'plaintiffs', 'minority', 'activists',\n",
              "        'leftist', 'demonstrators', 'defendants', 'whites', 'leftists',\n",
              "        'institutional', 'blm', 'discussed', 'urban', 'dissent',\n",
              "        'protesting', 'convinced', 'based', 'classrooms', 'protests',\n",
              "        'protesters', 'opposing', 'argued', 'respondents', 'sen',\n",
              "        'protest', 'diversity', 'privilege', 'insisting', 'pleaded',\n",
              "        'definition', 'protester', 'hearings', 'taxpayers'], dtype='<U15'),\n",
              " array(['controversy', 'tweeting', 'featuring', 'inaugural', 'viral',\n",
              "        'naacp', 'inauguration', 'juneteenth', 'explicitly', 'protests',\n",
              "        'kamala', 'nbc', 'exclusive', 'canceled', 'convention', 'hawley',\n",
              "        'systemic', 'famous', 'pledged', 'solidarity', 'based', 'critics',\n",
              "        'allegations', 'hearings', 'backlash', 'covering', 'acknowledging',\n",
              "        'tweets', 'unprecedented', 'committee', 'heroes', 'tweeted',\n",
              "        'featured', 'definition', 'inequality', 'despite', 'posed',\n",
              "        'scandal', 'pressed', 'activist', 'activists', 'impacts',\n",
              "        'advocated', 'staffers', 'trending', 'renewed', 'grant',\n",
              "        'protesting', 'newsroom', 'shootings'], dtype='<U15'),\n",
              " array(['tweeting', 'zuckerberg', 'antitrust', 'bezos', 'tweets',\n",
              "        'tweeted', 'reuters', 'trending', 'twitter', 'tweet', 'advocated',\n",
              "        'censorship', 'publicly', 'leftist', 'leftists', 'protesters',\n",
              "        'fcc', 'antifa', 'virtually', 'protests', 'unprecedented',\n",
              "        'regulatory', 'allegations', 'controversy', 'overwhelmingly',\n",
              "        'dissent', 'staffer', 'moratorium', 'politico', 'activists',\n",
              "        'sued', 'rasmussen', 'trump', 'backlash', 'demonstrators',\n",
              "        'politically', 'oppose', 'explicitly', 'facebook', 'protest',\n",
              "        'authoritarian', 'viewers', 'based', 'pompeo', 'feared',\n",
              "        'political', 'lawsuits', 'cnn', 'restricted', 'banning'],\n",
              "       dtype='<U15'),\n",
              " array(['ballots', 'ballot', 'absentee', 'voters', 'voter', 'recount',\n",
              "        'electoral', 'polling', 'electors', 'voting', 'voted',\n",
              "        'electorate', 'elections', 'election', 'votes', 'caucus',\n",
              "        'reelection', 'turnout', 'vote', 'statewide', 'elected',\n",
              "        'citizens', 'rigged', 'fraudulent', 'rasmussen', 'fraud',\n",
              "        'residents', 'legislatures', 'governor', 'elect', 'states',\n",
              "        'counted', 'incumbent', 'manchin', 'lawmakers', 'respondents',\n",
              "        'democracy', 'legislators', 'counties', 'staffer', 'rallies',\n",
              "        'protests', 'registered', 'plaintiffs', 'cuomo', 'districts',\n",
              "        'pennsylvania', 'evictions', 'sheriff', 'nationally'], dtype='<U15'),\n",
              " array(['evangelicals', 'churches', 'protesting', 'evangelical',\n",
              "        'protesters', 'rallies', 'protester', 'denounced', 'pastor',\n",
              "        'protests', 'gop', 'demonstrators', 'protest', 'advocated', 'cult',\n",
              "        'elect', 'haitians', 'feared', 'speeches', 'absentee', 'troubling',\n",
              "        'nonprofit', 'based', 'distancing', 'fallen', 'presidency',\n",
              "        'oppose', 'pray', 'shootings', 'giuliani', 'inaugural',\n",
              "        'christian', 'republican', 'extremism', 'overwhelmingly',\n",
              "        'inauguration', 'reconciliation', 'pledged', 'inequality',\n",
              "        'elected', 'gatherings', 'testimony', 'political', 'praise',\n",
              "        'christians', 'spokeswoman', 'lawmakers', 'definition',\n",
              "        'republicans', 'radical'], dtype='<U15'),\n",
              " array(['putin', 'sanctions', 'biden', 'diplomatic', 'netanyahu',\n",
              "        'reuters', 'bipartisan', 'presidential', 'unprecedented',\n",
              "        'negotiations', 'iran', 'feared', 'nixon', 'cuomo', 'kushner',\n",
              "        'troubling', 'rasmussen', 'pelosi', 'tensions', 'administrations',\n",
              "        'centrist', 'authoritarian', 'giuliani', 'reagan', 'presidency',\n",
              "        'nuclear', 'federalist', 'treaty', 'opposing', 'crises', 'obama',\n",
              "        'skeptical', 'communist', 'nato', 'ideological', 'politico',\n",
              "        'protesters', 'filibuster', 'cheney', 'bannon', 'pompeo',\n",
              "        'pentagon', 'democratic', 'russia', 'agreements', 'partisan',\n",
              "        'politically', 'sen', 'ethics', 'distancing'], dtype='<U15'),\n",
              " array(['mueller', 'kushner', 'prosecutor', 'impeachment', 'prosecutors',\n",
              "        'investigations', 'indictment', 'doj', 'investigated', 'pompeo',\n",
              "        'impeach', 'bipartisan', 'investigative', 'investigators',\n",
              "        'investigation', 'attorneys', 'allegations', 'trump', 'appointees',\n",
              "        'prosecution', 'fbi', 'schumer', 'flynn', 'politico', 'defendants',\n",
              "        'partisan', 'staffer', 'investigating', 'hearings', 'giuliani',\n",
              "        'cuomo', 'manchin', 'lawmakers', 'testimony', 'arrests', 'nixon',\n",
              "        'attorney', 'mcconnell', 'alleged', 'breach', 'scandal', 'assange',\n",
              "        'judicial', 'judiciary', 'democrats', 'dnc', 'legislatures',\n",
              "        'clinton', 'filibuster', 'melania'], dtype='<U15'),\n",
              " array(['trump', 'presidential', 'melania', 'inauguration', 'tweeting',\n",
              "        'president', 'donald', 'presidency', 'kushner', 'staffer',\n",
              "        'hillary', 'outbreaks', 'maga', 'based', 'bannon', 'politico',\n",
              "        'rallies', 'reuters', 'viral', 'tweets', 'pompeo', 'clinton',\n",
              "        'giuliani', 'political', 'presidents', 'politically', 'repeal',\n",
              "        'staffers', 'mueller', 'gop', 'briefing', 'obamacare', 'reporters',\n",
              "        'outbreak', 'protesters', 'inaugural', 'cnn', 'obama', 'rasmussen',\n",
              "        'impeachment', 'officials', 'conservatives', 'convention',\n",
              "        'congresswoman', 'administrations', 'tweet', 'biden', 'bezos',\n",
              "        'overwhelmingly', 'nbc'], dtype='<U15'),\n",
              " array(['reuters', 'journalistic', 'disinformation', 'politico',\n",
              "        'journalists', 'msnbc', 'journalist', 'propaganda', 'journalism',\n",
              "        'partisan', 'reporters', 'columnist', 'tweeting', 'rasmussen',\n",
              "        'controversy', 'newsroom', 'leftist', 'overwhelmingly', 'cnn',\n",
              "        'npr', 'media', 'editorial', 'centrist', 'dissent', 'zuckerberg',\n",
              "        'bias', 'reporter', 'widely', 'nbc', 'unprecedented', 'limbaugh',\n",
              "        'bezos', 'staffer', 'advocated', 'political', 'misinformation',\n",
              "        'pompeo', 'activist', 'newspaper', 'opposing', 'leftists',\n",
              "        'tribune', 'staffers', 'antisemitism', 'bipartisan', 'virtually',\n",
              "        'ideological', 'populist', 'protests', 'trending'], dtype='<U15'),\n",
              " array(['electors', 'electoral', 'recount', 'ballots', 'trump',\n",
              "        'elections', 'election', 'impeachment', 'reelection', 'politico',\n",
              "        'manchin', 'rasmussen', 'impeach', 'polling', 'dnc', 'electorate',\n",
              "        'ballot', 'voters', 'biden', 'caucus', 'gop', 'presidential',\n",
              "        'rigged', 'democrats', 'filibuster', 'presidency', 'giuliani',\n",
              "        'elected', 'bipartisan', 'cuomo', 'maga', 'absentee', 'mueller',\n",
              "        'indictment', 'republicans', 'legislatures', 'democracy', 'pompeo',\n",
              "        'hillary', 'states', 'rallies', 'votes', 'partisan', 'democratic',\n",
              "        'pennsylvania', 'repeal', 'schumer', 'staffer', 'president',\n",
              "        'investigations'], dtype='<U15'),\n",
              " array(['transgender', 'lgbtq', 'discrimination', 'oppose', 'trans',\n",
              "        'advocated', 'kamala', 'repeal', 'naacp', 'activists', 'activist',\n",
              "        'legislators', 'legislatures', 'anti', 'lawmakers', 'minorities',\n",
              "        'legislature', 'amendment', 'advocates', 'congresswoman',\n",
              "        'endorsed', 'transition', 'manchin', 'accepting', 'queer',\n",
              "        'controversy', 'justices', 'allegations', 'legislative', 'sen',\n",
              "        'gender', 'bipartisan', 'inequality', 'endorsement', 'opposed',\n",
              "        'privilege', 'progressive', 'questioning', 'centrist', 'refusing',\n",
              "        'federalist', 'statewide', 'equality', 'unclear', 'minority',\n",
              "        'protests', 'denied', 'lgbt', 'approve', 'protesters'],\n",
              "       dtype='<U15'),\n",
              " array(['educators', 'classrooms', 'districts', 'teachers', 'educated',\n",
              "        'schools', 'students', 'taxpayers', 'carlson', 'school',\n",
              "        'administrators', 'elementary', 'respondents', 'superintendent',\n",
              "        'district', 'outbreaks', 'convinced', 'attended', 'education',\n",
              "        'counties', 'unvaccinated', 'residents', 'teaching', 'staffers',\n",
              "        'unclear', 'teacher', 'tenure', 'administrations', 'audit',\n",
              "        'enforce', 'governors', 'knows', 'cdc', 'faculty', 'planned',\n",
              "        'urban', 'officials', 'educational', 'curriculum', 'absentee',\n",
              "        'advocates', 'systemic', 'said', 'gov', 'statewide', 'closures',\n",
              "        'overwhelmingly', 'neighborhoods', 'prevention', 'classroom'],\n",
              "       dtype='<U15'),\n",
              " array(['epa', 'environmental', 'emissions', 'pollution', 'moratorium',\n",
              "        'consensus', 'warming', 'nuclear', 'coal', 'climate',\n",
              "        'politicians', 'greenhouse', 'regulatory', 'convention', 'carbon',\n",
              "        'solar', 'catastrophic', 'alarming', 'scientists', 'billions',\n",
              "        'global', 'resign', 'convinced', 'pelosi', 'affected',\n",
              "        'bipartisan', 'scientist', 'leftist', 'environment', 'sars',\n",
              "        'shortages', 'agreements', 'advocated', 'breathe', 'agreement',\n",
              "        'decided', 'recycling', 'lawmakers', 'unprecedented', 'runoff',\n",
              "        'advocates', 'caused', 'harmful', 'backed', 'manchin', 'pledged',\n",
              "        'activists', 'sen', 'nra', 'recount'], dtype='<U15'),\n",
              " array(['homelessness', 'homeless', 'mayor', 'residents', 'evictions',\n",
              "        'urban', 'taxpayers', 'neighborhoods', 'community', 'giuliani',\n",
              "        'enforcing', 'housing', 'enforce', 'shelter', 'communities',\n",
              "        'newsom', 'eviction', 'systemic', 'haitians', 'advocated', 'solve',\n",
              "        'medicaid', 'staffers', 'provisions', 'tenants', 'taxpayer', 'gov',\n",
              "        'organizers', 'resident', 'charity', 'governing', 'migrants',\n",
              "        'libertarian', 'poverty', 'sheriff', 'proposed', 'citizens',\n",
              "        'plaintiffs', 'metropolitan', 'cuomo', 'socialist', 'statewide',\n",
              "        'voters', 'cities', 'inequality', 'towns', 'solutions',\n",
              "        'protesters', 'resolution', 'homes'], dtype='<U15'),\n",
              " array(['outbreak', 'sars', 'unvaccinated', 'outbreaks', 'pandemic', 'cdc',\n",
              "        'viral', 'quarantine', 'convinced', 'disinformation', 'vaccine',\n",
              "        'reuters', 'flu', 'vaccines', 'vaccinated', 'allegations',\n",
              "        'scientists', 'billions', 'immune', 'investigated', 'consensus',\n",
              "        'proven', 'blamed', 'propaganda', 'based', 'alarming',\n",
              "        'infectious', 'virus', 'vaccination', 'skeptical', 'alleges',\n",
              "        'unprecedented', 'afp', 'caused', 'proved', 'concluded',\n",
              "        'populations', 'epa', 'fraudulent', 'spreading', 'suspect',\n",
              "        'researchers', 'risks', 'vaccinations', 'immunity', 'sued',\n",
              "        'global', 'infected', 'npr', 'experts'], dtype='<U15'),\n",
              " array(['deportation', 'immigration', 'undocumented', 'migrants',\n",
              "        'migrant', 'daca', 'immigrants', 'immigrant', 'border', 'asylum',\n",
              "        'illegally', 'detained', 'citizenship', 'haitians', 'pompeo',\n",
              "        'citizens', 'arrests', 'enforcing', 'unlawful', 'borders',\n",
              "        'enforced', 'barriers', 'enforce', 'bipartisan', 'trafficking',\n",
              "        'criminals', 'visa', 'moratorium', 'rasmussen', 'doj',\n",
              "        'protesters', 'rubio', 'limits', 'dhs', 'taxpayers', 'officials',\n",
              "        'kushner', 'residents', 'unrest', 'giuliani', 'appointees',\n",
              "        'workers', 'administrations', 'repeal', 'comply', 'prisoners',\n",
              "        'quarantine', 'legislative', 'citizen', 'reuters'], dtype='<U15'),\n",
              " array(['aircraft', 'deployed', 'pentagon', 'navy', 'nato', 'troops',\n",
              "        'military', 'capabilities', 'planned', 'army', 'defense',\n",
              "        'militia', 'armed', 'aimed', 'capacity', 'cdc', 'intercept',\n",
              "        'forces', 'fighter', 'capable', 'canceled', 'sars', 'lockdown',\n",
              "        'civilian', 'guard', 'jet', 'launched', 'reuters', 'defended',\n",
              "        'proposals', 'proposal', 'assaults', 'command', 'robust', 'argued',\n",
              "        'relying', 'decision', 'plans', 'operations', 'aims', 'fort',\n",
              "        'targets', 'opponent', 'provision', 'effectively', 'targeting',\n",
              "        'additional', 'bomb', 'combat', 'repeal'], dtype='<U15'),\n",
              " array(['abortions', 'abortion', 'roe', 'medicaid', 'legislative',\n",
              "        'lawmakers', 'manchin', 'filibuster', 'legislature', 'advocated',\n",
              "        'repeal', 'parenthood', 'legislators', 'banning', 'republicans',\n",
              "        'activists', 'dnc', 'justices', 'gop', 'libertarian', 'oppose',\n",
              "        'legislation', 'legislatures', 'against', 'clinics', 'overturn',\n",
              "        'constitutional', 'congresswoman', 'republican', 'advocates',\n",
              "        'amendment', 'evangelicals', 'democrats', 'liberties',\n",
              "        'moratorium', 'kamala', 'pregnant', 'democrat', 'judicial', 'afp',\n",
              "        'protesters', 'obamacare', 'garland', 'protesting', 'protections',\n",
              "        'federalist', 'protests', 'veto', 'rights', 'protest'],\n",
              "       dtype='<U15'),\n",
              " array(['olympics', 'nbc', 'olympic', 'athletes', 'allegations',\n",
              "        'decision', 'nba', 'teams', 'baseball', 'controversy', 'rio',\n",
              "        'tweeting', 'decided', 'favored', 'endorsement', 'overturn',\n",
              "        'kamala', 'greene', 'policies', 'regulation', 'competing',\n",
              "        'babbitt', 'based', 'team', 'warnock', 'said', 'nation',\n",
              "        'suspended', 'rose', 'organizers', 'according', 'extend',\n",
              "        'systemic', 'backlash', 'committee', 'indigenous', 'amid',\n",
              "        'following', 'policy', 'article', 'stronger', 'powell',\n",
              "        'including', 'sports', 'regardless', 'pledged', 'eligibility',\n",
              "        'jimenez', 'shootings', 'sullivan'], dtype='<U15'),\n",
              " array(['stocks', 'recession', 'investors', 'rasmussen', 'reuters',\n",
              "        'trending', 'bloomberg', 'pfizer', 'stock', 'invest', 'shares',\n",
              "        'bezos', 'bitcoin', 'dollar', 'puts', 'markets', 'collapse',\n",
              "        'regulatory', 'investment', 'consensus', 'cryptocurrency',\n",
              "        'antitrust', 'dropping', 'underlying', 'surge', 'headlines',\n",
              "        'insider', 'unprecedented', 'falling', 'banks', 'margin', 'equity',\n",
              "        'analyst', 'inflation', 'moratorium', 'shortage', 'optimistic',\n",
              "        'alarming', 'decline', 'populist', 'roe', 'shortages', 'economy',\n",
              "        'trend', 'trading', 'gains', 'investments', 'economic',\n",
              "        'predicted', 'regulators'], dtype='<U15'),\n",
              " array(['justices', 'filibuster', 'judicial', 'mcconnell', 'judiciary',\n",
              "        'constitutional', 'senate', 'manchin', 'judges', 'repeal',\n",
              "        'obamacare', 'bipartisan', 'gop', 'appointees', 'legislative',\n",
              "        'courts', 'legislatures', 'congressional', 'reelection', 'ruling',\n",
              "        'congress', 'senators', 'federalist', 'court', 'republicans',\n",
              "        'garland', 'partisan', 'overturn', 'defendants', 'pelosi',\n",
              "        'kamala', 'schumer', 'lawmakers', 'cruz', 'republican', 'roberts',\n",
              "        'attorneys', 'precedent', 'litigation', 'legislature', 'appointed',\n",
              "        'impeachment', 'majority', 'plaintiffs', 'conservatives', 'judge',\n",
              "        'progressives', 'doj', 'democrats', 'appeals'], dtype='<U15'),\n",
              " array(['wildfires', 'wildfire', 'fires', 'drought', 'fire', 'climate',\n",
              "        'shortage', 'shortages', 'disasters', 'affected', 'burning',\n",
              "        'trees', 'storms', 'pollution', 'forest', 'shootings', 'warming',\n",
              "        'caused', 'systemic', 'montana', 'environmental', 'temperatures',\n",
              "        'outbreaks', 'disaster', 'runoff', 'calif', 'catastrophic', 'epa',\n",
              "        'warnings', 'surge', 'blm', 'dangers', 'causing', 'crises',\n",
              "        'suffer', 'weather', 'hurricane', 'unprecedented', 'unrest',\n",
              "        'consensus', 'dakota', 'mccarthy', 'statewide', 'concerned',\n",
              "        'alarming', 'blamed', 'navajo', 'agriculture', 'policies',\n",
              "        'ratings'], dtype='<U15'),\n",
              " array(['palestinians', 'netanyahu', 'palestinian', 'hamas',\n",
              "        'antisemitism', 'gaza', 'israeli', 'israel', 'jerusalem', 'jews',\n",
              "        'conflict', 'demonstrators', 'evictions', 'civilians', 'jewish',\n",
              "        'conflicts', 'denounced', 'supremacists', 'protesters',\n",
              "        'terrorists', 'corbyn', 'anti', 'kushner', 'cuomo', 'pompeo',\n",
              "        'terrorism', 'democratic', 'covering', 'occupied',\n",
              "        'demonstrations', 'defended', 'tenants', 'protester', 'dispute',\n",
              "        'solidarity', 'negotiations', 'opposing', 'allegations',\n",
              "        'haitians', 'activists', 'protests', 'genocide', 'agreements',\n",
              "        'accusing', 'terrorist', 'relations', 'resistance',\n",
              "        'reconciliation', 'taxpayers', 'complaints'], dtype='<U15'),\n",
              " array(['ll', 'un', 'on', 'actually', 'an', 'way', 'not', 'has', 'of',\n",
              "        'so', 'in', 'it', 'upon', 'one', 'is', 'at', 'what', 'no', 'shut',\n",
              "        'got', 'posed', 'have', 'the', 'am', 'there', 'out', 'bit', 'by',\n",
              "        'quite', 'was', 've', 'been', 'over', 'had', 'de', 'ok', 'stated',\n",
              "        'hadn', 'are', 'said', 'along', 'really', 'dire', 'he', 'just',\n",
              "        'shit', 'sorry', 'made', 'two', 'into'], dtype='<U15'),\n",
              " array(['nra', 'firearms', 'shootings', 'guns', 'homicides', 'armed',\n",
              "        'gun', 'manchin', 'militia', 'cuomo', 'shooting', 'desantis',\n",
              "        'legislative', 'lawmakers', 'statewide', 'legislators',\n",
              "        'congresswoman', 'bipartisan', 'repeal', 'governor', 'bloomberg',\n",
              "        'rifle', 'legislatures', 'systemic', 'doj', 'criminals',\n",
              "        'advocated', 'partisan', 'amendment', 'constitutional',\n",
              "        'moratorium', 'federalist', 'filibuster', 'legislature', 'cdc',\n",
              "        'restrictive', 'citizens', 'weapons', 'senators', 'giuliani',\n",
              "        'regulation', 'advocates', 'democrat', 'felony', 'kamala',\n",
              "        'arkansas', 'republican', 'troubling', 'resident', 'republicans'],\n",
              "       dtype='<U15'),\n",
              " array(['kaczynski', 'acres', 'convinced', 'investigated', 'investigators',\n",
              "        'surrounding', 'homicides', 'newsom', 'although', 'murdered',\n",
              "        'isolated', 'investigative', 'brennan', 'criminals', 'extensive',\n",
              "        'interviewed', 'systemic', 'unknown', 'virtually', 'deeply',\n",
              "        'urban', 'shootings', 'alike', 'lived', 'strongly', 'accurately',\n",
              "        'suspect', 'relatively', 'cooperation', 'even', 'columnist',\n",
              "        'widely', 'partisan', 'troubling', 'rittenhouse', 'incarceration',\n",
              "        'investigations', 'closely', 'holmes', 'suspects', 'environmental',\n",
              "        'collected', 'concrete', 'terrorism', 'described', 'suspected',\n",
              "        'countless', 'undocumented', 'homicide', 'advocated'], dtype='<U15'),\n",
              " array(['taliban', 'afghanistan', 'afghan', 'kabul', 'iraq', 'deployed',\n",
              "        'troops', 'biden', 'pentagon', 'soldiers', 'protesters',\n",
              "        'terrorists', 'terrorism', 'cia', 'reuters', 'extremists',\n",
              "        'terrorist', 'contractors', 'extremism', 'nato', 'militia',\n",
              "        'captured', 'iran', 'staffer', 'staffers', 'afp', 'prisoners',\n",
              "        'dhs', 'protests', 'presidency', 'masks', 'according',\n",
              "        'operations', 'bezos', 'administrations', 'bomb', 'operation',\n",
              "        'planned', 'army', 'lockdown', 'policies', 'protester', 'alleges',\n",
              "        'extremist', 'anderson', 'intervention', 'pompeo', 'wikileaks',\n",
              "        'muslims', 'involvement'], dtype='<U15'),\n",
              " array(['palmer', 'bezos', 'bipartisan', 'recount', 'politico',\n",
              "        'impeachment', 'reuters', 'gop', 'fraudulent', 'msnbc', 'impeach',\n",
              "        'insider', 'kamala', 'ethics', 'partisan', 'assange', 'columnist',\n",
              "        'disinformation', 'fraud', 'flynn', 'zuckerberg', 'protests',\n",
              "        'rasmussen', 'repeal', 'backed', 'trump', 'report', 'ballot',\n",
              "        'brennan', 'dnc', 'ballots', 'staffer', 'protester', 'cuomo',\n",
              "        'barr', 'protesters', 'virtually', 'wikileaks', 'afp', 'breach',\n",
              "        'romney', 'cnn', 'journalistic', 'pompeo', 'npr', 'investigated',\n",
              "        'caucus', 'mccarthy', 'unvaccinated', 'manchin'], dtype='<U15'))"
            ]
          },
          "metadata": {},
          "execution_count": 42
        }
      ],
      "source": [
        "model.topic_words[0], model.topic_words[1], model.topic_words[2], model.topic_words[3], model.topic_words[4], model.topic_words[5], model.topic_words[6], model.topic_words[7], model.topic_words[8], model.topic_words[9],model.topic_words[10], model.topic_words[11], model.topic_words[12], model.topic_words[13], model.topic_words[14], model.topic_words[15], model.topic_words[16], model.topic_words[17], model.topic_words[18], model.topic_words[19], model.topic_words[20], model.topic_words[21],model.topic_words[22], model.topic_words[23], model.topic_words[24], model.topic_words[25], model.topic_words[26], model.topic_words[27], model.topic_words[28], model.topic_words[29], model.topic_words[30], model.topic_words[31], model.topic_words[32], model.topic_words[33]"
      ]
    },
    {
      "cell_type": "code",
      "execution_count": null,
      "metadata": {
        "id": "VhGNculHOegO"
      },
      "outputs": [],
      "source": [
        "topic_sizes, topic_nums = model.get_topic_sizes()"
      ]
    },
    {
      "cell_type": "code",
      "execution_count": null,
      "metadata": {
        "colab": {
          "base_uri": "https://localhost:8080/"
        },
        "id": "unoEdnb6RIbk",
        "outputId": "48e2859a-89c4-41a3-d143-9488eb3965e0"
      },
      "outputs": [
        {
          "output_type": "stream",
          "name": "stdout",
          "text": [
            "[296 196 194 158 141 135 112 105 103 102  84  83  82  77  62  58  57  56\n",
            "  54  54  53  52  52  48  41  38  38  35  31  27  26  25  24  20]\n"
          ]
        }
      ],
      "source": [
        "print(topic_sizes)"
      ]
    },
    {
      "cell_type": "code",
      "execution_count": null,
      "metadata": {
        "colab": {
          "base_uri": "https://localhost:8080/"
        },
        "id": "fZESMShoRKxY",
        "outputId": "4be83361-a5fa-447f-c030-7d25d86046ef"
      },
      "outputs": [
        {
          "output_type": "stream",
          "name": "stdout",
          "text": [
            "[ 0  1  2  3  4  5  6  7  8  9 10 11 12 13 14 15 16 17 18 19 20 21 22 23\n",
            " 24 25 26 27 28 29 30 31 32 33]\n"
          ]
        }
      ],
      "source": [
        "print(topic_nums)"
      ]
    },
    {
      "cell_type": "markdown",
      "metadata": {
        "id": "1pPlQWLcbZ9p"
      },
      "source": [
        ""
      ]
    },
    {
      "cell_type": "code",
      "execution_count": null,
      "metadata": {
        "id": "55Yblx_MRRDD"
      },
      "outputs": [],
      "source": [
        "topic_words, word_scores, topic_nums= model.get_topics(0)"
      ]
    },
    {
      "cell_type": "code",
      "execution_count": null,
      "metadata": {
        "id": "UGs9QvZ_SGme"
      },
      "outputs": [],
      "source": [
        "for words, scores in zip(topic_words, word_scores):\n",
        "  print(f\"Words: {words}\")"
      ]
    },
    {
      "cell_type": "code",
      "execution_count": null,
      "metadata": {
        "colab": {
          "base_uri": "https://localhost:8080/"
        },
        "id": "BRWlAmizSYLj",
        "outputId": "6a12d8dd-ab8f-4daf-8ebf-73e728d12eeb"
      },
      "outputs": [
        {
          "output_type": "stream",
          "name": "stdout",
          "text": [
            "1699\n",
            "1701\n",
            "1710\n",
            "1709\n",
            "1708\n",
            "1696\n",
            "1697\n",
            "1692\n",
            "1693\n",
            "1694\n",
            "1695\n",
            "1702\n",
            "1703\n",
            "1704\n",
            "1705\n",
            "1706\n",
            "1707\n",
            "2349\n",
            "558\n",
            "376\n",
            "2371\n",
            "418\n",
            "183\n",
            "1643\n",
            "256\n"
          ]
        }
      ],
      "source": [
        "documents, document_scores, document_ids = model.search_documents_by_topic(topic_num=31, num_docs=25)\n",
        "for doc, score, doc_id in zip(documents, document_scores, document_ids):\n",
        "  print(doc_id)\n",
        "\n"
      ]
    },
    {
      "cell_type": "code",
      "execution_count": null,
      "metadata": {
        "id": "FfJsFjwPvAa5"
      },
      "outputs": [],
      "source": [
        ""
      ]
    },
    {
      "cell_type": "code",
      "execution_count": null,
      "metadata": {
        "id": "KTNMaMVszGeA"
      },
      "outputs": [],
      "source": [
        "topic_mapping = model.hierarchical_topic_reduction(num_topics=20)"
      ]
    },
    {
      "cell_type": "code",
      "execution_count": null,
      "metadata": {
        "colab": {
          "base_uri": "https://localhost:8080/"
        },
        "id": "p4Uqqy_w3lc8",
        "outputId": "82f54917-8edd-40d7-81c6-56763c124ba1"
      },
      "outputs": [
        {
          "name": "stdout",
          "output_type": "stream",
          "text": [
            "[[19, 1], [24, 27, 33, 0], [18, 30, 32, 11], [34, 3], [21, 9], [23, 5], [2], [6], [4], [28, 29, 20], [26, 31, 14], [8], [7], [35, 15], [10], [25, 22], [12], [17], [13], [16]]\n"
          ]
        }
      ],
      "source": [
        "print(topic_mapping)"
      ]
    },
    {
      "cell_type": "code",
      "execution_count": null,
      "metadata": {
        "colab": {
          "base_uri": "https://localhost:8080/"
        },
        "id": "UjDVTHQg3wDA",
        "outputId": "e09cb6dd-b896-4d2d-f6b6-8080572d0d41"
      },
      "outputs": [
        {
          "data": {
            "text/plain": [
              "(array(['outbreaks', 'residents', 'cdc', 'pandemic', 'outbreak',\n",
              "        'systemic', 'statewide', 'populations', 'affected', 'unvaccinated',\n",
              "        'shootings', 'closures', 'officials', 'staffers', 'immune',\n",
              "        'respondents', 'convinced', 'absentee', 'governor', 'closing',\n",
              "        'taxpayers', 'hospitalized', 'homicides', 'quarantine', 'sars',\n",
              "        'enforce', 'citizens', 'gov', 'flu', 'planned', 'stated',\n",
              "        'shortage', 'alarming', 'workers', 'haitians', 'prevention',\n",
              "        'outreach', 'protests', 'complaint', 'ensuring', 'governing',\n",
              "        'immunity', 'policies', 'plaintiffs', 'governors', 'population',\n",
              "        'administrations', 'concerned', 'resident', 'allegations'],\n",
              "       dtype='<U15'),\n",
              " array(['bipartisan', 'manchin', 'filibuster', 'repeal', 'pelosi', 'gop',\n",
              "        'legislative', 'mcconnell', 'republicans', 'lawmakers', 'senate',\n",
              "        'obamacare', 'democrats', 'congressional', 'senators', 'partisan',\n",
              "        'reelection', 'congress', 'democrat', 'rasmussen', 'republican',\n",
              "        'voters', 'legislators', 'schumer', 'compromise', 'federalist',\n",
              "        'legislatures', 'legislature', 'caucus', 'centrist', 'legislation',\n",
              "        'congresswoman', 'biden', 'politico', 'moratorium', 'cuomo', 'sen',\n",
              "        'veto', 'senator', 'conservatives', 'politicians', 'reform',\n",
              "        'reconciliation', 'democratic', 'impeach', 'overwhelmingly',\n",
              "        'oppose', 'pompeo', 'electorate', 'rubio'], dtype='<U15'),\n",
              " array(['netanyahu', 'reuters', 'pentagon', 'diplomatic', 'taliban',\n",
              "        'pompeo', 'biden', 'bipartisan', 'administrations',\n",
              "        'unprecedented', 'sanctions', 'terrorism', 'negotiations', 'nato',\n",
              "        'protesters', 'presidential', 'iraq', 'treaty', 'disinformation',\n",
              "        'policies', 'deployed', 'staffer', 'demonstrators', 'cia',\n",
              "        'kushner', 'terrorists', 'putin', 'unclear', 'sen', 'convinced',\n",
              "        'giuliani', 'aimed', 'staffers', 'hamas', 'troubling',\n",
              "        'presidency', 'afp', 'denounced', 'alleges', 'crises', 'planned',\n",
              "        'distancing', 'undermining', 'embassy', 'bezos', 'security',\n",
              "        'meaning', 'partisan', 'politically', 'interference'], dtype='<U15'),\n",
              " array(['arrests', 'prosecutors', 'allegations', 'investigated',\n",
              "        'prosecutor', 'alleged', 'defendants', 'investigators',\n",
              "        'assaulted', 'suspects', 'indictment', 'investigative', 'systemic',\n",
              "        'testimony', 'investigations', 'allegedly', 'accused', 'shootings',\n",
              "        'criminals', 'sheriff', 'arrest', 'homicides', 'investigation',\n",
              "        'convicted', 'offenses', 'suspected', 'suspect', 'incarceration',\n",
              "        'arrested', 'detained', 'prosecution', 'acted', 'doj', 'pleaded',\n",
              "        'assaults', 'urban', 'investigating', 'police', 'questioned',\n",
              "        'reporter', 'hearings', 'misconduct', 'felony', 'taxpayers',\n",
              "        'charges', 'crimes', 'crime', 'immunity', 'criminal', 'murdered'],\n",
              "       dtype='<U15'),\n",
              " array(['naacp', 'racism', 'racial', 'advocated', 'supremacists', 'racist',\n",
              "        'systemic', 'controversy', 'kamala', 'blm', 'antifa',\n",
              "        'demonstrators', 'protests', 'minorities', 'pompeo', 'protesters',\n",
              "        'explicitly', 'activists', 'juneteenth', 'protesting', 'protester',\n",
              "        'inequality', 'confederate', 'leftist', 'minority', 'protest',\n",
              "        'supremacist', 'advocates', 'leftists', 'blacks', 'activist',\n",
              "        'unclear', 'discrimination', 'overwhelmingly', 'plaintiffs',\n",
              "        'allegations', 'oppose', 'democrats', 'charlottesville',\n",
              "        'federalist', 'based', 'sen', 'policies', 'opposing', 'reform',\n",
              "        'indigenous', 'dissent', 'dnc', 'definition', 'rioters'],\n",
              "       dtype='<U15'),\n",
              " array(['unvaccinated', 'vaccine', 'vaccinated', 'vaccines', 'vaccination',\n",
              "        'vaccinations', 'cdc', 'outbreaks', 'immune', 'pandemic', 'viral',\n",
              "        'outbreak', 'immunity', 'narrow', 'quarantine', 'flu', 'sars',\n",
              "        'shots', 'reuters', 'disinformation', 'anti', 'infectious',\n",
              "        'systemic', 'rasmussen', 'pfizer', 'risks', 'consensus',\n",
              "        'congresswoman', 'populations', 'convinced', 'frontline',\n",
              "        'protocols', 'staffers', 'fda', 'zuckerberg', 'billions',\n",
              "        'spreading', 'coverage', 'regulatory', 'safer', 'urged', 'afp',\n",
              "        'governments', 'recipients', 'endorsed', 'proven', 'based',\n",
              "        'administrations', 'authorities', 'mccarthy'], dtype='<U15'),\n",
              " array(['protesters', 'protester', 'demonstrators', 'protests', 'antifa',\n",
              "        'protesting', 'protest', 'rioters', 'rallies', 'demonstrations',\n",
              "        'charlottesville', 'blm', 'arrests', 'activists', 'riots',\n",
              "        'assaulted', 'supremacists', 'anarchists', 'leftists',\n",
              "        'insurrection', 'assaults', 'inauguration', 'shootings',\n",
              "        'citizens', 'tweeting', 'pompeo', 'based', 'political', 'unrest',\n",
              "        'leftist', 'inciting', 'organizers', 'dnc', 'staffer', 'activist',\n",
              "        'reporters', 'grassroots', 'cuomo', 'politico', 'terrorism',\n",
              "        'congresswoman', 'rally', 'plaintiffs', 'gatherings', 'liberals',\n",
              "        'officials', 'maga', 'dissent', 'extremism', 'systemic'],\n",
              "       dtype='<U15'),\n",
              " array(['impeachment', 'gop', 'impeach', 'manchin', 'bipartisan',\n",
              "        'reelection', 'republicans', 'partisan', 'democrats', 'mcconnell',\n",
              "        'republican', 'congressional', 'trump', 'politico', 'senate',\n",
              "        'presidency', 'schumer', 'filibuster', 'repeal', 'pompeo',\n",
              "        'pelosi', 'democrat', 'presidential', 'giuliani', 'electors',\n",
              "        'dnc', 'mueller', 'federalist', 'legislatures', 'resignation',\n",
              "        'congress', 'lawmakers', 'senators', 'rasmussen', 'appointees',\n",
              "        'elections', 'politically', 'staffer', 'democratic', 'bannon',\n",
              "        'electorate', 'inauguration', 'resign', 'elected', 'congresswoman',\n",
              "        'political', 'kamala', 'election', 'voters', 'kushner'],\n",
              "       dtype='<U15'),\n",
              " array(['biden', 'presidential', 'politico', 'giuliani', 'msnbc',\n",
              "        'democrats', 'staffer', 'cuomo', 'trump', 'gop', 'manchin',\n",
              "        'bipartisan', 'partisan', 'rasmussen', 'presidency', 'debates',\n",
              "        'debate', 'hillary', 'election', 'dnc', 'vice', 'interviewed',\n",
              "        'caucus', 'republicans', 'political', 'reelection', 'obama',\n",
              "        'staffers', 'politically', 'pompeo', 'reuters', 'interviews',\n",
              "        'politics', 'reporters', 'cnn', 'congresswoman', 'rubio', 'kamala',\n",
              "        'democrat', 'schumer', 'joe', 'conservatives', 'liberals',\n",
              "        'bernie', 'president', 'pelosi', 'electorate', 'barack', 'romney',\n",
              "        'clinton'], dtype='<U15'),\n",
              " array(['epa', 'moratorium', 'shortages', 'environmental', 'consensus',\n",
              "        'shortage', 'wildfires', 'catastrophic', 'affected', 'rasmussen',\n",
              "        'reuters', 'pollution', 'alarming', 'recession', 'caused',\n",
              "        'regulatory', 'unprecedented', 'disasters', 'emissions', 'surge',\n",
              "        'wildfire', 'climate', 'warming', 'convinced', 'disaster',\n",
              "        'billions', 'collapse', 'blamed', 'trending', 'crises', 'nuclear',\n",
              "        'bezos', 'sars', 'shutdowns', 'runoff', 'warnings', 'falling',\n",
              "        'systemic', 'coal', 'canceled', 'predicted', 'regulators',\n",
              "        'pipeline', 'drought', 'storms', 'causing', 'policies', 'backed',\n",
              "        'concerned', 'convention'], dtype='<U15'),\n",
              " array(['un', 'posed', 'an', 'of', 'based', 'provided', 'upon', 'has',\n",
              "        'said', 'dire', 'stated', 'et', 'following', 'such', 'one', 'on',\n",
              "        'so', 're', 'de', 'the', 'and', 'including', 'even', 'over',\n",
              "        'actually', 'granted', 'featured', 'in', 'along', 'while', 'way',\n",
              "        'not', 'surely', 'at', 'particular', 'what', 'made', 'la', 'as',\n",
              "        'article', 'addressed', 'to', 'into', 'resulted', 'from', 'chose',\n",
              "        'with', 'performed', 'exclusive', 'produced'], dtype='<U15'),\n",
              " array(['ballots', 'ballot', 'voters', 'absentee', 'voter', 'electoral',\n",
              "        'recount', 'polling', 'electors', 'voted', 'electorate',\n",
              "        'reelection', 'voting', 'elections', 'election', 'caucus', 'votes',\n",
              "        'statewide', 'manchin', 'turnout', 'vote', 'elected', 'citizens',\n",
              "        'legislatures', 'incumbent', 'governor', 'rasmussen', 'lawmakers',\n",
              "        'rigged', 'democracy', 'residents', 'states', 'elect',\n",
              "        'legislators', 'cuomo', 'democratic', 'democrats', 'counties',\n",
              "        'fraudulent', 'dnc', 'gop', 'bipartisan', 'protests',\n",
              "        'respondents', 'politico', 'overwhelmingly', 'plaintiffs',\n",
              "        'filibuster', 'democrat', 'fraud'], dtype='<U15'),\n",
              " array(['zuckerberg', 'tweeting', 'antitrust', 'bezos', 'reuters',\n",
              "        'trending', 'tweeted', 'tweets', 'twitter', 'unprecedented',\n",
              "        'advocated', 'protesters', 'fcc', 'tweet', 'antifa', 'publicly',\n",
              "        'leftist', 'protests', 'censorship', 'leftists', 'virtually',\n",
              "        'regulatory', 'allegations', 'sued', 'moratorium', 'oppose',\n",
              "        'staffer', 'explicitly', 'activists', 'rasmussen', 'dissent',\n",
              "        'based', 'unclear', 'lawsuits', 'overwhelmingly', 'protest',\n",
              "        'pompeo', 'demonstrators', 'consensus', 'disinformation',\n",
              "        'controversy', 'opposing', 'anti', 'protesting', 'authoritarian',\n",
              "        'feared', 'cnn', 'backlash', 'activist', 'wikileaks'], dtype='<U15'),\n",
              " array(['mueller', 'kushner', 'prosecutor', 'impeachment', 'indictment',\n",
              "        'pompeo', 'investigated', 'prosecutors', 'doj', 'investigations',\n",
              "        'bipartisan', 'impeach', 'allegations', 'politico', 'partisan',\n",
              "        'investigative', 'schumer', 'staffer', 'fbi', 'prosecution',\n",
              "        'investigators', 'investigation', 'attorneys', 'defendants',\n",
              "        'assange', 'lawmakers', 'trump', 'flynn', 'cuomo', 'manchin',\n",
              "        'alleged', 'giuliani', 'appointees', 'scandal', 'breach',\n",
              "        'testimony', 'dnc', 'disinformation', 'hearings', 'investigating',\n",
              "        'arrests', 'nixon', 'gop', 'reuters', 'kamala', 'accused',\n",
              "        'insider', 'mcconnell', 'attorney', 'bezos'], dtype='<U15'),\n",
              " array(['trump', 'presidential', 'melania', 'tweeting', 'kushner',\n",
              "        'donald', 'politico', 'inauguration', 'presidency', 'bannon',\n",
              "        'staffer', 'president', 'hillary', 'based', 'maga', 'pompeo',\n",
              "        'rallies', 'politically', 'giuliani', 'reuters', 'political',\n",
              "        'gop', 'dnc', 'tweets', 'rasmussen', 'mueller', 'clinton',\n",
              "        'staffers', 'repeal', 'impeachment', 'protesters', 'conservatives',\n",
              "        'partisan', 'bezos', 'overwhelmingly', 'leftists', 'msnbc',\n",
              "        'democrats', 'obama', 'cuomo', 'biden', 'tweet', 'liberals',\n",
              "        'outbreaks', 'obamacare', 'charlottesville', 'viral', 'cnn',\n",
              "        'politics', 'congresswoman'], dtype='<U15'),\n",
              " array(['advocated', 'abortion', 'lawmakers', 'oppose', 'repeal',\n",
              "        'legislative', 'transgender', 'legislature', 'abortions',\n",
              "        'legislators', 'manchin', 'legislatures', 'activists', 'kamala',\n",
              "        'roe', 'lgbtq', 'advocates', 'congresswoman', 'amendment',\n",
              "        'legislation', 'filibuster', 'justices', 'republicans', 'banning',\n",
              "        'discrimination', 'libertarian', 'against', 'federalist',\n",
              "        'constitutional', 'gop', 'activist', 'overturn', 'moratorium',\n",
              "        'bipartisan', 'republican', 'refusing', 'democrats', 'medicaid',\n",
              "        'democrat', 'protesters', 'reform', 'protections', 'backlash',\n",
              "        'congressional', 'statewide', 'judicial', 'sen', 'protests',\n",
              "        'controversy', 'protesting'], dtype='<U15'),\n",
              " array(['mayor', 'residents', 'homelessness', 'taxpayers', 'urban',\n",
              "        'systemic', 'giuliani', 'citizens', 'neighborhoods', 'statewide',\n",
              "        'enforcing', 'evictions', 'voters', 'sheriff', 'community',\n",
              "        'cuomo', 'newsom', 'governor', 'governing', 'gov', 'policing',\n",
              "        'taxpayer', 'lawmakers', 'plaintiffs', 'communities', 'protesters',\n",
              "        'legislators', 'protests', 'enforce', 'legislative', 'homeless',\n",
              "        'governors', 'protesting', 'legislature', 'haitians', 'reform',\n",
              "        'inequality', 'advocates', 'staffers', 'enforcement', 'ballot',\n",
              "        'metropolitan', 'officials', 'medicaid', 'reelection', 'resident',\n",
              "        'arrests', 'grassroots', 'alleges', 'moratorium'], dtype='<U15'),\n",
              " array(['politico', 'reuters', 'journalistic', 'msnbc', 'journalists',\n",
              "        'disinformation', 'partisan', 'journalist', 'columnist',\n",
              "        'reporters', 'propaganda', 'leftist', 'journalism', 'rasmussen',\n",
              "        'controversy', 'pompeo', 'limbaugh', 'npr', 'staffer', 'newsroom',\n",
              "        'centrist', 'political', 'overwhelmingly', 'tweeting', 'cnn',\n",
              "        'advocated', 'ideological', 'leftists', 'populist', 'tribune',\n",
              "        'reporter', 'editorial', 'based', 'widely', 'media', 'bezos',\n",
              "        'nbc', 'statesman', 'bipartisan', 'politically', 'protests',\n",
              "        'protesters', 'zuckerberg', 'dissent', 'bias', 'supremacists',\n",
              "        'activist', 'liberal', 'viral', 'opposing'], dtype='<U15'),\n",
              " array(['evangelicals', 'protesting', 'protesters', 'denounced',\n",
              "        'advocated', 'evangelical', 'protester', 'churches', 'rallies',\n",
              "        'gop', 'protests', 'troubling', 'oppose', 'demonstrators',\n",
              "        'pastor', 'shootings', 'feared', 'cult', 'extremism', 'distancing',\n",
              "        'elect', 'protest', 'based', 'republican', 'presidency',\n",
              "        'overwhelmingly', 'speeches', 'giuliani', 'fallen', 'haitians',\n",
              "        'political', 'systemic', 'radical', 'absentee', 'republicans',\n",
              "        'inequality', 'citizens', 'definition', 'unrest', 'reconciliation',\n",
              "        'elected', 'extremists', 'nonprofit', 'conservatives',\n",
              "        'controversy', 'supremacists', 'inaugural', 'fundamentally',\n",
              "        'strongly', 'politicians'], dtype='<U15'),\n",
              " array(['electors', 'electoral', 'recount', 'ballots', 'election',\n",
              "        'reelection', 'elections', 'manchin', 'voters', 'ballot',\n",
              "        'electorate', 'impeachment', 'trump', 'rasmussen', 'polling',\n",
              "        'politico', 'elected', 'caucus', 'presidency', 'gop',\n",
              "        'presidential', 'democrats', 'impeach', 'dnc', 'states',\n",
              "        'absentee', 'filibuster', 'democracy', 'votes', 'legislatures',\n",
              "        'rigged', 'elect', 'bipartisan', 'democratic', 'biden',\n",
              "        'republicans', 'cuomo', 'voted', 'giuliani', 'federalist', 'voter',\n",
              "        'partisan', 'statewide', 'maga', 'president', 'indictment',\n",
              "        'pompeo', 'democrat', 'majority', 'lawmakers'], dtype='<U15'))"
            ]
          },
          "execution_count": 30,
          "metadata": {},
          "output_type": "execute_result"
        }
      ],
      "source": [
        "model.topic_words_reduced[0], model.topic_words_reduced[1], model.topic_words_reduced[2], model.topic_words_reduced[3], model.topic_words_reduced[4], model.topic_words_reduced[5], model.topic_words_reduced[6], model.topic_words_reduced[7], model.topic_words_reduced[8], model.topic_words_reduced[9], model.topic_words_reduced[10], model.topic_words_reduced[11], model.topic_words_reduced[12], model.topic_words_reduced[13], model.topic_words_reduced[14], model.topic_words_reduced[15], model.topic_words_reduced[16], model.topic_words_reduced[17], model.topic_words_reduced[18], model.topic_words_reduced[19]"
      ]
    },
    {
      "cell_type": "code",
      "execution_count": null,
      "metadata": {
        "colab": {
          "base_uri": "https://localhost:8080/"
        },
        "id": "unbD82bJ4tai",
        "outputId": "d692b7a0-73a9-4ac8-e8e8-a30d9716fbb8"
      },
      "outputs": [
        {
          "data": {
            "text/plain": [
              "(array(['protests', 'protester', 'protesters', 'demonstrators',\n",
              "        'allegations', 'antifa', 'systemic', 'advocated', 'protesting',\n",
              "        'activists', 'assaulted', 'arrests', 'protest', 'based', 'pompeo',\n",
              "        'shootings', 'tweeting', 'controversy', 'naacp', 'supremacists',\n",
              "        'plaintiffs', 'kamala', 'staffer', 'advocates', 'activist',\n",
              "        'convinced', 'alleged', 'political', 'blm', 'rioters', 'staffers',\n",
              "        'defendants', 'citizens', 'sustained', 'explicitly', 'discussed',\n",
              "        'oppose', 'overwhelmingly', 'opposing', 'hearings', 'denounced',\n",
              "        'unclear', 'congresswoman', 'policies', 'investigated', 'partisan',\n",
              "        'politico', 'indictment', 'charlottesville', 'reporters'],\n",
              "       dtype='<U15'),\n",
              " array(['bipartisan', 'manchin', 'gop', 'reelection', 'democrats',\n",
              "        'politico', 'republicans', 'partisan', 'biden', 'filibuster',\n",
              "        'impeachment', 'trump', 'rasmussen', 'presidential', 'repeal',\n",
              "        'pompeo', 'mcconnell', 'presidency', 'voters', 'giuliani',\n",
              "        'impeach', 'lawmakers', 'dnc', 'congressional', 'democrat',\n",
              "        'republican', 'pelosi', 'cuomo', 'electors', 'staffer', 'schumer',\n",
              "        'caucus', 'senate', 'electorate', 'election', 'elections',\n",
              "        'politically', 'obamacare', 'congresswoman', 'federalist',\n",
              "        'legislative', 'democratic', 'elected', 'legislatures',\n",
              "        'overwhelmingly', 'conservatives', 'political', 'ballots',\n",
              "        'inauguration', 'kamala'], dtype='<U15'),\n",
              " array(['unvaccinated', 'outbreaks', 'pandemic', 'cdc', 'reuters',\n",
              "        'systemic', 'outbreak', 'convinced', 'sars', 'residents',\n",
              "        'affected', 'vaccines', 'moratorium', 'taxpayers', 'rasmussen',\n",
              "        'staffers', 'immune', 'vaccinated', 'vaccine', 'regulatory',\n",
              "        'alleges', 'quarantine', 'gov', 'epa', 'vaccination',\n",
              "        'administrations', 'populations', 'unprecedented', 'shootings',\n",
              "        'shortage', 'protesters', 'alarming', 'immunity', 'shortages',\n",
              "        'citizens', 'enforce', 'plaintiffs', 'vaccinations', 'flu',\n",
              "        'protests', 'viral', 'consensus', 'officials', 'planned',\n",
              "        'advocates', 'policies', 'recipients', 'governing', 'respondents',\n",
              "        'lawmakers'], dtype='<U15'))"
            ]
          },
          "execution_count": 31,
          "metadata": {},
          "output_type": "execute_result"
        }
      ],
      "source": [
        "topic_mapping = model.hierarchical_topic_reduction(num_topics=3)\n",
        "model.topic_words_reduced[0], model.topic_words_reduced[1], model.topic_words_reduced[2]"
      ]
    },
    {
      "cell_type": "code",
      "execution_count": null,
      "metadata": {
        "id": "ytNiJNl96jod"
      },
      "outputs": [],
      "source": [
        ""
      ]
    }
  ],
  "metadata": {
    "colab": {
      "collapsed_sections": [],
      "name": "top2vec.ipynb",
      "provenance": []
    },
    "kernelspec": {
      "display_name": "Python 3",
      "name": "python3"
    },
    "language_info": {
      "name": "python"
    }
  },
  "nbformat": 4,
  "nbformat_minor": 0
}